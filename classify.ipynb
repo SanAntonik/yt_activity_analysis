{
 "cells": [
  {
   "attachments": {},
   "cell_type": "markdown",
   "metadata": {},
   "source": [
    "# Classify your YouTube history"
   ]
  },
  {
   "attachments": {},
   "cell_type": "markdown",
   "metadata": {},
   "source": [
    "## Prepare data"
   ]
  },
  {
   "cell_type": "code",
   "execution_count": 2,
   "metadata": {},
   "outputs": [],
   "source": [
    "import pandas as pd\n",
    "import numpy as np\n",
    "import re\n",
    "import nltk\n",
    "\n",
    "from preparation import prepare_data\n",
    "from select_by_date_interval import select_by_date_interval"
   ]
  },
  {
   "cell_type": "code",
   "execution_count": 28,
   "metadata": {},
   "outputs": [
    {
     "data": {
      "text/html": [
       "<div>\n",
       "<style scoped>\n",
       "    .dataframe tbody tr th:only-of-type {\n",
       "        vertical-align: middle;\n",
       "    }\n",
       "\n",
       "    .dataframe tbody tr th {\n",
       "        vertical-align: top;\n",
       "    }\n",
       "\n",
       "    .dataframe thead th {\n",
       "        text-align: right;\n",
       "    }\n",
       "</style>\n",
       "<table border=\"1\" class=\"dataframe\">\n",
       "  <thead>\n",
       "    <tr style=\"text-align: right;\">\n",
       "      <th></th>\n",
       "      <th>video_title</th>\n",
       "      <th>channel_name</th>\n",
       "      <th>time</th>\n",
       "      <th>app</th>\n",
       "    </tr>\n",
       "  </thead>\n",
       "  <tbody>\n",
       "    <tr>\n",
       "      <th>1</th>\n",
       "      <td>Жбурляю</td>\n",
       "      <td>Харцизи</td>\n",
       "      <td>2023-04-04 14:59:28.805000+03:00</td>\n",
       "      <td>YouTube Music</td>\n",
       "    </tr>\n",
       "    <tr>\n",
       "      <th>2</th>\n",
       "      <td>Ліхтар</td>\n",
       "      <td>Rohata Zhaba</td>\n",
       "      <td>2023-04-04 14:25:11.177000+03:00</td>\n",
       "      <td>YouTube</td>\n",
       "    </tr>\n",
       "    <tr>\n",
       "      <th>3</th>\n",
       "      <td>Drinker's Chasers - ANOTHER Rey Skywalker Movie?!</td>\n",
       "      <td>Critical Drinker After Hours</td>\n",
       "      <td>2023-04-04 14:12:17.193000+03:00</td>\n",
       "      <td>YouTube</td>\n",
       "    </tr>\n",
       "    <tr>\n",
       "      <th>4</th>\n",
       "      <td>Test Your English Vocabulary: SHAPES &amp; PATTERNS</td>\n",
       "      <td>Learn English with Gill · engVid</td>\n",
       "      <td>2023-04-04 14:06:00.179000+03:00</td>\n",
       "      <td>YouTube</td>\n",
       "    </tr>\n",
       "    <tr>\n",
       "      <th>5</th>\n",
       "      <td>Finland joins NATO in historic shift prompted ...</td>\n",
       "      <td>FRANCE 24 English</td>\n",
       "      <td>2023-04-04 14:02:41.452000+03:00</td>\n",
       "      <td>YouTube</td>\n",
       "    </tr>\n",
       "    <tr>\n",
       "      <th>...</th>\n",
       "      <td>...</td>\n",
       "      <td>...</td>\n",
       "      <td>...</td>\n",
       "      <td>...</td>\n",
       "    </tr>\n",
       "    <tr>\n",
       "      <th>4391</th>\n",
       "      <td>Assassin's Creed Odyssey - Before You Buy</td>\n",
       "      <td>gameranx</td>\n",
       "      <td>2023-01-01 10:02:05.355000+02:00</td>\n",
       "      <td>YouTube</td>\n",
       "    </tr>\n",
       "    <tr>\n",
       "      <th>4392</th>\n",
       "      <td>#Ukraine's spy chief tells ABC News there will...</td>\n",
       "      <td>ABC News</td>\n",
       "      <td>2023-01-01 09:44:58.841000+02:00</td>\n",
       "      <td>YouTube</td>\n",
       "    </tr>\n",
       "    <tr>\n",
       "      <th>4393</th>\n",
       "      <td>Russian missile zooms over Kyiv before being s...</td>\n",
       "      <td>The Sun</td>\n",
       "      <td>2023-01-01 09:43:07.927000+02:00</td>\n",
       "      <td>YouTube</td>\n",
       "    </tr>\n",
       "    <tr>\n",
       "      <th>4394</th>\n",
       "      <td>YARMAK FT. TOF - МОЯ КРАЇНА</td>\n",
       "      <td>Yarmak Music</td>\n",
       "      <td>2023-01-01 00:07:14.838000+02:00</td>\n",
       "      <td>YouTube</td>\n",
       "    </tr>\n",
       "    <tr>\n",
       "      <th>4395</th>\n",
       "      <td>Гімн України</td>\n",
       "      <td>Oleksandr Ponomariov</td>\n",
       "      <td>2023-01-01 00:06:19.680000+02:00</td>\n",
       "      <td>YouTube</td>\n",
       "    </tr>\n",
       "  </tbody>\n",
       "</table>\n",
       "<p>4395 rows × 4 columns</p>\n",
       "</div>"
      ],
      "text/plain": [
       "                                            video_title  \\\n",
       "1                                               Жбурляю   \n",
       "2                                                Ліхтар   \n",
       "3     Drinker's Chasers - ANOTHER Rey Skywalker Movie?!   \n",
       "4       Test Your English Vocabulary: SHAPES & PATTERNS   \n",
       "5     Finland joins NATO in historic shift prompted ...   \n",
       "...                                                 ...   \n",
       "4391          Assassin's Creed Odyssey - Before You Buy   \n",
       "4392  #Ukraine's spy chief tells ABC News there will...   \n",
       "4393  Russian missile zooms over Kyiv before being s...   \n",
       "4394                        YARMAK FT. TOF - МОЯ КРАЇНА   \n",
       "4395                                       Гімн України   \n",
       "\n",
       "                          channel_name                             time  \\\n",
       "1                              Харцизи 2023-04-04 14:59:28.805000+03:00   \n",
       "2                         Rohata Zhaba 2023-04-04 14:25:11.177000+03:00   \n",
       "3         Critical Drinker After Hours 2023-04-04 14:12:17.193000+03:00   \n",
       "4     Learn English with Gill · engVid 2023-04-04 14:06:00.179000+03:00   \n",
       "5                    FRANCE 24 English 2023-04-04 14:02:41.452000+03:00   \n",
       "...                                ...                              ...   \n",
       "4391                          gameranx 2023-01-01 10:02:05.355000+02:00   \n",
       "4392                          ABC News 2023-01-01 09:44:58.841000+02:00   \n",
       "4393                           The Sun 2023-01-01 09:43:07.927000+02:00   \n",
       "4394                      Yarmak Music 2023-01-01 00:07:14.838000+02:00   \n",
       "4395              Oleksandr Ponomariov 2023-01-01 00:06:19.680000+02:00   \n",
       "\n",
       "                app  \n",
       "1     YouTube Music  \n",
       "2           YouTube  \n",
       "3           YouTube  \n",
       "4           YouTube  \n",
       "5           YouTube  \n",
       "...             ...  \n",
       "4391        YouTube  \n",
       "4392        YouTube  \n",
       "4393        YouTube  \n",
       "4394        YouTube  \n",
       "4395        YouTube  \n",
       "\n",
       "[4395 rows x 4 columns]"
      ]
     },
     "execution_count": 28,
     "metadata": {},
     "output_type": "execute_result"
    }
   ],
   "source": [
    "PATH = \"C:/Users/San/Documents/CS projects/yt_activity_analysis/data/Takeout/YouTube and YouTube Music/history/watch-history.json\"\n",
    "df = prepare_data(PATH)\n",
    "\n",
    "start_date = \"2023-01-01\"\n",
    "# end_date = \"2022-11-01\"\n",
    "df = select_by_date_interval(df, start=start_date)\n",
    "# df = df.loc[df[\"app\"] == \"YouTube Music\"] # if you wanna work only with YT Music data\n",
    "df"
   ]
  },
  {
   "cell_type": "markdown",
   "metadata": {},
   "source": [
    "Let's think about possible categories:\n",
    "- music - it's the easiest one because I can do it without any classification algo by treating every video in YouTube Music as a song. However, you'll need to handle songs you listened in YouTube app. Maybe just check if video_title or channel_name happened already in YouTube Music. If so, then it's a song as well\n",
    "- entertainment - games, movies, books, and other not so productive stuff\n",
    "- enlightment/learning - english, math, cs, books, and other subjects\n",
    "- politics - war, inner policies, and so on\n",
    "\n",
    "However, what if some videos combine different categories? For example, a history video can be both entertaining and enlightning"
   ]
  },
  {
   "cell_type": "markdown",
   "metadata": {},
   "source": [
    "Let's start with deciding whether the video is a song or not"
   ]
  },
  {
   "cell_type": "code",
   "execution_count": 4,
   "metadata": {},
   "outputs": [
    {
     "data": {
      "text/plain": [
       "YouTube          2507\n",
       "YouTube Music    1888\n",
       "Name: app, dtype: int64"
      ]
     },
     "execution_count": 4,
     "metadata": {},
     "output_type": "execute_result"
    }
   ],
   "source": [
    "df[\"app\"].value_counts()"
   ]
  },
  {
   "cell_type": "code",
   "execution_count": 29,
   "metadata": {},
   "outputs": [
    {
     "data": {
      "text/html": [
       "<div>\n",
       "<style scoped>\n",
       "    .dataframe tbody tr th:only-of-type {\n",
       "        vertical-align: middle;\n",
       "    }\n",
       "\n",
       "    .dataframe tbody tr th {\n",
       "        vertical-align: top;\n",
       "    }\n",
       "\n",
       "    .dataframe thead th {\n",
       "        text-align: right;\n",
       "    }\n",
       "</style>\n",
       "<table border=\"1\" class=\"dataframe\">\n",
       "  <thead>\n",
       "    <tr style=\"text-align: right;\">\n",
       "      <th></th>\n",
       "      <th>video_title</th>\n",
       "      <th>channel_name</th>\n",
       "      <th>time</th>\n",
       "      <th>app</th>\n",
       "      <th>category</th>\n",
       "    </tr>\n",
       "  </thead>\n",
       "  <tbody>\n",
       "    <tr>\n",
       "      <th>1</th>\n",
       "      <td>Жбурляю</td>\n",
       "      <td>Харцизи</td>\n",
       "      <td>2023-04-04 14:59:28.805000+03:00</td>\n",
       "      <td>YouTube Music</td>\n",
       "      <td>Music</td>\n",
       "    </tr>\n",
       "    <tr>\n",
       "      <th>2</th>\n",
       "      <td>Ліхтар</td>\n",
       "      <td>Rohata Zhaba</td>\n",
       "      <td>2023-04-04 14:25:11.177000+03:00</td>\n",
       "      <td>YouTube</td>\n",
       "      <td>Not Music</td>\n",
       "    </tr>\n",
       "    <tr>\n",
       "      <th>3</th>\n",
       "      <td>Drinker's Chasers - ANOTHER Rey Skywalker Movie?!</td>\n",
       "      <td>Critical Drinker After Hours</td>\n",
       "      <td>2023-04-04 14:12:17.193000+03:00</td>\n",
       "      <td>YouTube</td>\n",
       "      <td>Not Music</td>\n",
       "    </tr>\n",
       "  </tbody>\n",
       "</table>\n",
       "</div>"
      ],
      "text/plain": [
       "                                         video_title  \\\n",
       "1                                            Жбурляю   \n",
       "2                                             Ліхтар   \n",
       "3  Drinker's Chasers - ANOTHER Rey Skywalker Movie?!   \n",
       "\n",
       "                   channel_name                             time  \\\n",
       "1                       Харцизи 2023-04-04 14:59:28.805000+03:00   \n",
       "2                  Rohata Zhaba 2023-04-04 14:25:11.177000+03:00   \n",
       "3  Critical Drinker After Hours 2023-04-04 14:12:17.193000+03:00   \n",
       "\n",
       "             app   category  \n",
       "1  YouTube Music      Music  \n",
       "2        YouTube  Not Music  \n",
       "3        YouTube  Not Music  "
      ]
     },
     "execution_count": 29,
     "metadata": {},
     "output_type": "execute_result"
    }
   ],
   "source": [
    "def if_YT_Music(row):\n",
    "    if row[\"app\"] == \"YouTube Music\":\n",
    "        category = \"Music\"\n",
    "    else:\n",
    "        category = \"Not Music\"\n",
    "    return category\n",
    "\n",
    "def if_in_YT_Music(row):\n",
    "    # if the channel_name or video_title were encountered in\n",
    "    # YT Music app before, assign \"Music\" category to the video\n",
    "    category = row[\"category\"]\n",
    "    if row[\"category\"] == \"Not Music\":\n",
    "        if row[\"channel_name\"] in music_df[\"channel_name\"].values:\n",
    "            category = \"Music\"\n",
    "        elif row[\"video_title\"] in music_df[\"video_title\"].values:\n",
    "            category = \"Music\"\n",
    "    return category\n",
    "\n",
    "df[\"category\"] = df.apply(if_YT_Music, axis=1)\n",
    "music_df = df.loc[df[\"app\"] == \"YouTube Music\"]\n",
    "df[\"category\"] = df.apply(if_in_YT_Music, axis=1)\n",
    "df.head(3)"
   ]
  },
  {
   "cell_type": "markdown",
   "metadata": {},
   "source": [
    "Well, with several rules (that is a Rule-based system or smt), I got 129 more videos classified as songs. However, there are game/movie soundtrack collections classified as 'Not Music'"
   ]
  },
  {
   "cell_type": "code",
   "execution_count": 30,
   "metadata": {},
   "outputs": [
    {
     "data": {
      "text/plain": [
       "Not Music    2378\n",
       "Music        2017\n",
       "Name: category, dtype: int64"
      ]
     },
     "execution_count": 30,
     "metadata": {},
     "output_type": "execute_result"
    }
   ],
   "source": [
    "df[\"category\"].value_counts()"
   ]
  },
  {
   "cell_type": "code",
   "execution_count": 34,
   "metadata": {},
   "outputs": [
    {
     "data": {
      "text/html": [
       "<div>\n",
       "<style scoped>\n",
       "    .dataframe tbody tr th:only-of-type {\n",
       "        vertical-align: middle;\n",
       "    }\n",
       "\n",
       "    .dataframe tbody tr th {\n",
       "        vertical-align: top;\n",
       "    }\n",
       "\n",
       "    .dataframe thead th {\n",
       "        text-align: right;\n",
       "    }\n",
       "</style>\n",
       "<table border=\"1\" class=\"dataframe\">\n",
       "  <thead>\n",
       "    <tr style=\"text-align: right;\">\n",
       "      <th></th>\n",
       "      <th>video_title</th>\n",
       "      <th>channel_name</th>\n",
       "      <th>time</th>\n",
       "      <th>app</th>\n",
       "      <th>category</th>\n",
       "      <th>preproc</th>\n",
       "    </tr>\n",
       "  </thead>\n",
       "  <tbody>\n",
       "    <tr>\n",
       "      <th>3</th>\n",
       "      <td>Drinker's Chasers - ANOTHER Rey Skywalker Movie?!</td>\n",
       "      <td>Critical Drinker After Hours</td>\n",
       "      <td>2023-04-04 14:12:17.193000+03:00</td>\n",
       "      <td>YouTube</td>\n",
       "      <td>Not Music</td>\n",
       "      <td>drinkers chasers another rey skywalker movie</td>\n",
       "    </tr>\n",
       "    <tr>\n",
       "      <th>4</th>\n",
       "      <td>Test Your English Vocabulary: SHAPES &amp; PATTERNS</td>\n",
       "      <td>Learn English with Gill · engVid</td>\n",
       "      <td>2023-04-04 14:06:00.179000+03:00</td>\n",
       "      <td>YouTube</td>\n",
       "      <td>Not Music</td>\n",
       "      <td>test english vocabulary shapes patterns</td>\n",
       "    </tr>\n",
       "    <tr>\n",
       "      <th>5</th>\n",
       "      <td>Finland joins NATO in historic shift prompted ...</td>\n",
       "      <td>FRANCE 24 English</td>\n",
       "      <td>2023-04-04 14:02:41.452000+03:00</td>\n",
       "      <td>YouTube</td>\n",
       "      <td>Not Music</td>\n",
       "      <td>finland joins nato historic shift prompted ukr...</td>\n",
       "    </tr>\n",
       "  </tbody>\n",
       "</table>\n",
       "</div>"
      ],
      "text/plain": [
       "                                         video_title  \\\n",
       "3  Drinker's Chasers - ANOTHER Rey Skywalker Movie?!   \n",
       "4    Test Your English Vocabulary: SHAPES & PATTERNS   \n",
       "5  Finland joins NATO in historic shift prompted ...   \n",
       "\n",
       "                       channel_name                             time      app  \\\n",
       "3      Critical Drinker After Hours 2023-04-04 14:12:17.193000+03:00  YouTube   \n",
       "4  Learn English with Gill · engVid 2023-04-04 14:06:00.179000+03:00  YouTube   \n",
       "5                 FRANCE 24 English 2023-04-04 14:02:41.452000+03:00  YouTube   \n",
       "\n",
       "    category                                            preproc  \n",
       "3  Not Music       drinkers chasers another rey skywalker movie  \n",
       "4  Not Music            test english vocabulary shapes patterns  \n",
       "5  Not Music  finland joins nato historic shift prompted ukr...  "
      ]
     },
     "execution_count": 34,
     "metadata": {},
     "output_type": "execute_result"
    }
   ],
   "source": [
    "def preprocess(text):\n",
    "    sentences = re.split(\"[\\n\\t]\", text)\n",
    "    # remove empty lines\n",
    "    sentences = [sentence for sentence in sentences if sentence]\n",
    "    # further cleaning\n",
    "    sentences = [re.sub(r\"[^0-9a-zA-Z\\s]\", \"\", sentence, re.I|re.A).lower() for sentence in sentences]\n",
    "    sentences = [sentence.lower().strip() for sentence in sentences]\n",
    "    wpt = nltk.WordPunctTokenizer()\n",
    "    stop_words = nltk.corpus.stopwords.words(\"english\")\n",
    "    output = []\n",
    "    for sentence in sentences:\n",
    "        tokens = wpt.tokenize(sentence)\n",
    "        filtered_tokens = [token for token in tokens if token not in stop_words]\n",
    "        output.append(\" \".join(filtered_tokens))\n",
    "    return \" \".join(output)\n",
    "\n",
    "df[\"preproc\"] = df[\"video_title\"].apply(preprocess)\n",
    "# if we have print 'preproc' col, we'll see that non-english text is not properly handled\n",
    "# After several failed attempts at handling non-english text, it was decided to drop rows\n",
    "# where 'preproc' col has fewer than 4 chars\n",
    "df = df[df['preproc'].str.len() >= 4]\n",
    "df.head(3)"
   ]
  },
  {
   "attachments": {},
   "cell_type": "markdown",
   "metadata": {},
   "source": [
    "# CLASSIFICATION WITH ALREADY PREPARED SAMPLE"
   ]
  },
  {
   "cell_type": "code",
   "execution_count": 25,
   "metadata": {},
   "outputs": [
    {
     "ename": "FileNotFoundError",
     "evalue": "[Errno 2] No such file or directory: 'sample_1000.csv'",
     "output_type": "error",
     "traceback": [
      "\u001b[1;31m---------------------------------------------------------------------------\u001b[0m",
      "\u001b[1;31mFileNotFoundError\u001b[0m                         Traceback (most recent call last)",
      "\u001b[1;32mc:\\Users\\San\\Documents\\CS projects\\yt_activity_analysis\\classify.ipynb Cell 37\u001b[0m in \u001b[0;36m<module>\u001b[1;34m\u001b[0m\n\u001b[1;32m----> <a href='vscode-notebook-cell:/c%3A/Users/San/Documents/CS%20projects/yt_activity_analysis/classify.ipynb#X50sZmlsZQ%3D%3D?line=0'>1</a>\u001b[0m df \u001b[39m=\u001b[39m pd\u001b[39m.\u001b[39;49mread_csv(\u001b[39m'\u001b[39;49m\u001b[39msample_1000.csv\u001b[39;49m\u001b[39m'\u001b[39;49m, index_col\u001b[39m=\u001b[39;49m\u001b[39m0\u001b[39;49m)\n\u001b[0;32m      <a href='vscode-notebook-cell:/c%3A/Users/San/Documents/CS%20projects/yt_activity_analysis/classify.ipynb#X50sZmlsZQ%3D%3D?line=1'>2</a>\u001b[0m df\u001b[39m.\u001b[39mtail(\u001b[39m3\u001b[39m)\n",
      "File \u001b[1;32mc:\\Users\\San\\AppData\\Local\\Programs\\Python\\Python310\\lib\\site-packages\\pandas\\util\\_decorators.py:311\u001b[0m, in \u001b[0;36mdeprecate_nonkeyword_arguments.<locals>.decorate.<locals>.wrapper\u001b[1;34m(*args, **kwargs)\u001b[0m\n\u001b[0;32m    305\u001b[0m \u001b[39mif\u001b[39;00m \u001b[39mlen\u001b[39m(args) \u001b[39m>\u001b[39m num_allow_args:\n\u001b[0;32m    306\u001b[0m     warnings\u001b[39m.\u001b[39mwarn(\n\u001b[0;32m    307\u001b[0m         msg\u001b[39m.\u001b[39mformat(arguments\u001b[39m=\u001b[39marguments),\n\u001b[0;32m    308\u001b[0m         \u001b[39mFutureWarning\u001b[39;00m,\n\u001b[0;32m    309\u001b[0m         stacklevel\u001b[39m=\u001b[39mstacklevel,\n\u001b[0;32m    310\u001b[0m     )\n\u001b[1;32m--> 311\u001b[0m \u001b[39mreturn\u001b[39;00m func(\u001b[39m*\u001b[39margs, \u001b[39m*\u001b[39m\u001b[39m*\u001b[39mkwargs)\n",
      "File \u001b[1;32mc:\\Users\\San\\AppData\\Local\\Programs\\Python\\Python310\\lib\\site-packages\\pandas\\io\\parsers\\readers.py:680\u001b[0m, in \u001b[0;36mread_csv\u001b[1;34m(filepath_or_buffer, sep, delimiter, header, names, index_col, usecols, squeeze, prefix, mangle_dupe_cols, dtype, engine, converters, true_values, false_values, skipinitialspace, skiprows, skipfooter, nrows, na_values, keep_default_na, na_filter, verbose, skip_blank_lines, parse_dates, infer_datetime_format, keep_date_col, date_parser, dayfirst, cache_dates, iterator, chunksize, compression, thousands, decimal, lineterminator, quotechar, quoting, doublequote, escapechar, comment, encoding, encoding_errors, dialect, error_bad_lines, warn_bad_lines, on_bad_lines, delim_whitespace, low_memory, memory_map, float_precision, storage_options)\u001b[0m\n\u001b[0;32m    665\u001b[0m kwds_defaults \u001b[39m=\u001b[39m _refine_defaults_read(\n\u001b[0;32m    666\u001b[0m     dialect,\n\u001b[0;32m    667\u001b[0m     delimiter,\n\u001b[1;32m   (...)\u001b[0m\n\u001b[0;32m    676\u001b[0m     defaults\u001b[39m=\u001b[39m{\u001b[39m\"\u001b[39m\u001b[39mdelimiter\u001b[39m\u001b[39m\"\u001b[39m: \u001b[39m\"\u001b[39m\u001b[39m,\u001b[39m\u001b[39m\"\u001b[39m},\n\u001b[0;32m    677\u001b[0m )\n\u001b[0;32m    678\u001b[0m kwds\u001b[39m.\u001b[39mupdate(kwds_defaults)\n\u001b[1;32m--> 680\u001b[0m \u001b[39mreturn\u001b[39;00m _read(filepath_or_buffer, kwds)\n",
      "File \u001b[1;32mc:\\Users\\San\\AppData\\Local\\Programs\\Python\\Python310\\lib\\site-packages\\pandas\\io\\parsers\\readers.py:575\u001b[0m, in \u001b[0;36m_read\u001b[1;34m(filepath_or_buffer, kwds)\u001b[0m\n\u001b[0;32m    572\u001b[0m _validate_names(kwds\u001b[39m.\u001b[39mget(\u001b[39m\"\u001b[39m\u001b[39mnames\u001b[39m\u001b[39m\"\u001b[39m, \u001b[39mNone\u001b[39;00m))\n\u001b[0;32m    574\u001b[0m \u001b[39m# Create the parser.\u001b[39;00m\n\u001b[1;32m--> 575\u001b[0m parser \u001b[39m=\u001b[39m TextFileReader(filepath_or_buffer, \u001b[39m*\u001b[39m\u001b[39m*\u001b[39mkwds)\n\u001b[0;32m    577\u001b[0m \u001b[39mif\u001b[39;00m chunksize \u001b[39mor\u001b[39;00m iterator:\n\u001b[0;32m    578\u001b[0m     \u001b[39mreturn\u001b[39;00m parser\n",
      "File \u001b[1;32mc:\\Users\\San\\AppData\\Local\\Programs\\Python\\Python310\\lib\\site-packages\\pandas\\io\\parsers\\readers.py:933\u001b[0m, in \u001b[0;36mTextFileReader.__init__\u001b[1;34m(self, f, engine, **kwds)\u001b[0m\n\u001b[0;32m    930\u001b[0m     \u001b[39mself\u001b[39m\u001b[39m.\u001b[39moptions[\u001b[39m\"\u001b[39m\u001b[39mhas_index_names\u001b[39m\u001b[39m\"\u001b[39m] \u001b[39m=\u001b[39m kwds[\u001b[39m\"\u001b[39m\u001b[39mhas_index_names\u001b[39m\u001b[39m\"\u001b[39m]\n\u001b[0;32m    932\u001b[0m \u001b[39mself\u001b[39m\u001b[39m.\u001b[39mhandles: IOHandles \u001b[39m|\u001b[39m \u001b[39mNone\u001b[39;00m \u001b[39m=\u001b[39m \u001b[39mNone\u001b[39;00m\n\u001b[1;32m--> 933\u001b[0m \u001b[39mself\u001b[39m\u001b[39m.\u001b[39m_engine \u001b[39m=\u001b[39m \u001b[39mself\u001b[39;49m\u001b[39m.\u001b[39;49m_make_engine(f, \u001b[39mself\u001b[39;49m\u001b[39m.\u001b[39;49mengine)\n",
      "File \u001b[1;32mc:\\Users\\San\\AppData\\Local\\Programs\\Python\\Python310\\lib\\site-packages\\pandas\\io\\parsers\\readers.py:1217\u001b[0m, in \u001b[0;36mTextFileReader._make_engine\u001b[1;34m(self, f, engine)\u001b[0m\n\u001b[0;32m   1213\u001b[0m     mode \u001b[39m=\u001b[39m \u001b[39m\"\u001b[39m\u001b[39mrb\u001b[39m\u001b[39m\"\u001b[39m\n\u001b[0;32m   1214\u001b[0m \u001b[39m# error: No overload variant of \"get_handle\" matches argument types\u001b[39;00m\n\u001b[0;32m   1215\u001b[0m \u001b[39m# \"Union[str, PathLike[str], ReadCsvBuffer[bytes], ReadCsvBuffer[str]]\"\u001b[39;00m\n\u001b[0;32m   1216\u001b[0m \u001b[39m# , \"str\", \"bool\", \"Any\", \"Any\", \"Any\", \"Any\", \"Any\"\u001b[39;00m\n\u001b[1;32m-> 1217\u001b[0m \u001b[39mself\u001b[39m\u001b[39m.\u001b[39mhandles \u001b[39m=\u001b[39m get_handle(  \u001b[39m# type: ignore[call-overload]\u001b[39;49;00m\n\u001b[0;32m   1218\u001b[0m     f,\n\u001b[0;32m   1219\u001b[0m     mode,\n\u001b[0;32m   1220\u001b[0m     encoding\u001b[39m=\u001b[39;49m\u001b[39mself\u001b[39;49m\u001b[39m.\u001b[39;49moptions\u001b[39m.\u001b[39;49mget(\u001b[39m\"\u001b[39;49m\u001b[39mencoding\u001b[39;49m\u001b[39m\"\u001b[39;49m, \u001b[39mNone\u001b[39;49;00m),\n\u001b[0;32m   1221\u001b[0m     compression\u001b[39m=\u001b[39;49m\u001b[39mself\u001b[39;49m\u001b[39m.\u001b[39;49moptions\u001b[39m.\u001b[39;49mget(\u001b[39m\"\u001b[39;49m\u001b[39mcompression\u001b[39;49m\u001b[39m\"\u001b[39;49m, \u001b[39mNone\u001b[39;49;00m),\n\u001b[0;32m   1222\u001b[0m     memory_map\u001b[39m=\u001b[39;49m\u001b[39mself\u001b[39;49m\u001b[39m.\u001b[39;49moptions\u001b[39m.\u001b[39;49mget(\u001b[39m\"\u001b[39;49m\u001b[39mmemory_map\u001b[39;49m\u001b[39m\"\u001b[39;49m, \u001b[39mFalse\u001b[39;49;00m),\n\u001b[0;32m   1223\u001b[0m     is_text\u001b[39m=\u001b[39;49mis_text,\n\u001b[0;32m   1224\u001b[0m     errors\u001b[39m=\u001b[39;49m\u001b[39mself\u001b[39;49m\u001b[39m.\u001b[39;49moptions\u001b[39m.\u001b[39;49mget(\u001b[39m\"\u001b[39;49m\u001b[39mencoding_errors\u001b[39;49m\u001b[39m\"\u001b[39;49m, \u001b[39m\"\u001b[39;49m\u001b[39mstrict\u001b[39;49m\u001b[39m\"\u001b[39;49m),\n\u001b[0;32m   1225\u001b[0m     storage_options\u001b[39m=\u001b[39;49m\u001b[39mself\u001b[39;49m\u001b[39m.\u001b[39;49moptions\u001b[39m.\u001b[39;49mget(\u001b[39m\"\u001b[39;49m\u001b[39mstorage_options\u001b[39;49m\u001b[39m\"\u001b[39;49m, \u001b[39mNone\u001b[39;49;00m),\n\u001b[0;32m   1226\u001b[0m )\n\u001b[0;32m   1227\u001b[0m \u001b[39massert\u001b[39;00m \u001b[39mself\u001b[39m\u001b[39m.\u001b[39mhandles \u001b[39mis\u001b[39;00m \u001b[39mnot\u001b[39;00m \u001b[39mNone\u001b[39;00m\n\u001b[0;32m   1228\u001b[0m f \u001b[39m=\u001b[39m \u001b[39mself\u001b[39m\u001b[39m.\u001b[39mhandles\u001b[39m.\u001b[39mhandle\n",
      "File \u001b[1;32mc:\\Users\\San\\AppData\\Local\\Programs\\Python\\Python310\\lib\\site-packages\\pandas\\io\\common.py:789\u001b[0m, in \u001b[0;36mget_handle\u001b[1;34m(path_or_buf, mode, encoding, compression, memory_map, is_text, errors, storage_options)\u001b[0m\n\u001b[0;32m    784\u001b[0m \u001b[39melif\u001b[39;00m \u001b[39misinstance\u001b[39m(handle, \u001b[39mstr\u001b[39m):\n\u001b[0;32m    785\u001b[0m     \u001b[39m# Check whether the filename is to be opened in binary mode.\u001b[39;00m\n\u001b[0;32m    786\u001b[0m     \u001b[39m# Binary mode does not support 'encoding' and 'newline'.\u001b[39;00m\n\u001b[0;32m    787\u001b[0m     \u001b[39mif\u001b[39;00m ioargs\u001b[39m.\u001b[39mencoding \u001b[39mand\u001b[39;00m \u001b[39m\"\u001b[39m\u001b[39mb\u001b[39m\u001b[39m\"\u001b[39m \u001b[39mnot\u001b[39;00m \u001b[39min\u001b[39;00m ioargs\u001b[39m.\u001b[39mmode:\n\u001b[0;32m    788\u001b[0m         \u001b[39m# Encoding\u001b[39;00m\n\u001b[1;32m--> 789\u001b[0m         handle \u001b[39m=\u001b[39m \u001b[39mopen\u001b[39;49m(\n\u001b[0;32m    790\u001b[0m             handle,\n\u001b[0;32m    791\u001b[0m             ioargs\u001b[39m.\u001b[39;49mmode,\n\u001b[0;32m    792\u001b[0m             encoding\u001b[39m=\u001b[39;49mioargs\u001b[39m.\u001b[39;49mencoding,\n\u001b[0;32m    793\u001b[0m             errors\u001b[39m=\u001b[39;49merrors,\n\u001b[0;32m    794\u001b[0m             newline\u001b[39m=\u001b[39;49m\u001b[39m\"\u001b[39;49m\u001b[39m\"\u001b[39;49m,\n\u001b[0;32m    795\u001b[0m         )\n\u001b[0;32m    796\u001b[0m     \u001b[39melse\u001b[39;00m:\n\u001b[0;32m    797\u001b[0m         \u001b[39m# Binary mode\u001b[39;00m\n\u001b[0;32m    798\u001b[0m         handle \u001b[39m=\u001b[39m \u001b[39mopen\u001b[39m(handle, ioargs\u001b[39m.\u001b[39mmode)\n",
      "\u001b[1;31mFileNotFoundError\u001b[0m: [Errno 2] No such file or directory: 'sample_1000.csv'"
     ]
    }
   ],
   "source": [
    "df = pd.read_csv('preproc_01Jan23_to_04Apr23_data.csv', index_col=0)\n",
    "df.tail(3)"
   ]
  },
  {
   "cell_type": "code",
   "execution_count": null,
   "metadata": {},
   "outputs": [
    {
     "data": {
      "text/plain": [
       "Music       497\n",
       "Rec         195\n",
       "Politics    158\n",
       "Studies     120\n",
       "Sport        30\n",
       "Name: category, dtype: int64"
      ]
     },
     "execution_count": 141,
     "metadata": {},
     "output_type": "execute_result"
    }
   ],
   "source": [
    "df[\"category\"].value_counts()"
   ]
  },
  {
   "cell_type": "code",
   "execution_count": null,
   "metadata": {},
   "outputs": [
    {
     "data": {
      "text/html": [
       "<div>\n",
       "<style scoped>\n",
       "    .dataframe tbody tr th:only-of-type {\n",
       "        vertical-align: middle;\n",
       "    }\n",
       "\n",
       "    .dataframe tbody tr th {\n",
       "        vertical-align: top;\n",
       "    }\n",
       "\n",
       "    .dataframe thead th {\n",
       "        text-align: right;\n",
       "    }\n",
       "</style>\n",
       "<table border=\"1\" class=\"dataframe\">\n",
       "  <thead>\n",
       "    <tr style=\"text-align: right;\">\n",
       "      <th></th>\n",
       "      <th>video_title</th>\n",
       "      <th>channel_name</th>\n",
       "      <th>app</th>\n",
       "      <th>category</th>\n",
       "      <th>prepped</th>\n",
       "      <th>time</th>\n",
       "      <th>target_label</th>\n",
       "    </tr>\n",
       "  </thead>\n",
       "  <tbody>\n",
       "    <tr>\n",
       "      <th>997</th>\n",
       "      <td>Would I Like to Visit Ukraine? - April Q&amp;A</td>\n",
       "      <td>Jake Broe</td>\n",
       "      <td>YouTube</td>\n",
       "      <td>Politics</td>\n",
       "      <td>would like visit ukraine april qa</td>\n",
       "      <td>2023-04-04 10:47:03.150000+03:00</td>\n",
       "      <td>2</td>\n",
       "    </tr>\n",
       "    <tr>\n",
       "      <th>998</th>\n",
       "      <td>Deep Rock Galactic - 5th Anniversary Space Rig...</td>\n",
       "      <td>Thai</td>\n",
       "      <td>YouTube</td>\n",
       "      <td>Music</td>\n",
       "      <td>deep rock galactic 5th anniversary space rig m...</td>\n",
       "      <td>2023-04-04 12:47:36.411000+03:00</td>\n",
       "      <td>0</td>\n",
       "    </tr>\n",
       "    <tr>\n",
       "      <th>999</th>\n",
       "      <td>Drinker's Chasers - ANOTHER Rey Skywalker Movie?!</td>\n",
       "      <td>Critical Drinker After Hours</td>\n",
       "      <td>YouTube</td>\n",
       "      <td>Rec</td>\n",
       "      <td>drinkers chasers another rey skywalker movie</td>\n",
       "      <td>2023-04-04 14:12:17.193000+03:00</td>\n",
       "      <td>1</td>\n",
       "    </tr>\n",
       "  </tbody>\n",
       "</table>\n",
       "</div>"
      ],
      "text/plain": [
       "                                           video_title  \\\n",
       "997         Would I Like to Visit Ukraine? - April Q&A   \n",
       "998  Deep Rock Galactic - 5th Anniversary Space Rig...   \n",
       "999  Drinker's Chasers - ANOTHER Rey Skywalker Movie?!   \n",
       "\n",
       "                     channel_name      app  category  \\\n",
       "997                     Jake Broe  YouTube  Politics   \n",
       "998                          Thai  YouTube     Music   \n",
       "999  Critical Drinker After Hours  YouTube       Rec   \n",
       "\n",
       "                                               prepped  \\\n",
       "997                  would like visit ukraine april qa   \n",
       "998  deep rock galactic 5th anniversary space rig m...   \n",
       "999       drinkers chasers another rey skywalker movie   \n",
       "\n",
       "                                 time  target_label  \n",
       "997  2023-04-04 10:47:03.150000+03:00             2  \n",
       "998  2023-04-04 12:47:36.411000+03:00             0  \n",
       "999  2023-04-04 14:12:17.193000+03:00             1  "
      ]
     },
     "execution_count": 148,
     "metadata": {},
     "output_type": "execute_result"
    }
   ],
   "source": [
    "# df['target_label'] = pd.factorize(df['category'])[0]\n",
    "df[\"target_label\"] = df[\"category\"].map({\n",
    "    \"Music\": 0,\n",
    "    \"Rec\": 1,\n",
    "    \"Politics\": 2,\n",
    "    \"Studies\": 3,\n",
    "    \"Sport\": 4\n",
    "})\n",
    "df.tail(3)"
   ]
  },
  {
   "cell_type": "code",
   "execution_count": null,
   "metadata": {},
   "outputs": [
    {
     "data": {
      "text/plain": [
       "0    497\n",
       "1    195\n",
       "2    158\n",
       "3    120\n",
       "4     30\n",
       "Name: target_label, dtype: int64"
      ]
     },
     "execution_count": 143,
     "metadata": {},
     "output_type": "execute_result"
    }
   ],
   "source": [
    "df[\"target_label\"].value_counts()"
   ]
  },
  {
   "attachments": {},
   "cell_type": "markdown",
   "metadata": {},
   "source": [
    "At last, time to try classification"
   ]
  },
  {
   "cell_type": "code",
   "execution_count": null,
   "metadata": {},
   "outputs": [
    {
     "data": {
      "text/plain": [
       "((800,), (200,))"
      ]
     },
     "execution_count": 144,
     "metadata": {},
     "output_type": "execute_result"
    }
   ],
   "source": [
    "from sklearn.model_selection import train_test_split\n",
    "\n",
    "train_corpus, test_corpus, train_label_nums, test_label_nums, train_label_names, test_label_names = train_test_split(\n",
    "    np.array(df['preproc']), np.array(df['target_label']), np.array(df['category']), test_size=0.2, random_state=0)\n",
    "train_corpus.shape, test_corpus.shape"
   ]
  },
  {
   "cell_type": "code",
   "execution_count": null,
   "metadata": {},
   "outputs": [],
   "source": [
    "from sklearn.model_selection import cross_val_score\n",
    "\n",
    "from sklearn.feature_extraction.text import TfidfVectorizer\n",
    "tv = TfidfVectorizer(min_df=0., max_df=1., norm='l2', use_idf=True, smooth_idf=True)\n",
    "tv_train_features = tv.fit_transform(train_corpus)\n",
    "tv_test_features = tv.transform(test_corpus)"
   ]
  },
  {
   "cell_type": "code",
   "execution_count": null,
   "metadata": {},
   "outputs": [
    {
     "name": "stdout",
     "output_type": "stream",
     "text": [
      "CV Accuracy (5-fold): [0.84375 0.81875 0.80625 0.7875  0.79375]\n",
      "Mean CV Accuracy: 0.8099999999999999\n",
      "Test Accuracy: 0.795\n"
     ]
    }
   ],
   "source": [
    "from sklearn.svm import LinearSVC\n",
    "svm = LinearSVC(penalty='l2', C=1, random_state=0)\n",
    "svm.fit(tv_train_features, train_label_names)\n",
    "svm_bow_tv_scores = cross_val_score(svm, tv_train_features, train_label_names, cv=5)\n",
    "svm_bow_tv_mean_score = np.mean(svm_bow_tv_scores)\n",
    "\n",
    "print('CV Accuracy (5-fold):', svm_bow_tv_scores)\n",
    "print('Mean CV Accuracy:', svm_bow_tv_mean_score)\n",
    "svm_bow_test_score = svm.score(tv_test_features, test_label_names)\n",
    "print('Test Accuracy:', svm_bow_test_score)"
   ]
  },
  {
   "cell_type": "code",
   "execution_count": null,
   "metadata": {},
   "outputs": [
    {
     "name": "stdout",
     "output_type": "stream",
     "text": [
      "              precision    recall  f1-score   support\n",
      "\n",
      "     Studies       0.69      0.48      0.56        23\n",
      "    Politics       0.80      0.67      0.73        48\n",
      "       Sport       1.00      0.67      0.80         6\n",
      "         Rec       0.80      0.88      0.84        42\n",
      "       Music       0.80      0.93      0.86        81\n",
      "\n",
      "    accuracy                           0.80       200\n",
      "   macro avg       0.82      0.72      0.76       200\n",
      "weighted avg       0.79      0.80      0.79       200\n",
      "\n"
     ]
    }
   ],
   "source": [
    "from sklearn.metrics import classification_report\n",
    "# predict labels for the test set\n",
    "svm_predictions = svm.predict(tv_test_features)\n",
    "# get the unique classes\n",
    "unique_classes = list(set(test_label_names))\n",
    "# print the classification report\n",
    "print(classification_report(test_label_names, svm_predictions, labels=unique_classes))"
   ]
  },
  {
   "cell_type": "code",
   "execution_count": null,
   "metadata": {},
   "outputs": [
    {
     "name": "stdout",
     "output_type": "stream",
     "text": [
      "              precision    recall  f1-score   support\n",
      "\n",
      "     Studies       0.82      0.90      0.86        20\n",
      "    Politics       0.88      0.67      0.76        21\n",
      "       Sport       1.00      1.00      1.00         4\n",
      "         Rec       0.89      0.83      0.86        29\n",
      "       Music       0.93      1.00      0.96        66\n",
      "\n",
      "    accuracy                           0.90       140\n",
      "   macro avg       0.90      0.88      0.89       140\n",
      "weighted avg       0.90      0.90      0.90       140\n",
      "\n"
     ]
    }
   ],
   "source": [
    "from sklearn.metrics import classification_report\n",
    "# predict labels for the test set\n",
    "svm_predictions = svm.predict(tv_test_features)\n",
    "# get the unique classes\n",
    "unique_classes = list(set(test_label_names))\n",
    "# print the classification report\n",
    "print(classification_report(test_label_names, svm_predictions, labels=unique_classes))"
   ]
  },
  {
   "attachments": {},
   "cell_type": "markdown",
   "metadata": {},
   "source": [
    "Now let's see what labels were assigned in df format"
   ]
  },
  {
   "cell_type": "code",
   "execution_count": null,
   "metadata": {},
   "outputs": [
    {
     "data": {
      "text/html": [
       "<div>\n",
       "<style scoped>\n",
       "    .dataframe tbody tr th:only-of-type {\n",
       "        vertical-align: middle;\n",
       "    }\n",
       "\n",
       "    .dataframe tbody tr th {\n",
       "        vertical-align: top;\n",
       "    }\n",
       "\n",
       "    .dataframe thead th {\n",
       "        text-align: right;\n",
       "    }\n",
       "</style>\n",
       "<table border=\"1\" class=\"dataframe\">\n",
       "  <thead>\n",
       "    <tr style=\"text-align: right;\">\n",
       "      <th></th>\n",
       "      <th>video_title</th>\n",
       "      <th>category</th>\n",
       "      <th>actual_label</th>\n",
       "      <th>predicted_label</th>\n",
       "    </tr>\n",
       "  </thead>\n",
       "  <tbody>\n",
       "    <tr>\n",
       "      <th>0</th>\n",
       "      <td>happens arthur sawedoff shotgun instead revolver</td>\n",
       "      <td>Rec</td>\n",
       "      <td>1</td>\n",
       "      <td>Music</td>\n",
       "    </tr>\n",
       "    <tr>\n",
       "      <th>1</th>\n",
       "      <td>hero ages brandon sanderson stick landing part</td>\n",
       "      <td>Rec</td>\n",
       "      <td>1</td>\n",
       "      <td>Rec</td>\n",
       "    </tr>\n",
       "    <tr>\n",
       "      <th>2</th>\n",
       "      <td>let go frozensoundtrack version</td>\n",
       "      <td>Music</td>\n",
       "      <td>0</td>\n",
       "      <td>Music</td>\n",
       "    </tr>\n",
       "    <tr>\n",
       "      <th>3</th>\n",
       "      <td>kids song</td>\n",
       "      <td>Music</td>\n",
       "      <td>0</td>\n",
       "      <td>Music</td>\n",
       "    </tr>\n",
       "    <tr>\n",
       "      <th>4</th>\n",
       "      <td>one final effort</td>\n",
       "      <td>Music</td>\n",
       "      <td>0</td>\n",
       "      <td>Music</td>\n",
       "    </tr>\n",
       "    <tr>\n",
       "      <th>5</th>\n",
       "      <td>bad boys theme cops</td>\n",
       "      <td>Music</td>\n",
       "      <td>0</td>\n",
       "      <td>Music</td>\n",
       "    </tr>\n",
       "    <tr>\n",
       "      <th>6</th>\n",
       "      <td>sector</td>\n",
       "      <td>Music</td>\n",
       "      <td>0</td>\n",
       "      <td>Music</td>\n",
       "    </tr>\n",
       "    <tr>\n",
       "      <th>7</th>\n",
       "      <td>day 4 best full body yoga stretch 30 days yoga</td>\n",
       "      <td>Sport</td>\n",
       "      <td>4</td>\n",
       "      <td>Sport</td>\n",
       "    </tr>\n",
       "    <tr>\n",
       "      <th>8</th>\n",
       "      <td>containers vs vms whats difference</td>\n",
       "      <td>Studies</td>\n",
       "      <td>3</td>\n",
       "      <td>Studies</td>\n",
       "    </tr>\n",
       "    <tr>\n",
       "      <th>9</th>\n",
       "      <td>sonne</td>\n",
       "      <td>Music</td>\n",
       "      <td>0</td>\n",
       "      <td>Music</td>\n",
       "    </tr>\n",
       "  </tbody>\n",
       "</table>\n",
       "</div>"
      ],
      "text/plain": [
       "                                        video_title category  actual_label  \\\n",
       "0  happens arthur sawedoff shotgun instead revolver      Rec             1   \n",
       "1    hero ages brandon sanderson stick landing part      Rec             1   \n",
       "2                   let go frozensoundtrack version    Music             0   \n",
       "3                                         kids song    Music             0   \n",
       "4                                  one final effort    Music             0   \n",
       "5                               bad boys theme cops    Music             0   \n",
       "6                                            sector    Music             0   \n",
       "7    day 4 best full body yoga stretch 30 days yoga    Sport             4   \n",
       "8                containers vs vms whats difference  Studies             3   \n",
       "9                                             sonne    Music             0   \n",
       "\n",
       "  predicted_label  \n",
       "0           Music  \n",
       "1             Rec  \n",
       "2           Music  \n",
       "3           Music  \n",
       "4           Music  \n",
       "5           Music  \n",
       "6           Music  \n",
       "7           Sport  \n",
       "8         Studies  \n",
       "9           Music  "
      ]
     },
     "execution_count": 53,
     "metadata": {},
     "output_type": "execute_result"
    }
   ],
   "source": [
    "# Assuming you have already trained your model and obtained the predicted labels\n",
    "predicted_labels = svm.predict(tv_test_features)\n",
    "\n",
    "# Create a new dataframe that contains the test data and the predicted labels\n",
    "test_df = pd.DataFrame({'video_title': test_corpus, 'category': test_label_names, 'actual_label': test_label_nums, 'predicted_label': predicted_labels})\n",
    "\n",
    "# Print the first 10 rows of the new dataframe\n",
    "test_df.head(10)"
   ]
  },
  {
   "attachments": {},
   "cell_type": "markdown",
   "metadata": {},
   "source": [
    "Select 100 rows from the big df of like 3-4k rows to test how the model performs in production or whatever it's called"
   ]
  },
  {
   "cell_type": "code",
   "execution_count": null,
   "metadata": {},
   "outputs": [
    {
     "name": "stderr",
     "output_type": "stream",
     "text": [
      "C:\\Windows\\Temp\\ipykernel_2316\\3295684285.py:6: SettingWithCopyWarning: \n",
      "A value is trying to be set on a copy of a slice from a DataFrame.\n",
      "Try using .loc[row_indexer,col_indexer] = value instead\n",
      "\n",
      "See the caveats in the documentation: https://pandas.pydata.org/pandas-docs/stable/user_guide/indexing.html#returning-a-view-versus-a-copy\n",
      "  new_rows['category'] = predicted_labels\n"
     ]
    },
    {
     "data": {
      "text/html": [
       "<div>\n",
       "<style scoped>\n",
       "    .dataframe tbody tr th:only-of-type {\n",
       "        vertical-align: middle;\n",
       "    }\n",
       "\n",
       "    .dataframe tbody tr th {\n",
       "        vertical-align: top;\n",
       "    }\n",
       "\n",
       "    .dataframe thead th {\n",
       "        text-align: right;\n",
       "    }\n",
       "</style>\n",
       "<table border=\"1\" class=\"dataframe\">\n",
       "  <thead>\n",
       "    <tr style=\"text-align: right;\">\n",
       "      <th></th>\n",
       "      <th>video_title</th>\n",
       "      <th>channel_name</th>\n",
       "      <th>app</th>\n",
       "      <th>category</th>\n",
       "      <th>prepped</th>\n",
       "    </tr>\n",
       "  </thead>\n",
       "  <tbody>\n",
       "    <tr>\n",
       "      <th>600</th>\n",
       "      <td>Sector</td>\n",
       "      <td>Daniel Deluxe</td>\n",
       "      <td>YouTube Music</td>\n",
       "      <td>Music</td>\n",
       "      <td>sector</td>\n",
       "    </tr>\n",
       "    <tr>\n",
       "      <th>601</th>\n",
       "      <td>Let's talk about the tech layoffs, objectively.</td>\n",
       "      <td>Karolina Sowinska</td>\n",
       "      <td>YouTube</td>\n",
       "      <td>Politics</td>\n",
       "      <td>lets talk tech layoffs objectively</td>\n",
       "    </tr>\n",
       "    <tr>\n",
       "      <th>602</th>\n",
       "      <td>Defence strategy for small nations - force des...</td>\n",
       "      <td>Perun</td>\n",
       "      <td>YouTube</td>\n",
       "      <td>Politics</td>\n",
       "      <td>defence strategy small nations force design fr...</td>\n",
       "    </tr>\n",
       "    <tr>\n",
       "      <th>603</th>\n",
       "      <td>Berserkir</td>\n",
       "      <td>Danheim</td>\n",
       "      <td>YouTube Music</td>\n",
       "      <td>Music</td>\n",
       "      <td>berserkir</td>\n",
       "    </tr>\n",
       "    <tr>\n",
       "      <th>604</th>\n",
       "      <td>SadSvit - Силуети (feat. СТРУКТУРА ЩАСТЯ) Lyri...</td>\n",
       "      <td>SadSvit</td>\n",
       "      <td>YouTube Music</td>\n",
       "      <td>Music</td>\n",
       "      <td>sadsvit feat lyric video</td>\n",
       "    </tr>\n",
       "    <tr>\n",
       "      <th>...</th>\n",
       "      <td>...</td>\n",
       "      <td>...</td>\n",
       "      <td>...</td>\n",
       "      <td>...</td>\n",
       "      <td>...</td>\n",
       "    </tr>\n",
       "    <tr>\n",
       "      <th>695</th>\n",
       "      <td>Berserkir</td>\n",
       "      <td>Danheim</td>\n",
       "      <td>YouTube Music</td>\n",
       "      <td>Music</td>\n",
       "      <td>berserkir</td>\n",
       "    </tr>\n",
       "    <tr>\n",
       "      <th>696</th>\n",
       "      <td>Let's talk about Abrams approval and timelines...</td>\n",
       "      <td>Beau of the Fifth Column</td>\n",
       "      <td>YouTube</td>\n",
       "      <td>Politics</td>\n",
       "      <td>lets talk abrams approval timelines</td>\n",
       "    </tr>\n",
       "    <tr>\n",
       "      <th>697</th>\n",
       "      <td>Covert Operations</td>\n",
       "      <td>Adam Schneider</td>\n",
       "      <td>YouTube Music</td>\n",
       "      <td>Music</td>\n",
       "      <td>covert operations</td>\n",
       "    </tr>\n",
       "    <tr>\n",
       "      <th>698</th>\n",
       "      <td>What is NLP (Natural Language Processing)?</td>\n",
       "      <td>IBM Technology</td>\n",
       "      <td>YouTube</td>\n",
       "      <td>Studies</td>\n",
       "      <td>nlp natural language processing</td>\n",
       "    </tr>\n",
       "    <tr>\n",
       "      <th>699</th>\n",
       "      <td>Ukraine - The Beginning of the End</td>\n",
       "      <td>Adam Something</td>\n",
       "      <td>YouTube</td>\n",
       "      <td>Politics</td>\n",
       "      <td>ukraine beginning end</td>\n",
       "    </tr>\n",
       "  </tbody>\n",
       "</table>\n",
       "<p>100 rows × 5 columns</p>\n",
       "</div>"
      ],
      "text/plain": [
       "                                           video_title  \\\n",
       "600                                             Sector   \n",
       "601    Let's talk about the tech layoffs, objectively.   \n",
       "602  Defence strategy for small nations - force des...   \n",
       "603                                          Berserkir   \n",
       "604  SadSvit - Силуети (feat. СТРУКТУРА ЩАСТЯ) Lyri...   \n",
       "..                                                 ...   \n",
       "695                                          Berserkir   \n",
       "696  Let's talk about Abrams approval and timelines...   \n",
       "697                                  Covert Operations   \n",
       "698         What is NLP (Natural Language Processing)?   \n",
       "699                 Ukraine - The Beginning of the End   \n",
       "\n",
       "                 channel_name            app  category  \\\n",
       "600             Daniel Deluxe  YouTube Music     Music   \n",
       "601         Karolina Sowinska        YouTube  Politics   \n",
       "602                     Perun        YouTube  Politics   \n",
       "603                   Danheim  YouTube Music     Music   \n",
       "604                   SadSvit  YouTube Music     Music   \n",
       "..                        ...            ...       ...   \n",
       "695                   Danheim  YouTube Music     Music   \n",
       "696  Beau of the Fifth Column        YouTube  Politics   \n",
       "697            Adam Schneider  YouTube Music     Music   \n",
       "698            IBM Technology        YouTube   Studies   \n",
       "699            Adam Something        YouTube  Politics   \n",
       "\n",
       "                                               prepped  \n",
       "600                                             sector  \n",
       "601                 lets talk tech layoffs objectively  \n",
       "602  defence strategy small nations force design fr...  \n",
       "603                                          berserkir  \n",
       "604                           sadsvit feat lyric video  \n",
       "..                                                 ...  \n",
       "695                                          berserkir  \n",
       "696                lets talk abrams approval timelines  \n",
       "697                                  covert operations  \n",
       "698                    nlp natural language processing  \n",
       "699                              ukraine beginning end  \n",
       "\n",
       "[100 rows x 5 columns]"
      ]
     },
     "execution_count": 59,
     "metadata": {},
     "output_type": "execute_result"
    }
   ],
   "source": [
    "# new rows were gotten with df.sample(n=600, random_state=42)\n",
    "# random_state=42 because I want to get the same sample\n",
    "# get the features for the new videos using the trained vectorizer\n",
    "new_features = tv.transform(new_rows[\"preproc\"])\n",
    "# predict the category of the new videos using the trained LinearSVC\n",
    "predicted_labels = svm.predict(new_features)\n",
    "# add the predicted labels to the new_videos dataframe\n",
    "new_rows['category'] = predicted_labels\n",
    "new_rows"
   ]
  },
  {
   "cell_type": "code",
   "execution_count": null,
   "metadata": {},
   "outputs": [],
   "source": [
    "# new_rows.to_csv(\"tried_600-700.csv\")"
   ]
  }
 ],
 "metadata": {
  "kernelspec": {
   "display_name": "Python 3",
   "language": "python",
   "name": "python3"
  },
  "language_info": {
   "codemirror_mode": {
    "name": "ipython",
    "version": 3
   },
   "file_extension": ".py",
   "mimetype": "text/x-python",
   "name": "python",
   "nbconvert_exporter": "python",
   "pygments_lexer": "ipython3",
   "version": "3.10.2"
  },
  "orig_nbformat": 4
 },
 "nbformat": 4,
 "nbformat_minor": 2
}
