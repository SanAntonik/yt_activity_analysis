{
 "cells": [
  {
   "attachments": {},
   "cell_type": "markdown",
   "metadata": {},
   "source": [
    "# Classify your YouTube history"
   ]
  },
  {
   "attachments": {},
   "cell_type": "markdown",
   "metadata": {},
   "source": [
    "## Prepare data"
   ]
  },
  {
   "cell_type": "code",
   "execution_count": 1,
   "metadata": {},
   "outputs": [],
   "source": [
    "import pandas as pd\n",
    "import numpy as np\n",
    "import re\n",
    "import nltk\n",
    "\n",
    "from preparation import prepare_data\n",
    "from select_by_date_interval import select_by_date_interval"
   ]
  },
  {
   "cell_type": "code",
   "execution_count": 2,
   "metadata": {},
   "outputs": [
    {
     "data": {
      "text/html": [
       "<div>\n",
       "<style scoped>\n",
       "    .dataframe tbody tr th:only-of-type {\n",
       "        vertical-align: middle;\n",
       "    }\n",
       "\n",
       "    .dataframe tbody tr th {\n",
       "        vertical-align: top;\n",
       "    }\n",
       "\n",
       "    .dataframe thead th {\n",
       "        text-align: right;\n",
       "    }\n",
       "</style>\n",
       "<table border=\"1\" class=\"dataframe\">\n",
       "  <thead>\n",
       "    <tr style=\"text-align: right;\">\n",
       "      <th></th>\n",
       "      <th>video_title</th>\n",
       "      <th>channel_name</th>\n",
       "      <th>time</th>\n",
       "      <th>app</th>\n",
       "    </tr>\n",
       "  </thead>\n",
       "  <tbody>\n",
       "    <tr>\n",
       "      <th>1</th>\n",
       "      <td>Жбурляю</td>\n",
       "      <td>Харцизи</td>\n",
       "      <td>2023-04-04 14:59:28.805000+03:00</td>\n",
       "      <td>YouTube Music</td>\n",
       "    </tr>\n",
       "    <tr>\n",
       "      <th>2</th>\n",
       "      <td>Ліхтар</td>\n",
       "      <td>Rohata Zhaba</td>\n",
       "      <td>2023-04-04 14:25:11.177000+03:00</td>\n",
       "      <td>YouTube</td>\n",
       "    </tr>\n",
       "    <tr>\n",
       "      <th>3</th>\n",
       "      <td>Drinker's Chasers - ANOTHER Rey Skywalker Movie?!</td>\n",
       "      <td>Critical Drinker After Hours</td>\n",
       "      <td>2023-04-04 14:12:17.193000+03:00</td>\n",
       "      <td>YouTube</td>\n",
       "    </tr>\n",
       "    <tr>\n",
       "      <th>4</th>\n",
       "      <td>Test Your English Vocabulary: SHAPES &amp; PATTERNS</td>\n",
       "      <td>Learn English with Gill · engVid</td>\n",
       "      <td>2023-04-04 14:06:00.179000+03:00</td>\n",
       "      <td>YouTube</td>\n",
       "    </tr>\n",
       "    <tr>\n",
       "      <th>5</th>\n",
       "      <td>Finland joins NATO in historic shift prompted ...</td>\n",
       "      <td>FRANCE 24 English</td>\n",
       "      <td>2023-04-04 14:02:41.452000+03:00</td>\n",
       "      <td>YouTube</td>\n",
       "    </tr>\n",
       "    <tr>\n",
       "      <th>...</th>\n",
       "      <td>...</td>\n",
       "      <td>...</td>\n",
       "      <td>...</td>\n",
       "      <td>...</td>\n",
       "    </tr>\n",
       "    <tr>\n",
       "      <th>4391</th>\n",
       "      <td>Assassin's Creed Odyssey - Before You Buy</td>\n",
       "      <td>gameranx</td>\n",
       "      <td>2023-01-01 10:02:05.355000+02:00</td>\n",
       "      <td>YouTube</td>\n",
       "    </tr>\n",
       "    <tr>\n",
       "      <th>4392</th>\n",
       "      <td>#Ukraine's spy chief tells ABC News there will...</td>\n",
       "      <td>ABC News</td>\n",
       "      <td>2023-01-01 09:44:58.841000+02:00</td>\n",
       "      <td>YouTube</td>\n",
       "    </tr>\n",
       "    <tr>\n",
       "      <th>4393</th>\n",
       "      <td>Russian missile zooms over Kyiv before being s...</td>\n",
       "      <td>The Sun</td>\n",
       "      <td>2023-01-01 09:43:07.927000+02:00</td>\n",
       "      <td>YouTube</td>\n",
       "    </tr>\n",
       "    <tr>\n",
       "      <th>4394</th>\n",
       "      <td>YARMAK FT. TOF - МОЯ КРАЇНА</td>\n",
       "      <td>Yarmak Music</td>\n",
       "      <td>2023-01-01 00:07:14.838000+02:00</td>\n",
       "      <td>YouTube</td>\n",
       "    </tr>\n",
       "    <tr>\n",
       "      <th>4395</th>\n",
       "      <td>Гімн України</td>\n",
       "      <td>Oleksandr Ponomariov</td>\n",
       "      <td>2023-01-01 00:06:19.680000+02:00</td>\n",
       "      <td>YouTube</td>\n",
       "    </tr>\n",
       "  </tbody>\n",
       "</table>\n",
       "<p>4395 rows × 4 columns</p>\n",
       "</div>"
      ],
      "text/plain": [
       "                                            video_title  \\\n",
       "1                                               Жбурляю   \n",
       "2                                                Ліхтар   \n",
       "3     Drinker's Chasers - ANOTHER Rey Skywalker Movie?!   \n",
       "4       Test Your English Vocabulary: SHAPES & PATTERNS   \n",
       "5     Finland joins NATO in historic shift prompted ...   \n",
       "...                                                 ...   \n",
       "4391          Assassin's Creed Odyssey - Before You Buy   \n",
       "4392  #Ukraine's spy chief tells ABC News there will...   \n",
       "4393  Russian missile zooms over Kyiv before being s...   \n",
       "4394                        YARMAK FT. TOF - МОЯ КРАЇНА   \n",
       "4395                                       Гімн України   \n",
       "\n",
       "                          channel_name                             time  \\\n",
       "1                              Харцизи 2023-04-04 14:59:28.805000+03:00   \n",
       "2                         Rohata Zhaba 2023-04-04 14:25:11.177000+03:00   \n",
       "3         Critical Drinker After Hours 2023-04-04 14:12:17.193000+03:00   \n",
       "4     Learn English with Gill · engVid 2023-04-04 14:06:00.179000+03:00   \n",
       "5                    FRANCE 24 English 2023-04-04 14:02:41.452000+03:00   \n",
       "...                                ...                              ...   \n",
       "4391                          gameranx 2023-01-01 10:02:05.355000+02:00   \n",
       "4392                          ABC News 2023-01-01 09:44:58.841000+02:00   \n",
       "4393                           The Sun 2023-01-01 09:43:07.927000+02:00   \n",
       "4394                      Yarmak Music 2023-01-01 00:07:14.838000+02:00   \n",
       "4395              Oleksandr Ponomariov 2023-01-01 00:06:19.680000+02:00   \n",
       "\n",
       "                app  \n",
       "1     YouTube Music  \n",
       "2           YouTube  \n",
       "3           YouTube  \n",
       "4           YouTube  \n",
       "5           YouTube  \n",
       "...             ...  \n",
       "4391        YouTube  \n",
       "4392        YouTube  \n",
       "4393        YouTube  \n",
       "4394        YouTube  \n",
       "4395        YouTube  \n",
       "\n",
       "[4395 rows x 4 columns]"
      ]
     },
     "execution_count": 2,
     "metadata": {},
     "output_type": "execute_result"
    }
   ],
   "source": [
    "PATH = \"C:/Users/San/Documents/CS projects/yt_activity_analysis/data/Takeout/YouTube and YouTube Music/history/watch-history.json\"\n",
    "df = prepare_data(PATH)\n",
    "\n",
    "start_date = \"2023-01-01\"\n",
    "# end_date = \"2022-11-01\"\n",
    "df = select_by_date_interval(df, start=start_date)\n",
    "# df = df.loc[df[\"app\"] == \"YouTube Music\"] # if you wanna work only with YT Music data\n",
    "df"
   ]
  },
  {
   "cell_type": "markdown",
   "metadata": {},
   "source": [
    "Let's think about possible categories:\n",
    "- music - it's the easiest one because I can do it without any classification algo by treating every video in YouTube Music as a song. However, you'll need to handle songs you listened in YouTube app. Maybe just check if video_title or channel_name happened already in YouTube Music. If so, then it's a song as well\n",
    "- entertainment - games, movies, books, and other not so productive stuff\n",
    "- enlightment/learning - english, math, cs, books, and other subjects\n",
    "- politics - war, inner policies, and so on\n",
    "\n",
    "However, what if some videos combine different categories? For example, a history video can be both entertaining and enlightning"
   ]
  },
  {
   "cell_type": "code",
   "execution_count": 3,
   "metadata": {},
   "outputs": [
    {
     "name": "stderr",
     "output_type": "stream",
     "text": [
      "[nltk_data] Downloading package toolbox to\n",
      "[nltk_data]     C:\\Users\\San\\AppData\\Roaming\\nltk_data...\n",
      "[nltk_data]   Package toolbox is already up-to-date!\n"
     ]
    },
    {
     "data": {
      "text/plain": [
       "True"
      ]
     },
     "execution_count": 3,
     "metadata": {},
     "output_type": "execute_result"
    }
   ],
   "source": [
    "nltk.download('toolbox')"
   ]
  },
  {
   "cell_type": "code",
   "execution_count": 4,
   "metadata": {},
   "outputs": [],
   "source": [
    "def categorize():\n",
    "    pass"
   ]
  },
  {
   "cell_type": "markdown",
   "metadata": {},
   "source": [
    "Let's start with deciding whether the video is a song or not"
   ]
  },
  {
   "cell_type": "code",
   "execution_count": 5,
   "metadata": {},
   "outputs": [
    {
     "data": {
      "text/plain": [
       "YouTube          2507\n",
       "YouTube Music    1888\n",
       "Name: app, dtype: int64"
      ]
     },
     "execution_count": 5,
     "metadata": {},
     "output_type": "execute_result"
    }
   ],
   "source": [
    "df[\"app\"].value_counts()"
   ]
  },
  {
   "cell_type": "code",
   "execution_count": 6,
   "metadata": {},
   "outputs": [],
   "source": [
    "def initial_classification(row):\n",
    "    if row[\"app\"] == \"YouTube Music\":\n",
    "        category = \"Music\"\n",
    "    else:\n",
    "        category = \"Not Music\"\n",
    "    return category"
   ]
  },
  {
   "cell_type": "code",
   "execution_count": 7,
   "metadata": {},
   "outputs": [
    {
     "data": {
      "text/html": [
       "<div>\n",
       "<style scoped>\n",
       "    .dataframe tbody tr th:only-of-type {\n",
       "        vertical-align: middle;\n",
       "    }\n",
       "\n",
       "    .dataframe tbody tr th {\n",
       "        vertical-align: top;\n",
       "    }\n",
       "\n",
       "    .dataframe thead th {\n",
       "        text-align: right;\n",
       "    }\n",
       "</style>\n",
       "<table border=\"1\" class=\"dataframe\">\n",
       "  <thead>\n",
       "    <tr style=\"text-align: right;\">\n",
       "      <th></th>\n",
       "      <th>video_title</th>\n",
       "      <th>channel_name</th>\n",
       "      <th>time</th>\n",
       "      <th>app</th>\n",
       "      <th>label</th>\n",
       "    </tr>\n",
       "  </thead>\n",
       "  <tbody>\n",
       "    <tr>\n",
       "      <th>1</th>\n",
       "      <td>Жбурляю</td>\n",
       "      <td>Харцизи</td>\n",
       "      <td>2023-04-04 14:59:28.805000+03:00</td>\n",
       "      <td>YouTube Music</td>\n",
       "      <td>Music</td>\n",
       "    </tr>\n",
       "    <tr>\n",
       "      <th>2</th>\n",
       "      <td>Ліхтар</td>\n",
       "      <td>Rohata Zhaba</td>\n",
       "      <td>2023-04-04 14:25:11.177000+03:00</td>\n",
       "      <td>YouTube</td>\n",
       "      <td>Not Music</td>\n",
       "    </tr>\n",
       "    <tr>\n",
       "      <th>3</th>\n",
       "      <td>Drinker's Chasers - ANOTHER Rey Skywalker Movie?!</td>\n",
       "      <td>Critical Drinker After Hours</td>\n",
       "      <td>2023-04-04 14:12:17.193000+03:00</td>\n",
       "      <td>YouTube</td>\n",
       "      <td>Not Music</td>\n",
       "    </tr>\n",
       "  </tbody>\n",
       "</table>\n",
       "</div>"
      ],
      "text/plain": [
       "                                         video_title  \\\n",
       "1                                            Жбурляю   \n",
       "2                                             Ліхтар   \n",
       "3  Drinker's Chasers - ANOTHER Rey Skywalker Movie?!   \n",
       "\n",
       "                   channel_name                             time  \\\n",
       "1                       Харцизи 2023-04-04 14:59:28.805000+03:00   \n",
       "2                  Rohata Zhaba 2023-04-04 14:25:11.177000+03:00   \n",
       "3  Critical Drinker After Hours 2023-04-04 14:12:17.193000+03:00   \n",
       "\n",
       "             app      label  \n",
       "1  YouTube Music      Music  \n",
       "2        YouTube  Not Music  \n",
       "3        YouTube  Not Music  "
      ]
     },
     "execution_count": 7,
     "metadata": {},
     "output_type": "execute_result"
    }
   ],
   "source": [
    "df[\"label\"] = df.apply(initial_classification, axis=1)\n",
    "df.head(3)"
   ]
  },
  {
   "cell_type": "code",
   "execution_count": 8,
   "metadata": {},
   "outputs": [],
   "source": [
    "music_df = df.loc[df[\"app\"] == \"YouTube Music\"]"
   ]
  },
  {
   "cell_type": "code",
   "execution_count": 9,
   "metadata": {},
   "outputs": [
    {
     "data": {
      "text/plain": [
       "True"
      ]
     },
     "execution_count": 9,
     "metadata": {},
     "output_type": "execute_result"
    }
   ],
   "source": [
    "\"Antytila\" in music_df[\"channel_name\"].values"
   ]
  },
  {
   "cell_type": "code",
   "execution_count": 10,
   "metadata": {},
   "outputs": [],
   "source": [
    "def classification(row):\n",
    "    category = row[\"label\"]\n",
    "    if row[\"label\"] == \"Not Music\":\n",
    "        if row[\"channel_name\"] in music_df[\"channel_name\"].values:\n",
    "            category = \"Music\"\n",
    "        elif row[\"video_title\"] in music_df[\"video_title\"].values:\n",
    "            category = \"Music\"\n",
    "    return category"
   ]
  },
  {
   "cell_type": "code",
   "execution_count": 11,
   "metadata": {},
   "outputs": [
    {
     "data": {
      "text/html": [
       "<div>\n",
       "<style scoped>\n",
       "    .dataframe tbody tr th:only-of-type {\n",
       "        vertical-align: middle;\n",
       "    }\n",
       "\n",
       "    .dataframe tbody tr th {\n",
       "        vertical-align: top;\n",
       "    }\n",
       "\n",
       "    .dataframe thead th {\n",
       "        text-align: right;\n",
       "    }\n",
       "</style>\n",
       "<table border=\"1\" class=\"dataframe\">\n",
       "  <thead>\n",
       "    <tr style=\"text-align: right;\">\n",
       "      <th></th>\n",
       "      <th>video_title</th>\n",
       "      <th>channel_name</th>\n",
       "      <th>time</th>\n",
       "      <th>app</th>\n",
       "      <th>label</th>\n",
       "    </tr>\n",
       "  </thead>\n",
       "  <tbody>\n",
       "    <tr>\n",
       "      <th>1</th>\n",
       "      <td>Жбурляю</td>\n",
       "      <td>Харцизи</td>\n",
       "      <td>2023-04-04 14:59:28.805000+03:00</td>\n",
       "      <td>YouTube Music</td>\n",
       "      <td>Music</td>\n",
       "    </tr>\n",
       "    <tr>\n",
       "      <th>2</th>\n",
       "      <td>Ліхтар</td>\n",
       "      <td>Rohata Zhaba</td>\n",
       "      <td>2023-04-04 14:25:11.177000+03:00</td>\n",
       "      <td>YouTube</td>\n",
       "      <td>Not Music</td>\n",
       "    </tr>\n",
       "    <tr>\n",
       "      <th>3</th>\n",
       "      <td>Drinker's Chasers - ANOTHER Rey Skywalker Movie?!</td>\n",
       "      <td>Critical Drinker After Hours</td>\n",
       "      <td>2023-04-04 14:12:17.193000+03:00</td>\n",
       "      <td>YouTube</td>\n",
       "      <td>Not Music</td>\n",
       "    </tr>\n",
       "    <tr>\n",
       "      <th>4</th>\n",
       "      <td>Test Your English Vocabulary: SHAPES &amp; PATTERNS</td>\n",
       "      <td>Learn English with Gill · engVid</td>\n",
       "      <td>2023-04-04 14:06:00.179000+03:00</td>\n",
       "      <td>YouTube</td>\n",
       "      <td>Not Music</td>\n",
       "    </tr>\n",
       "    <tr>\n",
       "      <th>5</th>\n",
       "      <td>Finland joins NATO in historic shift prompted ...</td>\n",
       "      <td>FRANCE 24 English</td>\n",
       "      <td>2023-04-04 14:02:41.452000+03:00</td>\n",
       "      <td>YouTube</td>\n",
       "      <td>Not Music</td>\n",
       "    </tr>\n",
       "    <tr>\n",
       "      <th>...</th>\n",
       "      <td>...</td>\n",
       "      <td>...</td>\n",
       "      <td>...</td>\n",
       "      <td>...</td>\n",
       "      <td>...</td>\n",
       "    </tr>\n",
       "    <tr>\n",
       "      <th>4391</th>\n",
       "      <td>Assassin's Creed Odyssey - Before You Buy</td>\n",
       "      <td>gameranx</td>\n",
       "      <td>2023-01-01 10:02:05.355000+02:00</td>\n",
       "      <td>YouTube</td>\n",
       "      <td>Not Music</td>\n",
       "    </tr>\n",
       "    <tr>\n",
       "      <th>4392</th>\n",
       "      <td>#Ukraine's spy chief tells ABC News there will...</td>\n",
       "      <td>ABC News</td>\n",
       "      <td>2023-01-01 09:44:58.841000+02:00</td>\n",
       "      <td>YouTube</td>\n",
       "      <td>Not Music</td>\n",
       "    </tr>\n",
       "    <tr>\n",
       "      <th>4393</th>\n",
       "      <td>Russian missile zooms over Kyiv before being s...</td>\n",
       "      <td>The Sun</td>\n",
       "      <td>2023-01-01 09:43:07.927000+02:00</td>\n",
       "      <td>YouTube</td>\n",
       "      <td>Not Music</td>\n",
       "    </tr>\n",
       "    <tr>\n",
       "      <th>4394</th>\n",
       "      <td>YARMAK FT. TOF - МОЯ КРАЇНА</td>\n",
       "      <td>Yarmak Music</td>\n",
       "      <td>2023-01-01 00:07:14.838000+02:00</td>\n",
       "      <td>YouTube</td>\n",
       "      <td>Music</td>\n",
       "    </tr>\n",
       "    <tr>\n",
       "      <th>4395</th>\n",
       "      <td>Гімн України</td>\n",
       "      <td>Oleksandr Ponomariov</td>\n",
       "      <td>2023-01-01 00:06:19.680000+02:00</td>\n",
       "      <td>YouTube</td>\n",
       "      <td>Not Music</td>\n",
       "    </tr>\n",
       "  </tbody>\n",
       "</table>\n",
       "<p>4395 rows × 5 columns</p>\n",
       "</div>"
      ],
      "text/plain": [
       "                                            video_title  \\\n",
       "1                                               Жбурляю   \n",
       "2                                                Ліхтар   \n",
       "3     Drinker's Chasers - ANOTHER Rey Skywalker Movie?!   \n",
       "4       Test Your English Vocabulary: SHAPES & PATTERNS   \n",
       "5     Finland joins NATO in historic shift prompted ...   \n",
       "...                                                 ...   \n",
       "4391          Assassin's Creed Odyssey - Before You Buy   \n",
       "4392  #Ukraine's spy chief tells ABC News there will...   \n",
       "4393  Russian missile zooms over Kyiv before being s...   \n",
       "4394                        YARMAK FT. TOF - МОЯ КРАЇНА   \n",
       "4395                                       Гімн України   \n",
       "\n",
       "                          channel_name                             time  \\\n",
       "1                              Харцизи 2023-04-04 14:59:28.805000+03:00   \n",
       "2                         Rohata Zhaba 2023-04-04 14:25:11.177000+03:00   \n",
       "3         Critical Drinker After Hours 2023-04-04 14:12:17.193000+03:00   \n",
       "4     Learn English with Gill · engVid 2023-04-04 14:06:00.179000+03:00   \n",
       "5                    FRANCE 24 English 2023-04-04 14:02:41.452000+03:00   \n",
       "...                                ...                              ...   \n",
       "4391                          gameranx 2023-01-01 10:02:05.355000+02:00   \n",
       "4392                          ABC News 2023-01-01 09:44:58.841000+02:00   \n",
       "4393                           The Sun 2023-01-01 09:43:07.927000+02:00   \n",
       "4394                      Yarmak Music 2023-01-01 00:07:14.838000+02:00   \n",
       "4395              Oleksandr Ponomariov 2023-01-01 00:06:19.680000+02:00   \n",
       "\n",
       "                app      label  \n",
       "1     YouTube Music      Music  \n",
       "2           YouTube  Not Music  \n",
       "3           YouTube  Not Music  \n",
       "4           YouTube  Not Music  \n",
       "5           YouTube  Not Music  \n",
       "...             ...        ...  \n",
       "4391        YouTube  Not Music  \n",
       "4392        YouTube  Not Music  \n",
       "4393        YouTube  Not Music  \n",
       "4394        YouTube      Music  \n",
       "4395        YouTube  Not Music  \n",
       "\n",
       "[4395 rows x 5 columns]"
      ]
     },
     "execution_count": 11,
     "metadata": {},
     "output_type": "execute_result"
    }
   ],
   "source": [
    "df[\"label\"] = df.apply(classification, axis=1)\n",
    "df"
   ]
  },
  {
   "cell_type": "code",
   "execution_count": 12,
   "metadata": {},
   "outputs": [
    {
     "data": {
      "text/plain": [
       "Not Music    2378\n",
       "Music        2017\n",
       "Name: label, dtype: int64"
      ]
     },
     "execution_count": 12,
     "metadata": {},
     "output_type": "execute_result"
    }
   ],
   "source": [
    "df[\"label\"].value_counts()"
   ]
  },
  {
   "cell_type": "markdown",
   "metadata": {},
   "source": [
    "Well, with several rules (that is a Rule-based system or smt), I got 129 more videos classified as songs. However, there are game/movie soundtrack collections classified as 'Not Music'"
   ]
  },
  {
   "cell_type": "markdown",
   "metadata": {},
   "source": [
    "Time to assign some labels"
   ]
  },
  {
   "cell_type": "code",
   "execution_count": 13,
   "metadata": {},
   "outputs": [],
   "source": [
    "# after sampling, drop useless for classification \n",
    "# cols such as weekday and time\n",
    "# subdf = df.sample(n=109, random_state=42).drop([\"time\", \"weekday\"], axis=1)\n",
    "# subdf.head(5)"
   ]
  },
  {
   "cell_type": "markdown",
   "metadata": {},
   "source": [
    "To assign labels, sample your df, and save that sample in .csv file. Then in the .csv file itself, manualy assign labels and import for further actions"
   ]
  },
  {
   "cell_type": "code",
   "execution_count": 14,
   "metadata": {},
   "outputs": [],
   "source": [
    "# comented out, so I don't accidentadly override my labeled data with unlabeled one\n",
    "# subdf.to_csv(\"labeled.csv\", index=False)"
   ]
  },
  {
   "cell_type": "markdown",
   "metadata": {},
   "source": [
    "Possible labels:\n",
    "- music\n",
    "- rec (short form of recreation)/entertainment - games, movies, fictional books, and other not so productive stuff\n",
    "- studies (enlightment/learning/study) - english, math, cs, books, and other subjects\n",
    "- politics - war, inner politics, news, and so on\n",
    "- sport - workouts and so on\n",
    "\n",
    "However, what if some videos combine different categories? For example, a history video can be both entertaining and enlightning"
   ]
  },
  {
   "cell_type": "code",
   "execution_count": 15,
   "metadata": {},
   "outputs": [
    {
     "data": {
      "text/html": [
       "<div>\n",
       "<style scoped>\n",
       "    .dataframe tbody tr th:only-of-type {\n",
       "        vertical-align: middle;\n",
       "    }\n",
       "\n",
       "    .dataframe tbody tr th {\n",
       "        vertical-align: top;\n",
       "    }\n",
       "\n",
       "    .dataframe thead th {\n",
       "        text-align: right;\n",
       "    }\n",
       "</style>\n",
       "<table border=\"1\" class=\"dataframe\">\n",
       "  <thead>\n",
       "    <tr style=\"text-align: right;\">\n",
       "      <th></th>\n",
       "      <th>video_title</th>\n",
       "      <th>channel_name</th>\n",
       "      <th>app</th>\n",
       "      <th>category</th>\n",
       "    </tr>\n",
       "  </thead>\n",
       "  <tbody>\n",
       "    <tr>\n",
       "      <th>0</th>\n",
       "      <td>Valhalla (Extended Mix)</td>\n",
       "      <td>Miss Monique</td>\n",
       "      <td>YouTube Music</td>\n",
       "      <td>Music</td>\n",
       "    </tr>\n",
       "    <tr>\n",
       "      <th>1</th>\n",
       "      <td>Why You Should Read The Stormlight Archive - B...</td>\n",
       "      <td>Daniel Greene</td>\n",
       "      <td>YouTube</td>\n",
       "      <td>Rec</td>\n",
       "    </tr>\n",
       "    <tr>\n",
       "      <th>2</th>\n",
       "      <td>Тихо прийшов, тихо пішов або пісня спеціальног...</td>\n",
       "      <td>Riffmaster</td>\n",
       "      <td>YouTube Music</td>\n",
       "      <td>Music</td>\n",
       "    </tr>\n",
       "    <tr>\n",
       "      <th>3</th>\n",
       "      <td>🎙️ [SingingMarch] ♯23 MARIAH CAREY – \"Whenever...</td>\n",
       "      <td>Mioune</td>\n",
       "      <td>YouTube</td>\n",
       "      <td>Music</td>\n",
       "    </tr>\n",
       "    <tr>\n",
       "      <th>4</th>\n",
       "      <td>Ukraine frontline:  the battle for Bakhmut - B...</td>\n",
       "      <td>BBC News</td>\n",
       "      <td>YouTube</td>\n",
       "      <td>Politics</td>\n",
       "    </tr>\n",
       "    <tr>\n",
       "      <th>...</th>\n",
       "      <td>...</td>\n",
       "      <td>...</td>\n",
       "      <td>...</td>\n",
       "      <td>...</td>\n",
       "    </tr>\n",
       "    <tr>\n",
       "      <th>104</th>\n",
       "      <td>Браття українці</td>\n",
       "      <td>Shablya</td>\n",
       "      <td>YouTube Music</td>\n",
       "      <td>Music</td>\n",
       "    </tr>\n",
       "    <tr>\n",
       "      <th>105</th>\n",
       "      <td>Tran</td>\n",
       "      <td>Miss Monique</td>\n",
       "      <td>YouTube Music</td>\n",
       "      <td>Music</td>\n",
       "    </tr>\n",
       "    <tr>\n",
       "      <th>106</th>\n",
       "      <td>How South Koreans got so much taller</td>\n",
       "      <td>Vox</td>\n",
       "      <td>YouTube</td>\n",
       "      <td>Studies</td>\n",
       "    </tr>\n",
       "    <tr>\n",
       "      <th>107</th>\n",
       "      <td>Deep Rock Galactic - Playstation Launch Traile...</td>\n",
       "      <td>PlayStation</td>\n",
       "      <td>YouTube</td>\n",
       "      <td>Rec</td>\n",
       "    </tr>\n",
       "    <tr>\n",
       "      <th>108</th>\n",
       "      <td>Deutschland</td>\n",
       "      <td>Grandma's Smuzi</td>\n",
       "      <td>YouTube Music</td>\n",
       "      <td>Music</td>\n",
       "    </tr>\n",
       "  </tbody>\n",
       "</table>\n",
       "<p>109 rows × 4 columns</p>\n",
       "</div>"
      ],
      "text/plain": [
       "                                           video_title     channel_name  \\\n",
       "0                              Valhalla (Extended Mix)     Miss Monique   \n",
       "1    Why You Should Read The Stormlight Archive - B...    Daniel Greene   \n",
       "2    Тихо прийшов, тихо пішов або пісня спеціальног...       Riffmaster   \n",
       "3    🎙️ [SingingMarch] ♯23 MARIAH CAREY – \"Whenever...           Mioune   \n",
       "4    Ukraine frontline:  the battle for Bakhmut - B...         BBC News   \n",
       "..                                                 ...              ...   \n",
       "104                                    Браття українці          Shablya   \n",
       "105                                               Tran     Miss Monique   \n",
       "106               How South Koreans got so much taller              Vox   \n",
       "107  Deep Rock Galactic - Playstation Launch Traile...      PlayStation   \n",
       "108                                        Deutschland  Grandma's Smuzi   \n",
       "\n",
       "               app  category  \n",
       "0    YouTube Music     Music  \n",
       "1          YouTube       Rec  \n",
       "2    YouTube Music     Music  \n",
       "3          YouTube     Music  \n",
       "4          YouTube  Politics  \n",
       "..             ...       ...  \n",
       "104  YouTube Music     Music  \n",
       "105  YouTube Music     Music  \n",
       "106        YouTube   Studies  \n",
       "107        YouTube       Rec  \n",
       "108  YouTube Music     Music  \n",
       "\n",
       "[109 rows x 4 columns]"
      ]
     },
     "execution_count": 15,
     "metadata": {},
     "output_type": "execute_result"
    }
   ],
   "source": [
    "labeled_df = pd.read_csv('labeled.csv', header = 0)\n",
    "labeled_df"
   ]
  },
  {
   "cell_type": "code",
   "execution_count": 16,
   "metadata": {},
   "outputs": [
    {
     "data": {
      "text/plain": [
       "Music       52\n",
       "Rec         21\n",
       "Politics    20\n",
       "Studies     14\n",
       "Sport        2\n",
       "Name: category, dtype: int64"
      ]
     },
     "execution_count": 16,
     "metadata": {},
     "output_type": "execute_result"
    }
   ],
   "source": [
    "labeled_df[\"category\"].value_counts()"
   ]
  },
  {
   "cell_type": "code",
   "execution_count": 17,
   "metadata": {},
   "outputs": [
    {
     "data": {
      "text/html": [
       "<div>\n",
       "<style scoped>\n",
       "    .dataframe tbody tr th:only-of-type {\n",
       "        vertical-align: middle;\n",
       "    }\n",
       "\n",
       "    .dataframe tbody tr th {\n",
       "        vertical-align: top;\n",
       "    }\n",
       "\n",
       "    .dataframe thead th {\n",
       "        text-align: right;\n",
       "    }\n",
       "</style>\n",
       "<table border=\"1\" class=\"dataframe\">\n",
       "  <thead>\n",
       "    <tr style=\"text-align: right;\">\n",
       "      <th></th>\n",
       "      <th>video_title</th>\n",
       "      <th>channel_name</th>\n",
       "      <th>app</th>\n",
       "      <th>category</th>\n",
       "      <th>target_label</th>\n",
       "    </tr>\n",
       "  </thead>\n",
       "  <tbody>\n",
       "    <tr>\n",
       "      <th>0</th>\n",
       "      <td>Valhalla (Extended Mix)</td>\n",
       "      <td>Miss Monique</td>\n",
       "      <td>YouTube Music</td>\n",
       "      <td>Music</td>\n",
       "      <td>0</td>\n",
       "    </tr>\n",
       "    <tr>\n",
       "      <th>1</th>\n",
       "      <td>Why You Should Read The Stormlight Archive - B...</td>\n",
       "      <td>Daniel Greene</td>\n",
       "      <td>YouTube</td>\n",
       "      <td>Rec</td>\n",
       "      <td>1</td>\n",
       "    </tr>\n",
       "    <tr>\n",
       "      <th>2</th>\n",
       "      <td>Тихо прийшов, тихо пішов або пісня спеціальног...</td>\n",
       "      <td>Riffmaster</td>\n",
       "      <td>YouTube Music</td>\n",
       "      <td>Music</td>\n",
       "      <td>0</td>\n",
       "    </tr>\n",
       "    <tr>\n",
       "      <th>3</th>\n",
       "      <td>🎙️ [SingingMarch] ♯23 MARIAH CAREY – \"Whenever...</td>\n",
       "      <td>Mioune</td>\n",
       "      <td>YouTube</td>\n",
       "      <td>Music</td>\n",
       "      <td>0</td>\n",
       "    </tr>\n",
       "    <tr>\n",
       "      <th>4</th>\n",
       "      <td>Ukraine frontline:  the battle for Bakhmut - B...</td>\n",
       "      <td>BBC News</td>\n",
       "      <td>YouTube</td>\n",
       "      <td>Politics</td>\n",
       "      <td>2</td>\n",
       "    </tr>\n",
       "    <tr>\n",
       "      <th>...</th>\n",
       "      <td>...</td>\n",
       "      <td>...</td>\n",
       "      <td>...</td>\n",
       "      <td>...</td>\n",
       "      <td>...</td>\n",
       "    </tr>\n",
       "    <tr>\n",
       "      <th>104</th>\n",
       "      <td>Браття українці</td>\n",
       "      <td>Shablya</td>\n",
       "      <td>YouTube Music</td>\n",
       "      <td>Music</td>\n",
       "      <td>0</td>\n",
       "    </tr>\n",
       "    <tr>\n",
       "      <th>105</th>\n",
       "      <td>Tran</td>\n",
       "      <td>Miss Monique</td>\n",
       "      <td>YouTube Music</td>\n",
       "      <td>Music</td>\n",
       "      <td>0</td>\n",
       "    </tr>\n",
       "    <tr>\n",
       "      <th>106</th>\n",
       "      <td>How South Koreans got so much taller</td>\n",
       "      <td>Vox</td>\n",
       "      <td>YouTube</td>\n",
       "      <td>Studies</td>\n",
       "      <td>3</td>\n",
       "    </tr>\n",
       "    <tr>\n",
       "      <th>107</th>\n",
       "      <td>Deep Rock Galactic - Playstation Launch Traile...</td>\n",
       "      <td>PlayStation</td>\n",
       "      <td>YouTube</td>\n",
       "      <td>Rec</td>\n",
       "      <td>1</td>\n",
       "    </tr>\n",
       "    <tr>\n",
       "      <th>108</th>\n",
       "      <td>Deutschland</td>\n",
       "      <td>Grandma's Smuzi</td>\n",
       "      <td>YouTube Music</td>\n",
       "      <td>Music</td>\n",
       "      <td>0</td>\n",
       "    </tr>\n",
       "  </tbody>\n",
       "</table>\n",
       "<p>109 rows × 5 columns</p>\n",
       "</div>"
      ],
      "text/plain": [
       "                                           video_title     channel_name  \\\n",
       "0                              Valhalla (Extended Mix)     Miss Monique   \n",
       "1    Why You Should Read The Stormlight Archive - B...    Daniel Greene   \n",
       "2    Тихо прийшов, тихо пішов або пісня спеціальног...       Riffmaster   \n",
       "3    🎙️ [SingingMarch] ♯23 MARIAH CAREY – \"Whenever...           Mioune   \n",
       "4    Ukraine frontline:  the battle for Bakhmut - B...         BBC News   \n",
       "..                                                 ...              ...   \n",
       "104                                    Браття українці          Shablya   \n",
       "105                                               Tran     Miss Monique   \n",
       "106               How South Koreans got so much taller              Vox   \n",
       "107  Deep Rock Galactic - Playstation Launch Traile...      PlayStation   \n",
       "108                                        Deutschland  Grandma's Smuzi   \n",
       "\n",
       "               app  category  target_label  \n",
       "0    YouTube Music     Music             0  \n",
       "1          YouTube       Rec             1  \n",
       "2    YouTube Music     Music             0  \n",
       "3          YouTube     Music             0  \n",
       "4          YouTube  Politics             2  \n",
       "..             ...       ...           ...  \n",
       "104  YouTube Music     Music             0  \n",
       "105  YouTube Music     Music             0  \n",
       "106        YouTube   Studies             3  \n",
       "107        YouTube       Rec             1  \n",
       "108  YouTube Music     Music             0  \n",
       "\n",
       "[109 rows x 5 columns]"
      ]
     },
     "execution_count": 17,
     "metadata": {},
     "output_type": "execute_result"
    }
   ],
   "source": [
    "labeled_df[\"target_label\"] = labeled_df[\"category\"].map({\n",
    "    \"Music\": 0,\n",
    "    \"Rec\": 1,\n",
    "    \"Politics\": 2,\n",
    "    \"Studies\": 3,\n",
    "    \"Sport\": 4\n",
    "})\n",
    "labeled_df"
   ]
  },
  {
   "cell_type": "code",
   "execution_count": 18,
   "metadata": {},
   "outputs": [
    {
     "data": {
      "text/html": [
       "<div>\n",
       "<style scoped>\n",
       "    .dataframe tbody tr th:only-of-type {\n",
       "        vertical-align: middle;\n",
       "    }\n",
       "\n",
       "    .dataframe tbody tr th {\n",
       "        vertical-align: top;\n",
       "    }\n",
       "\n",
       "    .dataframe thead th {\n",
       "        text-align: right;\n",
       "    }\n",
       "</style>\n",
       "<table border=\"1\" class=\"dataframe\">\n",
       "  <thead>\n",
       "    <tr style=\"text-align: right;\">\n",
       "      <th></th>\n",
       "      <th>video_title</th>\n",
       "      <th>channel_name</th>\n",
       "      <th>time</th>\n",
       "      <th>app</th>\n",
       "      <th>label</th>\n",
       "      <th>prepped</th>\n",
       "    </tr>\n",
       "  </thead>\n",
       "  <tbody>\n",
       "    <tr>\n",
       "      <th>1</th>\n",
       "      <td>Жбурляю</td>\n",
       "      <td>Харцизи</td>\n",
       "      <td>2023-04-04 14:59:28.805000+03:00</td>\n",
       "      <td>YouTube Music</td>\n",
       "      <td>Music</td>\n",
       "      <td></td>\n",
       "    </tr>\n",
       "    <tr>\n",
       "      <th>2</th>\n",
       "      <td>Ліхтар</td>\n",
       "      <td>Rohata Zhaba</td>\n",
       "      <td>2023-04-04 14:25:11.177000+03:00</td>\n",
       "      <td>YouTube</td>\n",
       "      <td>Not Music</td>\n",
       "      <td></td>\n",
       "    </tr>\n",
       "    <tr>\n",
       "      <th>3</th>\n",
       "      <td>Drinker's Chasers - ANOTHER Rey Skywalker Movie?!</td>\n",
       "      <td>Critical Drinker After Hours</td>\n",
       "      <td>2023-04-04 14:12:17.193000+03:00</td>\n",
       "      <td>YouTube</td>\n",
       "      <td>Not Music</td>\n",
       "      <td>drinkers chasers another rey skywalker movie</td>\n",
       "    </tr>\n",
       "    <tr>\n",
       "      <th>4</th>\n",
       "      <td>Test Your English Vocabulary: SHAPES &amp; PATTERNS</td>\n",
       "      <td>Learn English with Gill · engVid</td>\n",
       "      <td>2023-04-04 14:06:00.179000+03:00</td>\n",
       "      <td>YouTube</td>\n",
       "      <td>Not Music</td>\n",
       "      <td>test english vocabulary shapes patterns</td>\n",
       "    </tr>\n",
       "    <tr>\n",
       "      <th>5</th>\n",
       "      <td>Finland joins NATO in historic shift prompted ...</td>\n",
       "      <td>FRANCE 24 English</td>\n",
       "      <td>2023-04-04 14:02:41.452000+03:00</td>\n",
       "      <td>YouTube</td>\n",
       "      <td>Not Music</td>\n",
       "      <td>finland joins nato historic shift prompted ukr...</td>\n",
       "    </tr>\n",
       "  </tbody>\n",
       "</table>\n",
       "</div>"
      ],
      "text/plain": [
       "                                         video_title  \\\n",
       "1                                            Жбурляю   \n",
       "2                                             Ліхтар   \n",
       "3  Drinker's Chasers - ANOTHER Rey Skywalker Movie?!   \n",
       "4    Test Your English Vocabulary: SHAPES & PATTERNS   \n",
       "5  Finland joins NATO in historic shift prompted ...   \n",
       "\n",
       "                       channel_name                             time  \\\n",
       "1                           Харцизи 2023-04-04 14:59:28.805000+03:00   \n",
       "2                      Rohata Zhaba 2023-04-04 14:25:11.177000+03:00   \n",
       "3      Critical Drinker After Hours 2023-04-04 14:12:17.193000+03:00   \n",
       "4  Learn English with Gill · engVid 2023-04-04 14:06:00.179000+03:00   \n",
       "5                 FRANCE 24 English 2023-04-04 14:02:41.452000+03:00   \n",
       "\n",
       "             app      label                                            prepped  \n",
       "1  YouTube Music      Music                                                     \n",
       "2        YouTube  Not Music                                                     \n",
       "3        YouTube  Not Music       drinkers chasers another rey skywalker movie  \n",
       "4        YouTube  Not Music            test english vocabulary shapes patterns  \n",
       "5        YouTube  Not Music  finland joins nato historic shift prompted ukr...  "
      ]
     },
     "execution_count": 18,
     "metadata": {},
     "output_type": "execute_result"
    }
   ],
   "source": [
    "def preprocess(text):\n",
    "    sentences = re.split(\"[\\n\\t]\", text)\n",
    "    # remove empty lines\n",
    "    sentences = [sentence for sentence in sentences if sentence]\n",
    "    # further cleaning\n",
    "    sentences = [re.sub(r\"[^0-9a-zA-Z\\s]\", \"\", sentence, re.I|re.A).lower() for sentence in sentences]\n",
    "    sentences = [sentence.lower().strip() for sentence in sentences]\n",
    "    wpt = nltk.WordPunctTokenizer()\n",
    "    stop_words = nltk.corpus.stopwords.words(\"english\")\n",
    "    output = []\n",
    "    for sentence in sentences:\n",
    "        tokens = wpt.tokenize(sentence)\n",
    "        filtered_tokens = [token for token in tokens if token not in stop_words]\n",
    "        output.append(\" \".join(filtered_tokens))\n",
    "    return \" \".join(output)\n",
    "\n",
    "df[\"prepped\"] = df[\"video_title\"].apply(preprocess)\n",
    "df.head(5)"
   ]
  },
  {
   "attachments": {},
   "cell_type": "markdown",
   "metadata": {},
   "source": [
    "From above, we can see that non-english text is not handled properly"
   ]
  },
  {
   "attachments": {},
   "cell_type": "markdown",
   "metadata": {},
   "source": [
    "Time for some language detection"
   ]
  },
  {
   "cell_type": "code",
   "execution_count": 19,
   "metadata": {},
   "outputs": [
    {
     "data": {
      "text/plain": [
       "'uk'"
      ]
     },
     "execution_count": 19,
     "metadata": {},
     "output_type": "execute_result"
    }
   ],
   "source": [
    "from langdetect import detect\n",
    "detect(\"Тихо прийшов, тихо пішов або пісня спеціального...\")"
   ]
  },
  {
   "cell_type": "code",
   "execution_count": 20,
   "metadata": {},
   "outputs": [
    {
     "data": {
      "text/plain": [
       "[uk:0.999998621430555]"
      ]
     },
     "execution_count": 20,
     "metadata": {},
     "output_type": "execute_result"
    }
   ],
   "source": [
    "from langdetect import detect_langs\n",
    "detect_langs(\"Тихо прийшов, тихо пішов або пісня спеціального...\")"
   ]
  },
  {
   "cell_type": "code",
   "execution_count": 21,
   "metadata": {},
   "outputs": [],
   "source": [
    "# from langdetect import detect\n",
    "\n",
    "# def detect_language(text):\n",
    "#     try:\n",
    "#         return detect(text)\n",
    "#     except:\n",
    "#         return 'unknown'\n",
    "\n",
    "# df['language'] = df['video_title'].apply(detect_language)\n",
    "# df[\"language\"].value_counts().head(10)"
   ]
  },
  {
   "attachments": {},
   "cell_type": "markdown",
   "metadata": {},
   "source": [
    "Well, this library mislabaled a lot of rows. I need to either read the library documentation or treat empty cell in 'prepped' as ukrainian video and again preprocess it but this time using ukrainian preprocessing func"
   ]
  },
  {
   "cell_type": "code",
   "execution_count": 22,
   "metadata": {},
   "outputs": [],
   "source": [
    "# df.drop([\"prepped\"], axis=1).to_csv(\"languages_detected.csv\", index=False)"
   ]
  },
  {
   "attachments": {},
   "cell_type": "markdown",
   "metadata": {},
   "source": [
    "I believe language detection is a dead end. I should try first preprocessing English text. If it returns empty string, I should preprocess the text with ukrainian preprocessing func. If it fails again, I should just drop the row"
   ]
  },
  {
   "cell_type": "code",
   "execution_count": 23,
   "metadata": {},
   "outputs": [
    {
     "data": {
      "text/html": [
       "<div>\n",
       "<style scoped>\n",
       "    .dataframe tbody tr th:only-of-type {\n",
       "        vertical-align: middle;\n",
       "    }\n",
       "\n",
       "    .dataframe tbody tr th {\n",
       "        vertical-align: top;\n",
       "    }\n",
       "\n",
       "    .dataframe thead th {\n",
       "        text-align: right;\n",
       "    }\n",
       "</style>\n",
       "<table border=\"1\" class=\"dataframe\">\n",
       "  <thead>\n",
       "    <tr style=\"text-align: right;\">\n",
       "      <th></th>\n",
       "      <th>video_title</th>\n",
       "      <th>channel_name</th>\n",
       "      <th>time</th>\n",
       "      <th>app</th>\n",
       "      <th>label</th>\n",
       "      <th>prepped</th>\n",
       "    </tr>\n",
       "  </thead>\n",
       "  <tbody>\n",
       "    <tr>\n",
       "      <th>1</th>\n",
       "      <td>Жбурляю</td>\n",
       "      <td>Харцизи</td>\n",
       "      <td>2023-04-04 14:59:28.805000+03:00</td>\n",
       "      <td>YouTube Music</td>\n",
       "      <td>Music</td>\n",
       "      <td></td>\n",
       "    </tr>\n",
       "    <tr>\n",
       "      <th>2</th>\n",
       "      <td>Ліхтар</td>\n",
       "      <td>Rohata Zhaba</td>\n",
       "      <td>2023-04-04 14:25:11.177000+03:00</td>\n",
       "      <td>YouTube</td>\n",
       "      <td>Not Music</td>\n",
       "      <td></td>\n",
       "    </tr>\n",
       "    <tr>\n",
       "      <th>3</th>\n",
       "      <td>Drinker's Chasers - ANOTHER Rey Skywalker Movie?!</td>\n",
       "      <td>Critical Drinker After Hours</td>\n",
       "      <td>2023-04-04 14:12:17.193000+03:00</td>\n",
       "      <td>YouTube</td>\n",
       "      <td>Not Music</td>\n",
       "      <td>drinkers chasers another rey skywalker movie</td>\n",
       "    </tr>\n",
       "    <tr>\n",
       "      <th>4</th>\n",
       "      <td>Test Your English Vocabulary: SHAPES &amp; PATTERNS</td>\n",
       "      <td>Learn English with Gill · engVid</td>\n",
       "      <td>2023-04-04 14:06:00.179000+03:00</td>\n",
       "      <td>YouTube</td>\n",
       "      <td>Not Music</td>\n",
       "      <td>test english vocabulary shapes patterns</td>\n",
       "    </tr>\n",
       "    <tr>\n",
       "      <th>5</th>\n",
       "      <td>Finland joins NATO in historic shift prompted ...</td>\n",
       "      <td>FRANCE 24 English</td>\n",
       "      <td>2023-04-04 14:02:41.452000+03:00</td>\n",
       "      <td>YouTube</td>\n",
       "      <td>Not Music</td>\n",
       "      <td>finland joins nato historic shift prompted ukr...</td>\n",
       "    </tr>\n",
       "  </tbody>\n",
       "</table>\n",
       "</div>"
      ],
      "text/plain": [
       "                                         video_title  \\\n",
       "1                                            Жбурляю   \n",
       "2                                             Ліхтар   \n",
       "3  Drinker's Chasers - ANOTHER Rey Skywalker Movie?!   \n",
       "4    Test Your English Vocabulary: SHAPES & PATTERNS   \n",
       "5  Finland joins NATO in historic shift prompted ...   \n",
       "\n",
       "                       channel_name                             time  \\\n",
       "1                           Харцизи 2023-04-04 14:59:28.805000+03:00   \n",
       "2                      Rohata Zhaba 2023-04-04 14:25:11.177000+03:00   \n",
       "3      Critical Drinker After Hours 2023-04-04 14:12:17.193000+03:00   \n",
       "4  Learn English with Gill · engVid 2023-04-04 14:06:00.179000+03:00   \n",
       "5                 FRANCE 24 English 2023-04-04 14:02:41.452000+03:00   \n",
       "\n",
       "             app      label                                            prepped  \n",
       "1  YouTube Music      Music                                                     \n",
       "2        YouTube  Not Music                                                     \n",
       "3        YouTube  Not Music       drinkers chasers another rey skywalker movie  \n",
       "4        YouTube  Not Music            test english vocabulary shapes patterns  \n",
       "5        YouTube  Not Music  finland joins nato historic shift prompted ukr...  "
      ]
     },
     "execution_count": 23,
     "metadata": {},
     "output_type": "execute_result"
    }
   ],
   "source": [
    "df.head()"
   ]
  },
  {
   "cell_type": "code",
   "execution_count": 24,
   "metadata": {},
   "outputs": [
    {
     "data": {
      "text/plain": [
       "4395"
      ]
     },
     "execution_count": 24,
     "metadata": {},
     "output_type": "execute_result"
    }
   ],
   "source": [
    "len(df)"
   ]
  },
  {
   "cell_type": "code",
   "execution_count": 25,
   "metadata": {},
   "outputs": [
    {
     "name": "stdout",
     "output_type": "stream",
     "text": [
      "991\n"
     ]
    }
   ],
   "source": [
    "count = sum(df['prepped'].str.len() < 4)\n",
    "print(count)"
   ]
  },
  {
   "attachments": {},
   "cell_type": "markdown",
   "metadata": {},
   "source": [
    "We can see that around quarter of all rows are probably ukrainian videos"
   ]
  },
  {
   "cell_type": "code",
   "execution_count": 26,
   "metadata": {},
   "outputs": [
    {
     "name": "stderr",
     "output_type": "stream",
     "text": [
      "[nltk_data] Error loading ukrainian: Package 'ukrainian' not found in\n",
      "[nltk_data]     index\n"
     ]
    },
    {
     "data": {
      "text/plain": [
       "False"
      ]
     },
     "execution_count": 26,
     "metadata": {},
     "output_type": "execute_result"
    }
   ],
   "source": [
    "import nltk\n",
    "# nltk.download('stopwords')\n",
    "# nltk.download('averaged_perceptron_tagger')\n",
    "# nltk.download('punkt')\n",
    "# nltk.download('tagsets')\n",
    "# nltk.download('wordnet')\n",
    "# nltk.download('omw')\n",
    "# nltk.download('words')\n",
    "nltk.download('ukrainian')"
   ]
  },
  {
   "cell_type": "code",
   "execution_count": 27,
   "metadata": {},
   "outputs": [
    {
     "name": "stdout",
     "output_type": "stream",
     "text": [
      "['arabic', 'azerbaijani', 'basque', 'bengali', 'catalan', 'chinese', 'danish', 'dutch', 'english', 'finnish', 'french', 'german', 'greek', 'hebrew', 'hinglish', 'hungarian', 'indonesian', 'italian', 'kazakh', 'nepali', 'norwegian', 'portuguese', 'romanian', 'russian', 'slovene', 'spanish', 'swedish', 'tajik', 'turkish']\n"
     ]
    }
   ],
   "source": [
    "from nltk.corpus import stopwords\n",
    "print(stopwords.fileids())"
   ]
  },
  {
   "cell_type": "code",
   "execution_count": 28,
   "metadata": {},
   "outputs": [
    {
     "name": "stderr",
     "output_type": "stream",
     "text": [
      "C:\\Windows\\Temp\\ipykernel_16224\\1659381117.py:21: SettingWithCopyWarning: \n",
      "A value is trying to be set on a copy of a slice from a DataFrame.\n",
      "Try using .loc[row_indexer,col_indexer] = value instead\n",
      "\n",
      "See the caveats in the documentation: https://pandas.pydata.org/pandas-docs/stable/user_guide/indexing.html#returning-a-view-versus-a-copy\n",
      "  empty_rows['prepped_ukr'] = empty_rows['video_title'].apply(preprocess_ukr)\n"
     ]
    }
   ],
   "source": [
    "def preprocess_ukr(text):\n",
    "    sentences = re.split(\"[\\n\\t]\", text)\n",
    "    # remove empty lines\n",
    "    sentences = [sentence for sentence in sentences if sentence]\n",
    "    # further cleaning\n",
    "    sentences = [re.sub(r\"[^0-9а-яА-Я\\s]\", \"\", sentence, re.I|re.A).lower() for sentence in sentences]\n",
    "    sentences = [sentence.lower().strip() for sentence in sentences]\n",
    "    wpt = nltk.WordPunctTokenizer()\n",
    "    # stop_words = nltk.corpus.stopwords.words(\"ukrainian\")\n",
    "    output = []\n",
    "    for sentence in sentences:\n",
    "        tokens = wpt.tokenize(sentence)\n",
    "        filtered_tokens = [token for token in tokens]\n",
    "        output.append(\" \".join(filtered_tokens))\n",
    "    return \" \".join(output) if len(output) >= 4 else \"\"\n",
    "\n",
    "# filter DataFrame to only include rows where 'prepped' has length < 4\n",
    "empty_rows = df[df['prepped'].str.len() < 4]\n",
    "\n",
    "# apply ukrainian preprocessing to the 'video_title' column for these rows\n",
    "empty_rows['prepped_ukr'] = empty_rows['video_title'].apply(preprocess_ukr)\n",
    "\n",
    "# update the original DataFrame with the preprocessed values for the empty rows\n",
    "df.update(empty_rows)"
   ]
  },
  {
   "cell_type": "code",
   "execution_count": 29,
   "metadata": {},
   "outputs": [
    {
     "data": {
      "text/html": [
       "<div>\n",
       "<style scoped>\n",
       "    .dataframe tbody tr th:only-of-type {\n",
       "        vertical-align: middle;\n",
       "    }\n",
       "\n",
       "    .dataframe tbody tr th {\n",
       "        vertical-align: top;\n",
       "    }\n",
       "\n",
       "    .dataframe thead th {\n",
       "        text-align: right;\n",
       "    }\n",
       "</style>\n",
       "<table border=\"1\" class=\"dataframe\">\n",
       "  <thead>\n",
       "    <tr style=\"text-align: right;\">\n",
       "      <th></th>\n",
       "      <th>video_title</th>\n",
       "      <th>channel_name</th>\n",
       "      <th>time</th>\n",
       "      <th>app</th>\n",
       "      <th>label</th>\n",
       "      <th>prepped</th>\n",
       "      <th>prepped_ukr</th>\n",
       "    </tr>\n",
       "  </thead>\n",
       "  <tbody>\n",
       "    <tr>\n",
       "      <th>1</th>\n",
       "      <td>Жбурляю</td>\n",
       "      <td>Харцизи</td>\n",
       "      <td>2023-04-04 14:59:28.805000+03:00</td>\n",
       "      <td>YouTube Music</td>\n",
       "      <td>Music</td>\n",
       "      <td></td>\n",
       "      <td></td>\n",
       "    </tr>\n",
       "    <tr>\n",
       "      <th>2</th>\n",
       "      <td>Ліхтар</td>\n",
       "      <td>Rohata Zhaba</td>\n",
       "      <td>2023-04-04 14:25:11.177000+03:00</td>\n",
       "      <td>YouTube</td>\n",
       "      <td>Not Music</td>\n",
       "      <td></td>\n",
       "      <td></td>\n",
       "    </tr>\n",
       "    <tr>\n",
       "      <th>9</th>\n",
       "      <td>Мавка</td>\n",
       "      <td>Authentix</td>\n",
       "      <td>2023-04-04 12:57:54.594000+03:00</td>\n",
       "      <td>YouTube</td>\n",
       "      <td>Not Music</td>\n",
       "      <td></td>\n",
       "      <td></td>\n",
       "    </tr>\n",
       "    <tr>\n",
       "      <th>10</th>\n",
       "      <td>Харцизи  - Забуті боги</td>\n",
       "      <td>Харцизи</td>\n",
       "      <td>2023-04-04 12:50:32.692000+03:00</td>\n",
       "      <td>YouTube</td>\n",
       "      <td>Music</td>\n",
       "      <td></td>\n",
       "      <td></td>\n",
       "    </tr>\n",
       "    <tr>\n",
       "      <th>13</th>\n",
       "      <td>Злива</td>\n",
       "      <td>Харцизи</td>\n",
       "      <td>2023-04-04 12:44:35.400000+03:00</td>\n",
       "      <td>YouTube</td>\n",
       "      <td>Music</td>\n",
       "      <td></td>\n",
       "      <td></td>\n",
       "    </tr>\n",
       "    <tr>\n",
       "      <th>...</th>\n",
       "      <td>...</td>\n",
       "      <td>...</td>\n",
       "      <td>...</td>\n",
       "      <td>...</td>\n",
       "      <td>...</td>\n",
       "      <td>...</td>\n",
       "      <td>...</td>\n",
       "    </tr>\n",
       "    <tr>\n",
       "      <th>4257</th>\n",
       "      <td>Тихо прийшов, тихо пішов або пісня спеціальног...</td>\n",
       "      <td>Riffmaster</td>\n",
       "      <td>2023-01-03 17:29:21.578000+02:00</td>\n",
       "      <td>YouTube Music</td>\n",
       "      <td>Music</td>\n",
       "      <td></td>\n",
       "      <td></td>\n",
       "    </tr>\n",
       "    <tr>\n",
       "      <th>4310</th>\n",
       "      <td>Сухпай Збройних сил Республіки Корея 한국군 배급</td>\n",
       "      <td>ХЛОПЦІ З ЛІСУ</td>\n",
       "      <td>2023-01-02 21:39:10.283000+02:00</td>\n",
       "      <td>YouTube</td>\n",
       "      <td>Not Music</td>\n",
       "      <td></td>\n",
       "      <td></td>\n",
       "    </tr>\n",
       "    <tr>\n",
       "      <th>4335</th>\n",
       "      <td>D.M.G. - Ненавижу , блять , цыган!!!</td>\n",
       "      <td>Сметанин Василий</td>\n",
       "      <td>2023-01-02 13:01:31.968000+02:00</td>\n",
       "      <td>YouTube</td>\n",
       "      <td>Not Music</td>\n",
       "      <td>dmg</td>\n",
       "      <td></td>\n",
       "    </tr>\n",
       "    <tr>\n",
       "      <th>4346</th>\n",
       "      <td>Як військові відреагували на звернення Зеленсь...</td>\n",
       "      <td>Ukrainian Witness</td>\n",
       "      <td>2023-01-02 08:53:54.148000+02:00</td>\n",
       "      <td>YouTube</td>\n",
       "      <td>Not Music</td>\n",
       "      <td></td>\n",
       "      <td></td>\n",
       "    </tr>\n",
       "    <tr>\n",
       "      <th>4395</th>\n",
       "      <td>Гімн України</td>\n",
       "      <td>Oleksandr Ponomariov</td>\n",
       "      <td>2023-01-01 00:06:19.680000+02:00</td>\n",
       "      <td>YouTube</td>\n",
       "      <td>Not Music</td>\n",
       "      <td></td>\n",
       "      <td></td>\n",
       "    </tr>\n",
       "  </tbody>\n",
       "</table>\n",
       "<p>991 rows × 7 columns</p>\n",
       "</div>"
      ],
      "text/plain": [
       "                                            video_title          channel_name  \\\n",
       "1                                               Жбурляю               Харцизи   \n",
       "2                                                Ліхтар          Rohata Zhaba   \n",
       "9                                                 Мавка             Authentix   \n",
       "10                               Харцизи  - Забуті боги               Харцизи   \n",
       "13                                                Злива               Харцизи   \n",
       "...                                                 ...                   ...   \n",
       "4257  Тихо прийшов, тихо пішов або пісня спеціальног...            Riffmaster   \n",
       "4310        Сухпай Збройних сил Республіки Корея 한국군 배급         ХЛОПЦІ З ЛІСУ   \n",
       "4335               D.M.G. - Ненавижу , блять , цыган!!!      Сметанин Василий   \n",
       "4346  Як військові відреагували на звернення Зеленсь...     Ukrainian Witness   \n",
       "4395                                       Гімн України  Oleksandr Ponomariov   \n",
       "\n",
       "                                 time            app      label prepped  \\\n",
       "1    2023-04-04 14:59:28.805000+03:00  YouTube Music      Music           \n",
       "2    2023-04-04 14:25:11.177000+03:00        YouTube  Not Music           \n",
       "9    2023-04-04 12:57:54.594000+03:00        YouTube  Not Music           \n",
       "10   2023-04-04 12:50:32.692000+03:00        YouTube      Music           \n",
       "13   2023-04-04 12:44:35.400000+03:00        YouTube      Music           \n",
       "...                               ...            ...        ...     ...   \n",
       "4257 2023-01-03 17:29:21.578000+02:00  YouTube Music      Music           \n",
       "4310 2023-01-02 21:39:10.283000+02:00        YouTube  Not Music           \n",
       "4335 2023-01-02 13:01:31.968000+02:00        YouTube  Not Music     dmg   \n",
       "4346 2023-01-02 08:53:54.148000+02:00        YouTube  Not Music           \n",
       "4395 2023-01-01 00:06:19.680000+02:00        YouTube  Not Music           \n",
       "\n",
       "     prepped_ukr  \n",
       "1                 \n",
       "2                 \n",
       "9                 \n",
       "10                \n",
       "13                \n",
       "...          ...  \n",
       "4257              \n",
       "4310              \n",
       "4335              \n",
       "4346              \n",
       "4395              \n",
       "\n",
       "[991 rows x 7 columns]"
      ]
     },
     "execution_count": 29,
     "metadata": {},
     "output_type": "execute_result"
    }
   ],
   "source": [
    "empty_rows"
   ]
  },
  {
   "attachments": {},
   "cell_type": "markdown",
   "metadata": {},
   "source": [
    "Come to think of it, let's keep it simple for now, and select only english rows"
   ]
  },
  {
   "cell_type": "code",
   "execution_count": 30,
   "metadata": {},
   "outputs": [
    {
     "data": {
      "text/html": [
       "<div>\n",
       "<style scoped>\n",
       "    .dataframe tbody tr th:only-of-type {\n",
       "        vertical-align: middle;\n",
       "    }\n",
       "\n",
       "    .dataframe tbody tr th {\n",
       "        vertical-align: top;\n",
       "    }\n",
       "\n",
       "    .dataframe thead th {\n",
       "        text-align: right;\n",
       "    }\n",
       "</style>\n",
       "<table border=\"1\" class=\"dataframe\">\n",
       "  <thead>\n",
       "    <tr style=\"text-align: right;\">\n",
       "      <th></th>\n",
       "      <th>video_title</th>\n",
       "      <th>channel_name</th>\n",
       "      <th>time</th>\n",
       "      <th>app</th>\n",
       "      <th>label</th>\n",
       "      <th>prepped</th>\n",
       "    </tr>\n",
       "  </thead>\n",
       "  <tbody>\n",
       "    <tr>\n",
       "      <th>3</th>\n",
       "      <td>Drinker's Chasers - ANOTHER Rey Skywalker Movie?!</td>\n",
       "      <td>Critical Drinker After Hours</td>\n",
       "      <td>2023-04-04 14:12:17.193000+03:00</td>\n",
       "      <td>YouTube</td>\n",
       "      <td>Not Music</td>\n",
       "      <td>drinkers chasers another rey skywalker movie</td>\n",
       "    </tr>\n",
       "    <tr>\n",
       "      <th>4</th>\n",
       "      <td>Test Your English Vocabulary: SHAPES &amp; PATTERNS</td>\n",
       "      <td>Learn English with Gill · engVid</td>\n",
       "      <td>2023-04-04 14:06:00.179000+03:00</td>\n",
       "      <td>YouTube</td>\n",
       "      <td>Not Music</td>\n",
       "      <td>test english vocabulary shapes patterns</td>\n",
       "    </tr>\n",
       "    <tr>\n",
       "      <th>5</th>\n",
       "      <td>Finland joins NATO in historic shift prompted ...</td>\n",
       "      <td>FRANCE 24 English</td>\n",
       "      <td>2023-04-04 14:02:41.452000+03:00</td>\n",
       "      <td>YouTube</td>\n",
       "      <td>Not Music</td>\n",
       "      <td>finland joins nato historic shift prompted ukr...</td>\n",
       "    </tr>\n",
       "    <tr>\n",
       "      <th>6</th>\n",
       "      <td>Finland joins NATO in the alliance's fastest-e...</td>\n",
       "      <td>euronews</td>\n",
       "      <td>2023-04-04 14:01:33.369000+03:00</td>\n",
       "      <td>YouTube</td>\n",
       "      <td>Not Music</td>\n",
       "      <td>finland joins nato alliances fastestever acces...</td>\n",
       "    </tr>\n",
       "    <tr>\n",
       "      <th>7</th>\n",
       "      <td>Finland's Election Results Explained: How Sann...</td>\n",
       "      <td>TLDR News EU</td>\n",
       "      <td>2023-04-04 14:01:00.878000+03:00</td>\n",
       "      <td>YouTube</td>\n",
       "      <td>Not Music</td>\n",
       "      <td>finlands election results explained sanna mari...</td>\n",
       "    </tr>\n",
       "    <tr>\n",
       "      <th>...</th>\n",
       "      <td>...</td>\n",
       "      <td>...</td>\n",
       "      <td>...</td>\n",
       "      <td>...</td>\n",
       "      <td>...</td>\n",
       "      <td>...</td>\n",
       "    </tr>\n",
       "    <tr>\n",
       "      <th>4390</th>\n",
       "      <td>Pathfinder: Kingmaker Review</td>\n",
       "      <td>MandaloreGaming</td>\n",
       "      <td>2023-01-01 10:15:11.845000+02:00</td>\n",
       "      <td>YouTube</td>\n",
       "      <td>Not Music</td>\n",
       "      <td>pathfinder kingmaker review</td>\n",
       "    </tr>\n",
       "    <tr>\n",
       "      <th>4391</th>\n",
       "      <td>Assassin's Creed Odyssey - Before You Buy</td>\n",
       "      <td>gameranx</td>\n",
       "      <td>2023-01-01 10:02:05.355000+02:00</td>\n",
       "      <td>YouTube</td>\n",
       "      <td>Not Music</td>\n",
       "      <td>assassins creed odyssey buy</td>\n",
       "    </tr>\n",
       "    <tr>\n",
       "      <th>4392</th>\n",
       "      <td>#Ukraine's spy chief tells ABC News there will...</td>\n",
       "      <td>ABC News</td>\n",
       "      <td>2023-01-01 09:44:58.841000+02:00</td>\n",
       "      <td>YouTube</td>\n",
       "      <td>Not Music</td>\n",
       "      <td>ukraines spy chief tells abc news likely attac...</td>\n",
       "    </tr>\n",
       "    <tr>\n",
       "      <th>4393</th>\n",
       "      <td>Russian missile zooms over Kyiv before being s...</td>\n",
       "      <td>The Sun</td>\n",
       "      <td>2023-01-01 09:43:07.927000+02:00</td>\n",
       "      <td>YouTube</td>\n",
       "      <td>Not Music</td>\n",
       "      <td>russian missile zooms kyiv shot time</td>\n",
       "    </tr>\n",
       "    <tr>\n",
       "      <th>4394</th>\n",
       "      <td>YARMAK FT. TOF - МОЯ КРАЇНА</td>\n",
       "      <td>Yarmak Music</td>\n",
       "      <td>2023-01-01 00:07:14.838000+02:00</td>\n",
       "      <td>YouTube</td>\n",
       "      <td>Music</td>\n",
       "      <td>yarmak ft tof</td>\n",
       "    </tr>\n",
       "  </tbody>\n",
       "</table>\n",
       "<p>3404 rows × 6 columns</p>\n",
       "</div>"
      ],
      "text/plain": [
       "                                            video_title  \\\n",
       "3     Drinker's Chasers - ANOTHER Rey Skywalker Movie?!   \n",
       "4       Test Your English Vocabulary: SHAPES & PATTERNS   \n",
       "5     Finland joins NATO in historic shift prompted ...   \n",
       "6     Finland joins NATO in the alliance's fastest-e...   \n",
       "7     Finland's Election Results Explained: How Sann...   \n",
       "...                                                 ...   \n",
       "4390                       Pathfinder: Kingmaker Review   \n",
       "4391          Assassin's Creed Odyssey - Before You Buy   \n",
       "4392  #Ukraine's spy chief tells ABC News there will...   \n",
       "4393  Russian missile zooms over Kyiv before being s...   \n",
       "4394                        YARMAK FT. TOF - МОЯ КРАЇНА   \n",
       "\n",
       "                          channel_name                             time  \\\n",
       "3         Critical Drinker After Hours 2023-04-04 14:12:17.193000+03:00   \n",
       "4     Learn English with Gill · engVid 2023-04-04 14:06:00.179000+03:00   \n",
       "5                    FRANCE 24 English 2023-04-04 14:02:41.452000+03:00   \n",
       "6                             euronews 2023-04-04 14:01:33.369000+03:00   \n",
       "7                         TLDR News EU 2023-04-04 14:01:00.878000+03:00   \n",
       "...                                ...                              ...   \n",
       "4390                   MandaloreGaming 2023-01-01 10:15:11.845000+02:00   \n",
       "4391                          gameranx 2023-01-01 10:02:05.355000+02:00   \n",
       "4392                          ABC News 2023-01-01 09:44:58.841000+02:00   \n",
       "4393                           The Sun 2023-01-01 09:43:07.927000+02:00   \n",
       "4394                      Yarmak Music 2023-01-01 00:07:14.838000+02:00   \n",
       "\n",
       "          app      label                                            prepped  \n",
       "3     YouTube  Not Music       drinkers chasers another rey skywalker movie  \n",
       "4     YouTube  Not Music            test english vocabulary shapes patterns  \n",
       "5     YouTube  Not Music  finland joins nato historic shift prompted ukr...  \n",
       "6     YouTube  Not Music  finland joins nato alliances fastestever acces...  \n",
       "7     YouTube  Not Music  finlands election results explained sanna mari...  \n",
       "...       ...        ...                                                ...  \n",
       "4390  YouTube  Not Music                        pathfinder kingmaker review  \n",
       "4391  YouTube  Not Music                        assassins creed odyssey buy  \n",
       "4392  YouTube  Not Music  ukraines spy chief tells abc news likely attac...  \n",
       "4393  YouTube  Not Music               russian missile zooms kyiv shot time  \n",
       "4394  YouTube      Music                                      yarmak ft tof  \n",
       "\n",
       "[3404 rows x 6 columns]"
      ]
     },
     "execution_count": 30,
     "metadata": {},
     "output_type": "execute_result"
    }
   ],
   "source": [
    "prepped_df = df[df['prepped'].str.len() >= 4]\n",
    "prepped_df"
   ]
  },
  {
   "attachments": {},
   "cell_type": "markdown",
   "metadata": {},
   "source": [
    "Let's preserve the dataset above just in case"
   ]
  },
  {
   "cell_type": "code",
   "execution_count": 31,
   "metadata": {},
   "outputs": [],
   "source": [
    "# prepped_df.to_csv(\"prepped_data.csv\")"
   ]
  },
  {
   "attachments": {},
   "cell_type": "markdown",
   "metadata": {},
   "source": [
    "Time for label assignment"
   ]
  },
  {
   "cell_type": "code",
   "execution_count": 32,
   "metadata": {},
   "outputs": [
    {
     "data": {
      "text/html": [
       "<div>\n",
       "<style scoped>\n",
       "    .dataframe tbody tr th:only-of-type {\n",
       "        vertical-align: middle;\n",
       "    }\n",
       "\n",
       "    .dataframe tbody tr th {\n",
       "        vertical-align: top;\n",
       "    }\n",
       "\n",
       "    .dataframe thead th {\n",
       "        text-align: right;\n",
       "    }\n",
       "</style>\n",
       "<table border=\"1\" class=\"dataframe\">\n",
       "  <thead>\n",
       "    <tr style=\"text-align: right;\">\n",
       "      <th></th>\n",
       "      <th>video_title</th>\n",
       "      <th>channel_name</th>\n",
       "      <th>app</th>\n",
       "      <th>label</th>\n",
       "      <th>prepped</th>\n",
       "    </tr>\n",
       "  </thead>\n",
       "  <tbody>\n",
       "    <tr>\n",
       "      <th>397</th>\n",
       "      <td>Testing if Sharks Can Smell a Drop of Blood</td>\n",
       "      <td>Mark Rober</td>\n",
       "      <td>YouTube</td>\n",
       "      <td>Not Music</td>\n",
       "      <td>testing sharks smell drop blood</td>\n",
       "    </tr>\n",
       "    <tr>\n",
       "      <th>971</th>\n",
       "      <td>Yakuza 0- Karaoke: 24-hour Cinderella (Majima)</td>\n",
       "      <td>IosonoOtakuman</td>\n",
       "      <td>YouTube</td>\n",
       "      <td>Not Music</td>\n",
       "      <td>yakuza 0 karaoke 24hour cinderella majima</td>\n",
       "    </tr>\n",
       "    <tr>\n",
       "      <th>2754</th>\n",
       "      <td>Why You Should Read: Mistborn By Brandon Sande...</td>\n",
       "      <td>Mike's Book Reviews</td>\n",
       "      <td>YouTube</td>\n",
       "      <td>Not Music</td>\n",
       "      <td>read mistborn brandon sanderson spoilerfree</td>\n",
       "    </tr>\n",
       "    <tr>\n",
       "      <th>575</th>\n",
       "      <td>Taking advantage of noobs - Scammer</td>\n",
       "      <td>Viva La Dirt League</td>\n",
       "      <td>YouTube</td>\n",
       "      <td>Not Music</td>\n",
       "      <td>taking advantage noobs scammer</td>\n",
       "    </tr>\n",
       "    <tr>\n",
       "      <th>637</th>\n",
       "      <td>How GitHub works</td>\n",
       "      <td>GitHub</td>\n",
       "      <td>YouTube</td>\n",
       "      <td>Not Music</td>\n",
       "      <td>github works</td>\n",
       "    </tr>\n",
       "    <tr>\n",
       "      <th>...</th>\n",
       "      <td>...</td>\n",
       "      <td>...</td>\n",
       "      <td>...</td>\n",
       "      <td>...</td>\n",
       "      <td>...</td>\n",
       "    </tr>\n",
       "    <tr>\n",
       "      <th>1950</th>\n",
       "      <td>Zero to Hero (From \"Marvel's Guardians of the ...</td>\n",
       "      <td>MarvelMusicVEVO</td>\n",
       "      <td>YouTube Music</td>\n",
       "      <td>Music</td>\n",
       "      <td>zero hero marvels guardians galaxy original vi...</td>\n",
       "    </tr>\n",
       "    <tr>\n",
       "      <th>283</th>\n",
       "      <td>the necrons casually closed off the eye of ter...</td>\n",
       "      <td>Szarekh the Silent King</td>\n",
       "      <td>YouTube</td>\n",
       "      <td>Not Music</td>\n",
       "      <td>necrons casually closed eye terror</td>\n",
       "    </tr>\n",
       "    <tr>\n",
       "      <th>1468</th>\n",
       "      <td>Are Russian tanks poorly designed?</td>\n",
       "      <td>Ryan McBeth</td>\n",
       "      <td>YouTube</td>\n",
       "      <td>Not Music</td>\n",
       "      <td>russian tanks poorly designed</td>\n",
       "    </tr>\n",
       "    <tr>\n",
       "      <th>1543</th>\n",
       "      <td>Курган - Лове (Love)</td>\n",
       "      <td>СЕЛЮКИ</td>\n",
       "      <td>YouTube</td>\n",
       "      <td>Not Music</td>\n",
       "      <td>love</td>\n",
       "    </tr>\n",
       "    <tr>\n",
       "      <th>210</th>\n",
       "      <td>Lawrence of Arabia 1962 2160p UHD HDR Full Movie</td>\n",
       "      <td>Siavash Es</td>\n",
       "      <td>YouTube</td>\n",
       "      <td>Not Music</td>\n",
       "      <td>lawrence arabia 1962 2160p uhd hdr full movie</td>\n",
       "    </tr>\n",
       "  </tbody>\n",
       "</table>\n",
       "<p>120 rows × 5 columns</p>\n",
       "</div>"
      ],
      "text/plain": [
       "                                            video_title  \\\n",
       "397         Testing if Sharks Can Smell a Drop of Blood   \n",
       "971      Yakuza 0- Karaoke: 24-hour Cinderella (Majima)   \n",
       "2754  Why You Should Read: Mistborn By Brandon Sande...   \n",
       "575                 Taking advantage of noobs - Scammer   \n",
       "637                                    How GitHub works   \n",
       "...                                                 ...   \n",
       "1950  Zero to Hero (From \"Marvel's Guardians of the ...   \n",
       "283   the necrons casually closed off the eye of ter...   \n",
       "1468                 Are Russian tanks poorly designed?   \n",
       "1543                               Курган - Лове (Love)   \n",
       "210    Lawrence of Arabia 1962 2160p UHD HDR Full Movie   \n",
       "\n",
       "                 channel_name            app      label  \\\n",
       "397                Mark Rober        YouTube  Not Music   \n",
       "971            IosonoOtakuman        YouTube  Not Music   \n",
       "2754      Mike's Book Reviews        YouTube  Not Music   \n",
       "575       Viva La Dirt League        YouTube  Not Music   \n",
       "637                    GitHub        YouTube  Not Music   \n",
       "...                       ...            ...        ...   \n",
       "1950          MarvelMusicVEVO  YouTube Music      Music   \n",
       "283   Szarekh the Silent King        YouTube  Not Music   \n",
       "1468              Ryan McBeth        YouTube  Not Music   \n",
       "1543                   СЕЛЮКИ        YouTube  Not Music   \n",
       "210                Siavash Es        YouTube  Not Music   \n",
       "\n",
       "                                                prepped  \n",
       "397                     testing sharks smell drop blood  \n",
       "971           yakuza 0 karaoke 24hour cinderella majima  \n",
       "2754        read mistborn brandon sanderson spoilerfree  \n",
       "575                      taking advantage noobs scammer  \n",
       "637                                        github works  \n",
       "...                                                 ...  \n",
       "1950  zero hero marvels guardians galaxy original vi...  \n",
       "283                  necrons casually closed eye terror  \n",
       "1468                      russian tanks poorly designed  \n",
       "1543                                               love  \n",
       "210       lawrence arabia 1962 2160p uhd hdr full movie  \n",
       "\n",
       "[120 rows x 5 columns]"
      ]
     },
     "execution_count": 32,
     "metadata": {},
     "output_type": "execute_result"
    }
   ],
   "source": [
    "sample = prepped_df.sample(n=120, random_state=42).drop([\"time\"], axis=1)\n",
    "sample"
   ]
  },
  {
   "cell_type": "code",
   "execution_count": 33,
   "metadata": {},
   "outputs": [
    {
     "data": {
      "text/plain": [
       "Not Music    72\n",
       "Music        48\n",
       "Name: label, dtype: int64"
      ]
     },
     "execution_count": 33,
     "metadata": {},
     "output_type": "execute_result"
    }
   ],
   "source": [
    "sample[\"label\"].value_counts()"
   ]
  },
  {
   "cell_type": "code",
   "execution_count": 34,
   "metadata": {},
   "outputs": [],
   "source": [
    "# sample.to_csv(\"eng_only_labeled.csv\")"
   ]
  },
  {
   "cell_type": "code",
   "execution_count": 50,
   "metadata": {},
   "outputs": [
    {
     "data": {
      "text/html": [
       "<div>\n",
       "<style scoped>\n",
       "    .dataframe tbody tr th:only-of-type {\n",
       "        vertical-align: middle;\n",
       "    }\n",
       "\n",
       "    .dataframe tbody tr th {\n",
       "        vertical-align: top;\n",
       "    }\n",
       "\n",
       "    .dataframe thead th {\n",
       "        text-align: right;\n",
       "    }\n",
       "</style>\n",
       "<table border=\"1\" class=\"dataframe\">\n",
       "  <thead>\n",
       "    <tr style=\"text-align: right;\">\n",
       "      <th></th>\n",
       "      <th>video_title</th>\n",
       "      <th>channel_name</th>\n",
       "      <th>app</th>\n",
       "      <th>category</th>\n",
       "      <th>prepped</th>\n",
       "    </tr>\n",
       "  </thead>\n",
       "  <tbody>\n",
       "    <tr>\n",
       "      <th>0</th>\n",
       "      <td>Testing if Sharks Can Smell a Drop of Blood</td>\n",
       "      <td>Mark Rober</td>\n",
       "      <td>YouTube</td>\n",
       "      <td>Rec</td>\n",
       "      <td>testing sharks smell drop blood</td>\n",
       "    </tr>\n",
       "    <tr>\n",
       "      <th>1</th>\n",
       "      <td>Yakuza 0- Karaoke: 24-hour Cinderella (Majima)</td>\n",
       "      <td>IosonoOtakuman</td>\n",
       "      <td>YouTube</td>\n",
       "      <td>Rec</td>\n",
       "      <td>yakuza 0 karaoke 24hour cinderella majima</td>\n",
       "    </tr>\n",
       "    <tr>\n",
       "      <th>2</th>\n",
       "      <td>Why You Should Read: Mistborn By Brandon Sande...</td>\n",
       "      <td>Mike's Book Reviews</td>\n",
       "      <td>YouTube</td>\n",
       "      <td>Rec</td>\n",
       "      <td>read mistborn brandon sanderson spoilerfree</td>\n",
       "    </tr>\n",
       "  </tbody>\n",
       "</table>\n",
       "</div>"
      ],
      "text/plain": [
       "                                         video_title         channel_name  \\\n",
       "0        Testing if Sharks Can Smell a Drop of Blood           Mark Rober   \n",
       "1     Yakuza 0- Karaoke: 24-hour Cinderella (Majima)       IosonoOtakuman   \n",
       "2  Why You Should Read: Mistborn By Brandon Sande...  Mike's Book Reviews   \n",
       "\n",
       "       app category                                      prepped  \n",
       "0  YouTube      Rec              testing sharks smell drop blood  \n",
       "1  YouTube      Rec    yakuza 0 karaoke 24hour cinderella majima  \n",
       "2  YouTube      Rec  read mistborn brandon sanderson spoilerfree  "
      ]
     },
     "execution_count": 50,
     "metadata": {},
     "output_type": "execute_result"
    }
   ],
   "source": [
    "df = pd.read_csv('eng_only_labeled.csv', header = 0).drop([\"Unnamed: 0\"], axis=1)\n",
    "df.head(3)"
   ]
  },
  {
   "cell_type": "code",
   "execution_count": 51,
   "metadata": {},
   "outputs": [
    {
     "data": {
      "text/plain": [
       "Music       58\n",
       "Rec         26\n",
       "Politics    20\n",
       "Studies     11\n",
       "Sport        5\n",
       "Name: category, dtype: int64"
      ]
     },
     "execution_count": 51,
     "metadata": {},
     "output_type": "execute_result"
    }
   ],
   "source": [
    "df[\"category\"].value_counts()"
   ]
  },
  {
   "cell_type": "code",
   "execution_count": 58,
   "metadata": {},
   "outputs": [
    {
     "data": {
      "text/html": [
       "<div>\n",
       "<style scoped>\n",
       "    .dataframe tbody tr th:only-of-type {\n",
       "        vertical-align: middle;\n",
       "    }\n",
       "\n",
       "    .dataframe tbody tr th {\n",
       "        vertical-align: top;\n",
       "    }\n",
       "\n",
       "    .dataframe thead th {\n",
       "        text-align: right;\n",
       "    }\n",
       "</style>\n",
       "<table border=\"1\" class=\"dataframe\">\n",
       "  <thead>\n",
       "    <tr style=\"text-align: right;\">\n",
       "      <th></th>\n",
       "      <th>video_title</th>\n",
       "      <th>channel_name</th>\n",
       "      <th>app</th>\n",
       "      <th>category</th>\n",
       "      <th>prepped</th>\n",
       "      <th>target_label</th>\n",
       "    </tr>\n",
       "  </thead>\n",
       "  <tbody>\n",
       "    <tr>\n",
       "      <th>0</th>\n",
       "      <td>Testing if Sharks Can Smell a Drop of Blood</td>\n",
       "      <td>Mark Rober</td>\n",
       "      <td>YouTube</td>\n",
       "      <td>Rec</td>\n",
       "      <td>testing sharks smell drop blood</td>\n",
       "      <td>1</td>\n",
       "    </tr>\n",
       "    <tr>\n",
       "      <th>1</th>\n",
       "      <td>Yakuza 0- Karaoke: 24-hour Cinderella (Majima)</td>\n",
       "      <td>IosonoOtakuman</td>\n",
       "      <td>YouTube</td>\n",
       "      <td>Rec</td>\n",
       "      <td>yakuza 0 karaoke 24hour cinderella majima</td>\n",
       "      <td>1</td>\n",
       "    </tr>\n",
       "    <tr>\n",
       "      <th>2</th>\n",
       "      <td>Why You Should Read: Mistborn By Brandon Sande...</td>\n",
       "      <td>Mike's Book Reviews</td>\n",
       "      <td>YouTube</td>\n",
       "      <td>Rec</td>\n",
       "      <td>read mistborn brandon sanderson spoilerfree</td>\n",
       "      <td>1</td>\n",
       "    </tr>\n",
       "  </tbody>\n",
       "</table>\n",
       "</div>"
      ],
      "text/plain": [
       "                                         video_title         channel_name  \\\n",
       "0        Testing if Sharks Can Smell a Drop of Blood           Mark Rober   \n",
       "1     Yakuza 0- Karaoke: 24-hour Cinderella (Majima)       IosonoOtakuman   \n",
       "2  Why You Should Read: Mistborn By Brandon Sande...  Mike's Book Reviews   \n",
       "\n",
       "       app category                                      prepped  target_label  \n",
       "0  YouTube      Rec              testing sharks smell drop blood             1  \n",
       "1  YouTube      Rec    yakuza 0 karaoke 24hour cinderella majima             1  \n",
       "2  YouTube      Rec  read mistborn brandon sanderson spoilerfree             1  "
      ]
     },
     "execution_count": 58,
     "metadata": {},
     "output_type": "execute_result"
    }
   ],
   "source": [
    "# df['target_label'] = pd.factorize(df['category'])[0]\n",
    "df[\"target_label\"] = df[\"category\"].map({\n",
    "    \"Music\": 0,\n",
    "    \"Rec\": 1,\n",
    "    \"Politics\": 2,\n",
    "    \"Studies\": 3,\n",
    "    \"Sport\": 4\n",
    "})\n",
    "df.head(3)"
   ]
  },
  {
   "cell_type": "code",
   "execution_count": 59,
   "metadata": {},
   "outputs": [
    {
     "data": {
      "text/plain": [
       "0    58\n",
       "1    26\n",
       "2    20\n",
       "3    11\n",
       "4     5\n",
       "Name: target_label, dtype: int64"
      ]
     },
     "execution_count": 59,
     "metadata": {},
     "output_type": "execute_result"
    }
   ],
   "source": [
    "df[\"target_label\"].value_counts()"
   ]
  },
  {
   "attachments": {},
   "cell_type": "markdown",
   "metadata": {},
   "source": [
    "At last, time to try classification"
   ]
  },
  {
   "cell_type": "code",
   "execution_count": 61,
   "metadata": {},
   "outputs": [
    {
     "data": {
      "text/plain": [
       "((96,), (24,))"
      ]
     },
     "execution_count": 61,
     "metadata": {},
     "output_type": "execute_result"
    }
   ],
   "source": [
    "from sklearn.model_selection import train_test_split\n",
    "\n",
    "train_corpus, test_corpus, train_label_nums, test_label_nums, train_label_names, test_label_names = train_test_split(\n",
    "    np.array(df['prepped']), np.array(df['target_label']), np.array(df['category']), test_size=0.2, random_state=0)\n",
    "train_corpus.shape, test_corpus.shape"
   ]
  },
  {
   "cell_type": "code",
   "execution_count": 62,
   "metadata": {},
   "outputs": [],
   "source": [
    "from sklearn.model_selection import cross_val_score\n",
    "\n",
    "from sklearn.feature_extraction.text import TfidfVectorizer\n",
    "tv = TfidfVectorizer(min_df=0., max_df=1., norm='l2', use_idf=True, smooth_idf=True)\n",
    "tv_train_features = tv.fit_transform(train_corpus)\n",
    "tv_test_features = tv.transform(test_corpus)"
   ]
  },
  {
   "cell_type": "code",
   "execution_count": 63,
   "metadata": {},
   "outputs": [
    {
     "name": "stdout",
     "output_type": "stream",
     "text": [
      "CV Accuracy (5-fold): [0.55       0.57894737 0.47368421 0.57894737 0.52631579]\n",
      "Mean CV Accuracy: 0.541578947368421\n",
      "Test Accuracy: 0.6666666666666666\n"
     ]
    },
    {
     "name": "stderr",
     "output_type": "stream",
     "text": [
      "c:\\Users\\San\\AppData\\Local\\Programs\\Python\\Python310\\lib\\site-packages\\sklearn\\model_selection\\_split.py:684: UserWarning: The least populated class in y has only 4 members, which is less than n_splits=5.\n",
      "  warnings.warn(\n"
     ]
    }
   ],
   "source": [
    "from sklearn.svm import LinearSVC\n",
    "svm = LinearSVC(penalty='l2', C=1, random_state=0)\n",
    "svm.fit(tv_train_features, train_label_names)\n",
    "svm_bow_tv_scores = cross_val_score(svm, tv_train_features, train_label_names, cv=5)\n",
    "svm_bow_tv_mean_score = np.mean(svm_bow_tv_scores)\n",
    "\n",
    "print('CV Accuracy (5-fold):', svm_bow_tv_scores)\n",
    "print('Mean CV Accuracy:', svm_bow_tv_mean_score)\n",
    "svm_bow_test_score = svm.score(tv_test_features, test_label_names)\n",
    "print('Test Accuracy:', svm_bow_test_score)"
   ]
  }
 ],
 "metadata": {
  "kernelspec": {
   "display_name": "Python 3",
   "language": "python",
   "name": "python3"
  },
  "language_info": {
   "codemirror_mode": {
    "name": "ipython",
    "version": 3
   },
   "file_extension": ".py",
   "mimetype": "text/x-python",
   "name": "python",
   "nbconvert_exporter": "python",
   "pygments_lexer": "ipython3",
   "version": "3.10.2"
  },
  "orig_nbformat": 4
 },
 "nbformat": 4,
 "nbformat_minor": 2
}
