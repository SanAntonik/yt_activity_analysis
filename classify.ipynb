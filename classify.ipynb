{
 "cells": [
  {
   "attachments": {},
   "cell_type": "markdown",
   "metadata": {},
   "source": [
    "# Classify your YouTube history"
   ]
  },
  {
   "attachments": {},
   "cell_type": "markdown",
   "metadata": {},
   "source": [
    "## Prepare data"
   ]
  },
  {
   "cell_type": "code",
   "execution_count": 1,
   "metadata": {},
   "outputs": [],
   "source": [
    "import pandas as pd\n",
    "import numpy as np\n",
    "import re\n",
    "import nltk\n",
    "\n",
    "from preparation import prepare_data\n",
    "from select_by_date_interval import select_by_date_interval"
   ]
  },
  {
   "cell_type": "code",
   "execution_count": 2,
   "metadata": {},
   "outputs": [
    {
     "data": {
      "text/html": [
       "<div>\n",
       "<style scoped>\n",
       "    .dataframe tbody tr th:only-of-type {\n",
       "        vertical-align: middle;\n",
       "    }\n",
       "\n",
       "    .dataframe tbody tr th {\n",
       "        vertical-align: top;\n",
       "    }\n",
       "\n",
       "    .dataframe thead th {\n",
       "        text-align: right;\n",
       "    }\n",
       "</style>\n",
       "<table border=\"1\" class=\"dataframe\">\n",
       "  <thead>\n",
       "    <tr style=\"text-align: right;\">\n",
       "      <th></th>\n",
       "      <th>video_title</th>\n",
       "      <th>channel_name</th>\n",
       "      <th>time</th>\n",
       "      <th>app</th>\n",
       "    </tr>\n",
       "  </thead>\n",
       "  <tbody>\n",
       "    <tr>\n",
       "      <th>1</th>\n",
       "      <td>Жбурляю</td>\n",
       "      <td>Харцизи</td>\n",
       "      <td>2023-04-04 14:59:28.805000+03:00</td>\n",
       "      <td>YouTube Music</td>\n",
       "    </tr>\n",
       "    <tr>\n",
       "      <th>2</th>\n",
       "      <td>Ліхтар</td>\n",
       "      <td>Rohata Zhaba</td>\n",
       "      <td>2023-04-04 14:25:11.177000+03:00</td>\n",
       "      <td>YouTube</td>\n",
       "    </tr>\n",
       "    <tr>\n",
       "      <th>3</th>\n",
       "      <td>Drinker's Chasers - ANOTHER Rey Skywalker Movie?!</td>\n",
       "      <td>Critical Drinker After Hours</td>\n",
       "      <td>2023-04-04 14:12:17.193000+03:00</td>\n",
       "      <td>YouTube</td>\n",
       "    </tr>\n",
       "    <tr>\n",
       "      <th>4</th>\n",
       "      <td>Test Your English Vocabulary: SHAPES &amp; PATTERNS</td>\n",
       "      <td>Learn English with Gill · engVid</td>\n",
       "      <td>2023-04-04 14:06:00.179000+03:00</td>\n",
       "      <td>YouTube</td>\n",
       "    </tr>\n",
       "    <tr>\n",
       "      <th>5</th>\n",
       "      <td>Finland joins NATO in historic shift prompted ...</td>\n",
       "      <td>FRANCE 24 English</td>\n",
       "      <td>2023-04-04 14:02:41.452000+03:00</td>\n",
       "      <td>YouTube</td>\n",
       "    </tr>\n",
       "    <tr>\n",
       "      <th>...</th>\n",
       "      <td>...</td>\n",
       "      <td>...</td>\n",
       "      <td>...</td>\n",
       "      <td>...</td>\n",
       "    </tr>\n",
       "    <tr>\n",
       "      <th>4391</th>\n",
       "      <td>Assassin's Creed Odyssey - Before You Buy</td>\n",
       "      <td>gameranx</td>\n",
       "      <td>2023-01-01 10:02:05.355000+02:00</td>\n",
       "      <td>YouTube</td>\n",
       "    </tr>\n",
       "    <tr>\n",
       "      <th>4392</th>\n",
       "      <td>#Ukraine's spy chief tells ABC News there will...</td>\n",
       "      <td>ABC News</td>\n",
       "      <td>2023-01-01 09:44:58.841000+02:00</td>\n",
       "      <td>YouTube</td>\n",
       "    </tr>\n",
       "    <tr>\n",
       "      <th>4393</th>\n",
       "      <td>Russian missile zooms over Kyiv before being s...</td>\n",
       "      <td>The Sun</td>\n",
       "      <td>2023-01-01 09:43:07.927000+02:00</td>\n",
       "      <td>YouTube</td>\n",
       "    </tr>\n",
       "    <tr>\n",
       "      <th>4394</th>\n",
       "      <td>YARMAK FT. TOF - МОЯ КРАЇНА</td>\n",
       "      <td>Yarmak Music</td>\n",
       "      <td>2023-01-01 00:07:14.838000+02:00</td>\n",
       "      <td>YouTube</td>\n",
       "    </tr>\n",
       "    <tr>\n",
       "      <th>4395</th>\n",
       "      <td>Гімн України</td>\n",
       "      <td>Oleksandr Ponomariov</td>\n",
       "      <td>2023-01-01 00:06:19.680000+02:00</td>\n",
       "      <td>YouTube</td>\n",
       "    </tr>\n",
       "  </tbody>\n",
       "</table>\n",
       "<p>4395 rows × 4 columns</p>\n",
       "</div>"
      ],
      "text/plain": [
       "                                            video_title  \\\n",
       "1                                               Жбурляю   \n",
       "2                                                Ліхтар   \n",
       "3     Drinker's Chasers - ANOTHER Rey Skywalker Movie?!   \n",
       "4       Test Your English Vocabulary: SHAPES & PATTERNS   \n",
       "5     Finland joins NATO in historic shift prompted ...   \n",
       "...                                                 ...   \n",
       "4391          Assassin's Creed Odyssey - Before You Buy   \n",
       "4392  #Ukraine's spy chief tells ABC News there will...   \n",
       "4393  Russian missile zooms over Kyiv before being s...   \n",
       "4394                        YARMAK FT. TOF - МОЯ КРАЇНА   \n",
       "4395                                       Гімн України   \n",
       "\n",
       "                          channel_name                             time  \\\n",
       "1                              Харцизи 2023-04-04 14:59:28.805000+03:00   \n",
       "2                         Rohata Zhaba 2023-04-04 14:25:11.177000+03:00   \n",
       "3         Critical Drinker After Hours 2023-04-04 14:12:17.193000+03:00   \n",
       "4     Learn English with Gill · engVid 2023-04-04 14:06:00.179000+03:00   \n",
       "5                    FRANCE 24 English 2023-04-04 14:02:41.452000+03:00   \n",
       "...                                ...                              ...   \n",
       "4391                          gameranx 2023-01-01 10:02:05.355000+02:00   \n",
       "4392                          ABC News 2023-01-01 09:44:58.841000+02:00   \n",
       "4393                           The Sun 2023-01-01 09:43:07.927000+02:00   \n",
       "4394                      Yarmak Music 2023-01-01 00:07:14.838000+02:00   \n",
       "4395              Oleksandr Ponomariov 2023-01-01 00:06:19.680000+02:00   \n",
       "\n",
       "                app  \n",
       "1     YouTube Music  \n",
       "2           YouTube  \n",
       "3           YouTube  \n",
       "4           YouTube  \n",
       "5           YouTube  \n",
       "...             ...  \n",
       "4391        YouTube  \n",
       "4392        YouTube  \n",
       "4393        YouTube  \n",
       "4394        YouTube  \n",
       "4395        YouTube  \n",
       "\n",
       "[4395 rows x 4 columns]"
      ]
     },
     "execution_count": 2,
     "metadata": {},
     "output_type": "execute_result"
    }
   ],
   "source": [
    "PATH = \"C:/Users/San/Documents/CS projects/yt_activity_analysis/data/Takeout/YouTube and YouTube Music/history/watch-history.json\"\n",
    "df = prepare_data(PATH)\n",
    "\n",
    "start_date = \"2023-01-01\"\n",
    "# end_date = \"2022-11-01\"\n",
    "df = select_by_date_interval(df, start=start_date)\n",
    "# df = df.loc[df[\"app\"] == \"YouTube Music\"] # if you wanna work only with YT Music data\n",
    "df"
   ]
  },
  {
   "cell_type": "markdown",
   "metadata": {},
   "source": [
    "Let's start with deciding whether the video is a song or not"
   ]
  },
  {
   "cell_type": "code",
   "execution_count": 46,
   "metadata": {},
   "outputs": [
    {
     "data": {
      "text/plain": [
       "YouTube          2507\n",
       "YouTube Music    1888\n",
       "Name: app, dtype: int64"
      ]
     },
     "execution_count": 46,
     "metadata": {},
     "output_type": "execute_result"
    }
   ],
   "source": [
    "df[\"app\"].value_counts()"
   ]
  },
  {
   "cell_type": "code",
   "execution_count": 3,
   "metadata": {},
   "outputs": [
    {
     "data": {
      "text/html": [
       "<div>\n",
       "<style scoped>\n",
       "    .dataframe tbody tr th:only-of-type {\n",
       "        vertical-align: middle;\n",
       "    }\n",
       "\n",
       "    .dataframe tbody tr th {\n",
       "        vertical-align: top;\n",
       "    }\n",
       "\n",
       "    .dataframe thead th {\n",
       "        text-align: right;\n",
       "    }\n",
       "</style>\n",
       "<table border=\"1\" class=\"dataframe\">\n",
       "  <thead>\n",
       "    <tr style=\"text-align: right;\">\n",
       "      <th></th>\n",
       "      <th>video_title</th>\n",
       "      <th>channel_name</th>\n",
       "      <th>time</th>\n",
       "      <th>app</th>\n",
       "      <th>category</th>\n",
       "    </tr>\n",
       "  </thead>\n",
       "  <tbody>\n",
       "    <tr>\n",
       "      <th>1</th>\n",
       "      <td>Жбурляю</td>\n",
       "      <td>Харцизи</td>\n",
       "      <td>2023-04-04 14:59:28.805000+03:00</td>\n",
       "      <td>YouTube Music</td>\n",
       "      <td>Music</td>\n",
       "    </tr>\n",
       "    <tr>\n",
       "      <th>2</th>\n",
       "      <td>Ліхтар</td>\n",
       "      <td>Rohata Zhaba</td>\n",
       "      <td>2023-04-04 14:25:11.177000+03:00</td>\n",
       "      <td>YouTube</td>\n",
       "      <td>Not Music</td>\n",
       "    </tr>\n",
       "    <tr>\n",
       "      <th>3</th>\n",
       "      <td>Drinker's Chasers - ANOTHER Rey Skywalker Movie?!</td>\n",
       "      <td>Critical Drinker After Hours</td>\n",
       "      <td>2023-04-04 14:12:17.193000+03:00</td>\n",
       "      <td>YouTube</td>\n",
       "      <td>Not Music</td>\n",
       "    </tr>\n",
       "  </tbody>\n",
       "</table>\n",
       "</div>"
      ],
      "text/plain": [
       "                                         video_title  \\\n",
       "1                                            Жбурляю   \n",
       "2                                             Ліхтар   \n",
       "3  Drinker's Chasers - ANOTHER Rey Skywalker Movie?!   \n",
       "\n",
       "                   channel_name                             time  \\\n",
       "1                       Харцизи 2023-04-04 14:59:28.805000+03:00   \n",
       "2                  Rohata Zhaba 2023-04-04 14:25:11.177000+03:00   \n",
       "3  Critical Drinker After Hours 2023-04-04 14:12:17.193000+03:00   \n",
       "\n",
       "             app   category  \n",
       "1  YouTube Music      Music  \n",
       "2        YouTube  Not Music  \n",
       "3        YouTube  Not Music  "
      ]
     },
     "execution_count": 3,
     "metadata": {},
     "output_type": "execute_result"
    }
   ],
   "source": [
    "def if_YT_Music(row):\n",
    "    if row[\"app\"] == \"YouTube Music\":\n",
    "        category = \"Music\"\n",
    "    else:\n",
    "        category = \"Not Music\"\n",
    "    return category\n",
    "\n",
    "def if_in_YT_Music(row):\n",
    "    # if the channel_name or video_title were encountered in\n",
    "    # YT Music app before, assign \"Music\" category to the video\n",
    "    category = row[\"category\"]\n",
    "    if row[\"category\"] == \"Not Music\":\n",
    "        if row[\"channel_name\"] in music_df[\"channel_name\"].values:\n",
    "            category = \"Music\"\n",
    "        elif row[\"video_title\"] in music_df[\"video_title\"].values:\n",
    "            category = \"Music\"\n",
    "    return category\n",
    "\n",
    "df[\"category\"] = df.apply(if_YT_Music, axis=1)\n",
    "music_df = df.loc[df[\"app\"] == \"YouTube Music\"]\n",
    "df[\"category\"] = df.apply(if_in_YT_Music, axis=1)\n",
    "df.head(3)"
   ]
  },
  {
   "cell_type": "markdown",
   "metadata": {},
   "source": [
    "Well, with several rules (that is a Rule-based system or smt), I got 129 more videos classified as songs. However, there are game/movie soundtrack collections classified as 'Not Music'"
   ]
  },
  {
   "cell_type": "code",
   "execution_count": 48,
   "metadata": {},
   "outputs": [
    {
     "data": {
      "text/plain": [
       "Not Music    2378\n",
       "Music        2017\n",
       "Name: category, dtype: int64"
      ]
     },
     "execution_count": 48,
     "metadata": {},
     "output_type": "execute_result"
    }
   ],
   "source": [
    "df[\"category\"].value_counts()"
   ]
  },
  {
   "cell_type": "code",
   "execution_count": 4,
   "metadata": {},
   "outputs": [
    {
     "name": "stdout",
     "output_type": "stream",
     "text": [
      "Before dropping: 4395\n",
      "After: 3404\n"
     ]
    },
    {
     "data": {
      "text/html": [
       "<div>\n",
       "<style scoped>\n",
       "    .dataframe tbody tr th:only-of-type {\n",
       "        vertical-align: middle;\n",
       "    }\n",
       "\n",
       "    .dataframe tbody tr th {\n",
       "        vertical-align: top;\n",
       "    }\n",
       "\n",
       "    .dataframe thead th {\n",
       "        text-align: right;\n",
       "    }\n",
       "</style>\n",
       "<table border=\"1\" class=\"dataframe\">\n",
       "  <thead>\n",
       "    <tr style=\"text-align: right;\">\n",
       "      <th></th>\n",
       "      <th>video_title</th>\n",
       "      <th>channel_name</th>\n",
       "      <th>time</th>\n",
       "      <th>app</th>\n",
       "      <th>category</th>\n",
       "      <th>preproc</th>\n",
       "    </tr>\n",
       "  </thead>\n",
       "  <tbody>\n",
       "    <tr>\n",
       "      <th>3</th>\n",
       "      <td>Drinker's Chasers - ANOTHER Rey Skywalker Movie?!</td>\n",
       "      <td>Critical Drinker After Hours</td>\n",
       "      <td>2023-04-04 14:12:17.193000+03:00</td>\n",
       "      <td>YouTube</td>\n",
       "      <td>Not Music</td>\n",
       "      <td>drinkers chasers another rey skywalker movie</td>\n",
       "    </tr>\n",
       "    <tr>\n",
       "      <th>4</th>\n",
       "      <td>Test Your English Vocabulary: SHAPES &amp; PATTERNS</td>\n",
       "      <td>Learn English with Gill · engVid</td>\n",
       "      <td>2023-04-04 14:06:00.179000+03:00</td>\n",
       "      <td>YouTube</td>\n",
       "      <td>Not Music</td>\n",
       "      <td>test english vocabulary shapes patterns</td>\n",
       "    </tr>\n",
       "    <tr>\n",
       "      <th>5</th>\n",
       "      <td>Finland joins NATO in historic shift prompted ...</td>\n",
       "      <td>FRANCE 24 English</td>\n",
       "      <td>2023-04-04 14:02:41.452000+03:00</td>\n",
       "      <td>YouTube</td>\n",
       "      <td>Not Music</td>\n",
       "      <td>finland joins nato historic shift prompted ukr...</td>\n",
       "    </tr>\n",
       "  </tbody>\n",
       "</table>\n",
       "</div>"
      ],
      "text/plain": [
       "                                         video_title  \\\n",
       "3  Drinker's Chasers - ANOTHER Rey Skywalker Movie?!   \n",
       "4    Test Your English Vocabulary: SHAPES & PATTERNS   \n",
       "5  Finland joins NATO in historic shift prompted ...   \n",
       "\n",
       "                       channel_name                             time      app  \\\n",
       "3      Critical Drinker After Hours 2023-04-04 14:12:17.193000+03:00  YouTube   \n",
       "4  Learn English with Gill · engVid 2023-04-04 14:06:00.179000+03:00  YouTube   \n",
       "5                 FRANCE 24 English 2023-04-04 14:02:41.452000+03:00  YouTube   \n",
       "\n",
       "    category                                            preproc  \n",
       "3  Not Music       drinkers chasers another rey skywalker movie  \n",
       "4  Not Music            test english vocabulary shapes patterns  \n",
       "5  Not Music  finland joins nato historic shift prompted ukr...  "
      ]
     },
     "execution_count": 4,
     "metadata": {},
     "output_type": "execute_result"
    }
   ],
   "source": [
    "def preprocess(text):\n",
    "    sentences = re.split(\"[\\n\\t]\", text)\n",
    "    # remove empty lines\n",
    "    sentences = [sentence for sentence in sentences if sentence]\n",
    "    # further cleaning\n",
    "    sentences = [re.sub(r\"[^0-9a-zA-Z\\s]\", \"\", sentence, re.I|re.A).lower() for sentence in sentences]\n",
    "    sentences = [sentence.lower().strip() for sentence in sentences]\n",
    "    wpt = nltk.WordPunctTokenizer()\n",
    "    stop_words = nltk.corpus.stopwords.words(\"english\")\n",
    "    output = []\n",
    "    for sentence in sentences:\n",
    "        tokens = wpt.tokenize(sentence)\n",
    "        filtered_tokens = [token for token in tokens if token not in stop_words]\n",
    "        output.append(\" \".join(filtered_tokens))\n",
    "    return \" \".join(output)\n",
    "\n",
    "df[\"preproc\"] = df[\"video_title\"].apply(preprocess)\n",
    "# if we have print 'preproc' col, we'll see that non-english text is not properly handled\n",
    "# After several failed attempts at handling non-english text, it was decided to drop rows\n",
    "# where 'preproc' col has fewer than 4 chars\n",
    "print(f\"Before dropping: {len(df)}\")\n",
    "empty_rows = df[df['preproc'].str.len() < 4]\n",
    "df = df[df['preproc'].str.len() >= 4]\n",
    "print(f\"After: {len(df)}\")\n",
    "df.head(3)"
   ]
  },
  {
   "cell_type": "code",
   "execution_count": 6,
   "metadata": {},
   "outputs": [
    {
     "data": {
      "text/html": [
       "<div>\n",
       "<style scoped>\n",
       "    .dataframe tbody tr th:only-of-type {\n",
       "        vertical-align: middle;\n",
       "    }\n",
       "\n",
       "    .dataframe tbody tr th {\n",
       "        vertical-align: top;\n",
       "    }\n",
       "\n",
       "    .dataframe thead th {\n",
       "        text-align: right;\n",
       "    }\n",
       "</style>\n",
       "<table border=\"1\" class=\"dataframe\">\n",
       "  <thead>\n",
       "    <tr style=\"text-align: right;\">\n",
       "      <th></th>\n",
       "      <th>video_title</th>\n",
       "      <th>channel_name</th>\n",
       "      <th>time</th>\n",
       "      <th>app</th>\n",
       "      <th>category</th>\n",
       "      <th>preproc</th>\n",
       "    </tr>\n",
       "  </thead>\n",
       "  <tbody>\n",
       "    <tr>\n",
       "      <th>1</th>\n",
       "      <td>Жбурляю</td>\n",
       "      <td>Харцизи</td>\n",
       "      <td>2023-04-04 14:59:28.805000+03:00</td>\n",
       "      <td>YouTube Music</td>\n",
       "      <td>Music</td>\n",
       "      <td></td>\n",
       "    </tr>\n",
       "    <tr>\n",
       "      <th>2</th>\n",
       "      <td>Ліхтар</td>\n",
       "      <td>Rohata Zhaba</td>\n",
       "      <td>2023-04-04 14:25:11.177000+03:00</td>\n",
       "      <td>YouTube</td>\n",
       "      <td>Not Music</td>\n",
       "      <td></td>\n",
       "    </tr>\n",
       "    <tr>\n",
       "      <th>9</th>\n",
       "      <td>Мавка</td>\n",
       "      <td>Authentix</td>\n",
       "      <td>2023-04-04 12:57:54.594000+03:00</td>\n",
       "      <td>YouTube</td>\n",
       "      <td>Not Music</td>\n",
       "      <td></td>\n",
       "    </tr>\n",
       "  </tbody>\n",
       "</table>\n",
       "</div>"
      ],
      "text/plain": [
       "  video_title  channel_name                             time            app  \\\n",
       "1     Жбурляю       Харцизи 2023-04-04 14:59:28.805000+03:00  YouTube Music   \n",
       "2      Ліхтар  Rohata Zhaba 2023-04-04 14:25:11.177000+03:00        YouTube   \n",
       "9       Мавка     Authentix 2023-04-04 12:57:54.594000+03:00        YouTube   \n",
       "\n",
       "    category preproc  \n",
       "1      Music          \n",
       "2  Not Music          \n",
       "9  Not Music          "
      ]
     },
     "execution_count": 6,
     "metadata": {},
     "output_type": "execute_result"
    }
   ],
   "source": [
    "empty_rows.head(3)"
   ]
  },
  {
   "cell_type": "code",
   "execution_count": 8,
   "metadata": {},
   "outputs": [
    {
     "name": "stderr",
     "output_type": "stream",
     "text": [
      "C:\\Windows\\Temp\\ipykernel_15928\\2677169761.py:1: SettingWithCopyWarning: \n",
      "A value is trying to be set on a copy of a slice from a DataFrame.\n",
      "Try using .loc[row_indexer,col_indexer] = value instead\n",
      "\n",
      "See the caveats in the documentation: https://pandas.pydata.org/pandas-docs/stable/user_guide/indexing.html#returning-a-view-versus-a-copy\n",
      "  empty_rows[\"combined\"] = empty_rows[\"video_title\"] + \" \" + empty_rows[\"channel_name\"]\n",
      "C:\\Windows\\Temp\\ipykernel_15928\\2677169761.py:2: SettingWithCopyWarning: \n",
      "A value is trying to be set on a copy of a slice from a DataFrame.\n",
      "Try using .loc[row_indexer,col_indexer] = value instead\n",
      "\n",
      "See the caveats in the documentation: https://pandas.pydata.org/pandas-docs/stable/user_guide/indexing.html#returning-a-view-versus-a-copy\n",
      "  empty_rows[\"combined_preproc\"] = empty_rows[\"combined\"].apply(preprocess)\n"
     ]
    },
    {
     "data": {
      "text/html": [
       "<div>\n",
       "<style scoped>\n",
       "    .dataframe tbody tr th:only-of-type {\n",
       "        vertical-align: middle;\n",
       "    }\n",
       "\n",
       "    .dataframe tbody tr th {\n",
       "        vertical-align: top;\n",
       "    }\n",
       "\n",
       "    .dataframe thead th {\n",
       "        text-align: right;\n",
       "    }\n",
       "</style>\n",
       "<table border=\"1\" class=\"dataframe\">\n",
       "  <thead>\n",
       "    <tr style=\"text-align: right;\">\n",
       "      <th></th>\n",
       "      <th>video_title</th>\n",
       "      <th>channel_name</th>\n",
       "      <th>time</th>\n",
       "      <th>app</th>\n",
       "      <th>category</th>\n",
       "      <th>preproc</th>\n",
       "      <th>combined</th>\n",
       "      <th>combined_preproc</th>\n",
       "    </tr>\n",
       "  </thead>\n",
       "  <tbody>\n",
       "    <tr>\n",
       "      <th>1</th>\n",
       "      <td>Жбурляю</td>\n",
       "      <td>Харцизи</td>\n",
       "      <td>2023-04-04 14:59:28.805000+03:00</td>\n",
       "      <td>YouTube Music</td>\n",
       "      <td>Music</td>\n",
       "      <td></td>\n",
       "      <td>Жбурляю Харцизи</td>\n",
       "      <td></td>\n",
       "    </tr>\n",
       "    <tr>\n",
       "      <th>2</th>\n",
       "      <td>Ліхтар</td>\n",
       "      <td>Rohata Zhaba</td>\n",
       "      <td>2023-04-04 14:25:11.177000+03:00</td>\n",
       "      <td>YouTube</td>\n",
       "      <td>Not Music</td>\n",
       "      <td></td>\n",
       "      <td>Ліхтар Rohata Zhaba</td>\n",
       "      <td>rohata zhaba</td>\n",
       "    </tr>\n",
       "    <tr>\n",
       "      <th>9</th>\n",
       "      <td>Мавка</td>\n",
       "      <td>Authentix</td>\n",
       "      <td>2023-04-04 12:57:54.594000+03:00</td>\n",
       "      <td>YouTube</td>\n",
       "      <td>Not Music</td>\n",
       "      <td></td>\n",
       "      <td>Мавка Authentix</td>\n",
       "      <td>authentix</td>\n",
       "    </tr>\n",
       "    <tr>\n",
       "      <th>10</th>\n",
       "      <td>Харцизи  - Забуті боги</td>\n",
       "      <td>Харцизи</td>\n",
       "      <td>2023-04-04 12:50:32.692000+03:00</td>\n",
       "      <td>YouTube</td>\n",
       "      <td>Music</td>\n",
       "      <td></td>\n",
       "      <td>Харцизи  - Забуті боги Харцизи</td>\n",
       "      <td></td>\n",
       "    </tr>\n",
       "    <tr>\n",
       "      <th>13</th>\n",
       "      <td>Злива</td>\n",
       "      <td>Харцизи</td>\n",
       "      <td>2023-04-04 12:44:35.400000+03:00</td>\n",
       "      <td>YouTube</td>\n",
       "      <td>Music</td>\n",
       "      <td></td>\n",
       "      <td>Злива Харцизи</td>\n",
       "      <td></td>\n",
       "    </tr>\n",
       "  </tbody>\n",
       "</table>\n",
       "</div>"
      ],
      "text/plain": [
       "               video_title  channel_name                             time  \\\n",
       "1                  Жбурляю       Харцизи 2023-04-04 14:59:28.805000+03:00   \n",
       "2                   Ліхтар  Rohata Zhaba 2023-04-04 14:25:11.177000+03:00   \n",
       "9                    Мавка     Authentix 2023-04-04 12:57:54.594000+03:00   \n",
       "10  Харцизи  - Забуті боги       Харцизи 2023-04-04 12:50:32.692000+03:00   \n",
       "13                   Злива       Харцизи 2023-04-04 12:44:35.400000+03:00   \n",
       "\n",
       "              app   category preproc                        combined  \\\n",
       "1   YouTube Music      Music                         Жбурляю Харцизи   \n",
       "2         YouTube  Not Music                     Ліхтар Rohata Zhaba   \n",
       "9         YouTube  Not Music                         Мавка Authentix   \n",
       "10        YouTube      Music          Харцизи  - Забуті боги Харцизи   \n",
       "13        YouTube      Music                           Злива Харцизи   \n",
       "\n",
       "   combined_preproc  \n",
       "1                    \n",
       "2      rohata zhaba  \n",
       "9         authentix  \n",
       "10                   \n",
       "13                   "
      ]
     },
     "execution_count": 8,
     "metadata": {},
     "output_type": "execute_result"
    }
   ],
   "source": [
    "empty_rows[\"combined\"] = empty_rows[\"video_title\"] + \" \" + empty_rows[\"channel_name\"]\n",
    "empty_rows[\"combined_preproc\"] = empty_rows[\"combined\"].apply(preprocess)\n",
    "empty_rows.head()"
   ]
  },
  {
   "cell_type": "code",
   "execution_count": 10,
   "metadata": {},
   "outputs": [
    {
     "data": {
      "text/plain": [
       "610"
      ]
     },
     "execution_count": 10,
     "metadata": {},
     "output_type": "execute_result"
    }
   ],
   "source": [
    "len(empty_rows[empty_rows['combined_preproc'].str.len() >= 4])"
   ]
  },
  {
   "cell_type": "code",
   "execution_count": 26,
   "metadata": {},
   "outputs": [
    {
     "data": {
      "text/html": [
       "<div>\n",
       "<style scoped>\n",
       "    .dataframe tbody tr th:only-of-type {\n",
       "        vertical-align: middle;\n",
       "    }\n",
       "\n",
       "    .dataframe tbody tr th {\n",
       "        vertical-align: top;\n",
       "    }\n",
       "\n",
       "    .dataframe thead th {\n",
       "        text-align: right;\n",
       "    }\n",
       "</style>\n",
       "<table border=\"1\" class=\"dataframe\">\n",
       "  <thead>\n",
       "    <tr style=\"text-align: right;\">\n",
       "      <th></th>\n",
       "      <th>video_title</th>\n",
       "      <th>channel_name</th>\n",
       "      <th>time</th>\n",
       "      <th>app</th>\n",
       "      <th>category</th>\n",
       "      <th>combined</th>\n",
       "      <th>combined_preproc</th>\n",
       "    </tr>\n",
       "  </thead>\n",
       "  <tbody>\n",
       "    <tr>\n",
       "      <th>1</th>\n",
       "      <td>Жбурляю</td>\n",
       "      <td>Харцизи</td>\n",
       "      <td>2023-04-04 14:59:28.805000+03:00</td>\n",
       "      <td>YouTube Music</td>\n",
       "      <td>Music</td>\n",
       "      <td>Жбурляю Харцизи</td>\n",
       "      <td></td>\n",
       "    </tr>\n",
       "    <tr>\n",
       "      <th>10</th>\n",
       "      <td>Харцизи  - Забуті боги</td>\n",
       "      <td>Харцизи</td>\n",
       "      <td>2023-04-04 12:50:32.692000+03:00</td>\n",
       "      <td>YouTube</td>\n",
       "      <td>Music</td>\n",
       "      <td>Харцизи  - Забуті боги Харцизи</td>\n",
       "      <td></td>\n",
       "    </tr>\n",
       "    <tr>\n",
       "      <th>13</th>\n",
       "      <td>Злива</td>\n",
       "      <td>Харцизи</td>\n",
       "      <td>2023-04-04 12:44:35.400000+03:00</td>\n",
       "      <td>YouTube</td>\n",
       "      <td>Music</td>\n",
       "      <td>Злива Харцизи</td>\n",
       "      <td></td>\n",
       "    </tr>\n",
       "    <tr>\n",
       "      <th>14</th>\n",
       "      <td>На самоті</td>\n",
       "      <td>Харцизи</td>\n",
       "      <td>2023-04-04 12:41:26.109000+03:00</td>\n",
       "      <td>YouTube</td>\n",
       "      <td>Music</td>\n",
       "      <td>На самоті Харцизи</td>\n",
       "      <td></td>\n",
       "    </tr>\n",
       "    <tr>\n",
       "      <th>15</th>\n",
       "      <td>Глибоке небо</td>\n",
       "      <td>Харцизи</td>\n",
       "      <td>2023-04-04 12:37:56.562000+03:00</td>\n",
       "      <td>YouTube</td>\n",
       "      <td>Music</td>\n",
       "      <td>Глибоке небо Харцизи</td>\n",
       "      <td></td>\n",
       "    </tr>\n",
       "    <tr>\n",
       "      <th>...</th>\n",
       "      <td>...</td>\n",
       "      <td>...</td>\n",
       "      <td>...</td>\n",
       "      <td>...</td>\n",
       "      <td>...</td>\n",
       "      <td>...</td>\n",
       "      <td>...</td>\n",
       "    </tr>\n",
       "    <tr>\n",
       "      <th>4173</th>\n",
       "      <td>Консерваторія чи \"консерва\" імені Чайковського...</td>\n",
       "      <td>ШОУБІСИКИ</td>\n",
       "      <td>2023-01-04 23:28:24.540000+02:00</td>\n",
       "      <td>YouTube</td>\n",
       "      <td>Not Music</td>\n",
       "      <td>Консерваторія чи \"консерва\" імені Чайковського...</td>\n",
       "      <td></td>\n",
       "    </tr>\n",
       "    <tr>\n",
       "      <th>4238</th>\n",
       "      <td>Ніколи? Знову!</td>\n",
       "      <td>ХАС</td>\n",
       "      <td>2023-01-04 09:25:02.756000+02:00</td>\n",
       "      <td>YouTube Music</td>\n",
       "      <td>Music</td>\n",
       "      <td>Ніколи? Знову! ХАС</td>\n",
       "      <td></td>\n",
       "    </tr>\n",
       "    <tr>\n",
       "      <th>4251</th>\n",
       "      <td>Ніколи? Знову!</td>\n",
       "      <td>ХАС</td>\n",
       "      <td>2023-01-03 18:00:17.111000+02:00</td>\n",
       "      <td>YouTube Music</td>\n",
       "      <td>Music</td>\n",
       "      <td>Ніколи? Знову! ХАС</td>\n",
       "      <td></td>\n",
       "    </tr>\n",
       "    <tr>\n",
       "      <th>4310</th>\n",
       "      <td>Сухпай Збройних сил Республіки Корея 한국군 배급</td>\n",
       "      <td>ХЛОПЦІ З ЛІСУ</td>\n",
       "      <td>2023-01-02 21:39:10.283000+02:00</td>\n",
       "      <td>YouTube</td>\n",
       "      <td>Not Music</td>\n",
       "      <td>Сухпай Збройних сил Республіки Корея 한국군 배급 ХЛ...</td>\n",
       "      <td></td>\n",
       "    </tr>\n",
       "    <tr>\n",
       "      <th>4335</th>\n",
       "      <td>D.M.G. - Ненавижу , блять , цыган!!!</td>\n",
       "      <td>Сметанин Василий</td>\n",
       "      <td>2023-01-02 13:01:31.968000+02:00</td>\n",
       "      <td>YouTube</td>\n",
       "      <td>Not Music</td>\n",
       "      <td>D.M.G. - Ненавижу , блять , цыган!!! Сметанин ...</td>\n",
       "      <td>dmg</td>\n",
       "    </tr>\n",
       "  </tbody>\n",
       "</table>\n",
       "<p>381 rows × 7 columns</p>\n",
       "</div>"
      ],
      "text/plain": [
       "                                            video_title      channel_name  \\\n",
       "1                                               Жбурляю           Харцизи   \n",
       "10                               Харцизи  - Забуті боги           Харцизи   \n",
       "13                                                Злива           Харцизи   \n",
       "14                                            На самоті           Харцизи   \n",
       "15                                         Глибоке небо           Харцизи   \n",
       "...                                                 ...               ...   \n",
       "4173  Консерваторія чи \"консерва\" імені Чайковського...        ШОУБІСИКИ    \n",
       "4238                                     Ніколи? Знову!               ХАС   \n",
       "4251                                     Ніколи? Знову!               ХАС   \n",
       "4310        Сухпай Збройних сил Республіки Корея 한국군 배급     ХЛОПЦІ З ЛІСУ   \n",
       "4335               D.M.G. - Ненавижу , блять , цыган!!!  Сметанин Василий   \n",
       "\n",
       "                                 time            app   category  \\\n",
       "1    2023-04-04 14:59:28.805000+03:00  YouTube Music      Music   \n",
       "10   2023-04-04 12:50:32.692000+03:00        YouTube      Music   \n",
       "13   2023-04-04 12:44:35.400000+03:00        YouTube      Music   \n",
       "14   2023-04-04 12:41:26.109000+03:00        YouTube      Music   \n",
       "15   2023-04-04 12:37:56.562000+03:00        YouTube      Music   \n",
       "...                               ...            ...        ...   \n",
       "4173 2023-01-04 23:28:24.540000+02:00        YouTube  Not Music   \n",
       "4238 2023-01-04 09:25:02.756000+02:00  YouTube Music      Music   \n",
       "4251 2023-01-03 18:00:17.111000+02:00  YouTube Music      Music   \n",
       "4310 2023-01-02 21:39:10.283000+02:00        YouTube  Not Music   \n",
       "4335 2023-01-02 13:01:31.968000+02:00        YouTube  Not Music   \n",
       "\n",
       "                                               combined combined_preproc  \n",
       "1                                       Жбурляю Харцизи                   \n",
       "10                       Харцизи  - Забуті боги Харцизи                   \n",
       "13                                        Злива Харцизи                   \n",
       "14                                    На самоті Харцизи                   \n",
       "15                                 Глибоке небо Харцизи                   \n",
       "...                                                 ...              ...  \n",
       "4173  Консерваторія чи \"консерва\" імені Чайковського...                   \n",
       "4238                                 Ніколи? Знову! ХАС                   \n",
       "4251                                 Ніколи? Знову! ХАС                   \n",
       "4310  Сухпай Збройних сил Республіки Корея 한국군 배급 ХЛ...                   \n",
       "4335  D.M.G. - Ненавижу , блять , цыган!!! Сметанин ...              dmg  \n",
       "\n",
       "[381 rows x 7 columns]"
      ]
     },
     "execution_count": 26,
     "metadata": {},
     "output_type": "execute_result"
    }
   ],
   "source": [
    "sec_failure = empty_rows[empty_rows['combined_preproc'].str.len() < 4].drop([\"preproc\"], axis=1)\n",
    "sec_failure"
   ]
  },
  {
   "cell_type": "code",
   "execution_count": 27,
   "metadata": {},
   "outputs": [
    {
     "data": {
      "text/plain": [
       "Not Music    270\n",
       "Music        111\n",
       "Name: category, dtype: int64"
      ]
     },
     "execution_count": 27,
     "metadata": {},
     "output_type": "execute_result"
    }
   ],
   "source": [
    "sec_failure[\"category\"].value_counts()"
   ]
  },
  {
   "cell_type": "code",
   "execution_count": 29,
   "metadata": {},
   "outputs": [],
   "source": [
    "sec_failure.to_csv(\"381_rows_2nd_preproc_failure.csv\")"
   ]
  },
  {
   "cell_type": "code",
   "execution_count": 30,
   "metadata": {},
   "outputs": [
    {
     "data": {
      "text/plain": [
       "Цензор.НЕТ          62\n",
       "Харцизи             46\n",
       "ШОУБІСИКИ           36\n",
       "Тартак              28\n",
       "ХАС                 28\n",
       "                    ..\n",
       "Дети Фристайла       1\n",
       "АНТИТІЛА             1\n",
       "Андрій Павленко      1\n",
       "Конь в пальто        1\n",
       "Сметанин Василий     1\n",
       "Name: channel_name, Length: 69, dtype: Int64"
      ]
     },
     "execution_count": 30,
     "metadata": {},
     "output_type": "execute_result"
    }
   ],
   "source": [
    "sec_failure[\"channel_name\"].value_counts()"
   ]
  },
  {
   "attachments": {},
   "cell_type": "markdown",
   "metadata": {},
   "source": [
    "From those 381 rows, 1/3 is music, and the rest is mostly relating to 'Politics' category with tiny bit connected to 'Rec' category"
   ]
  },
  {
   "cell_type": "code",
   "execution_count": 13,
   "metadata": {},
   "outputs": [
    {
     "data": {
      "text/html": [
       "<div>\n",
       "<style scoped>\n",
       "    .dataframe tbody tr th:only-of-type {\n",
       "        vertical-align: middle;\n",
       "    }\n",
       "\n",
       "    .dataframe tbody tr th {\n",
       "        vertical-align: top;\n",
       "    }\n",
       "\n",
       "    .dataframe thead th {\n",
       "        text-align: right;\n",
       "    }\n",
       "</style>\n",
       "<table border=\"1\" class=\"dataframe\">\n",
       "  <thead>\n",
       "    <tr style=\"text-align: right;\">\n",
       "      <th></th>\n",
       "      <th>video_title</th>\n",
       "      <th>channel_name</th>\n",
       "      <th>time</th>\n",
       "      <th>app</th>\n",
       "      <th>category</th>\n",
       "      <th>combined</th>\n",
       "      <th>combined_preproc</th>\n",
       "    </tr>\n",
       "  </thead>\n",
       "  <tbody>\n",
       "    <tr>\n",
       "      <th>2</th>\n",
       "      <td>Ліхтар</td>\n",
       "      <td>Rohata Zhaba</td>\n",
       "      <td>2023-04-04 14:25:11.177000+03:00</td>\n",
       "      <td>YouTube</td>\n",
       "      <td>Not Music</td>\n",
       "      <td>Ліхтар Rohata Zhaba</td>\n",
       "      <td>rohata zhaba</td>\n",
       "    </tr>\n",
       "    <tr>\n",
       "      <th>9</th>\n",
       "      <td>Мавка</td>\n",
       "      <td>Authentix</td>\n",
       "      <td>2023-04-04 12:57:54.594000+03:00</td>\n",
       "      <td>YouTube</td>\n",
       "      <td>Not Music</td>\n",
       "      <td>Мавка Authentix</td>\n",
       "      <td>authentix</td>\n",
       "    </tr>\n",
       "    <tr>\n",
       "      <th>23</th>\n",
       "      <td>Фортеця Бахмут</td>\n",
       "      <td>Antytila</td>\n",
       "      <td>2023-04-04 11:52:49.239000+03:00</td>\n",
       "      <td>YouTube Music</td>\n",
       "      <td>Music</td>\n",
       "      <td>Фортеця Бахмут Antytila</td>\n",
       "      <td>antytila</td>\n",
       "    </tr>\n",
       "    <tr>\n",
       "      <th>29</th>\n",
       "      <td>ВЛАДЛЕН ТАТАРСЬКИЙ ЗАЖМУРИВСЯ - ОЛДСКУЛЬНИЙ РО...</td>\n",
       "      <td>Old School</td>\n",
       "      <td>2023-04-03 23:42:34.126000+03:00</td>\n",
       "      <td>YouTube</td>\n",
       "      <td>Not Music</td>\n",
       "      <td>ВЛАДЛЕН ТАТАРСЬКИЙ ЗАЖМУРИВСЯ - ОЛДСКУЛЬНИЙ РО...</td>\n",
       "      <td>old school</td>\n",
       "    </tr>\n",
       "    <tr>\n",
       "      <th>50</th>\n",
       "      <td>\"Ось наші Леопарди!\": танкісти і піхота 92-ї О...</td>\n",
       "      <td>BIHUS Info</td>\n",
       "      <td>2023-04-03 22:03:11.147000+03:00</td>\n",
       "      <td>YouTube</td>\n",
       "      <td>Not Music</td>\n",
       "      <td>\"Ось наші Леопарди!\": танкісти і піхота 92-ї О...</td>\n",
       "      <td>92 bihus info</td>\n",
       "    </tr>\n",
       "    <tr>\n",
       "      <th>...</th>\n",
       "      <td>...</td>\n",
       "      <td>...</td>\n",
       "      <td>...</td>\n",
       "      <td>...</td>\n",
       "      <td>...</td>\n",
       "      <td>...</td>\n",
       "      <td>...</td>\n",
       "    </tr>\n",
       "    <tr>\n",
       "      <th>4250</th>\n",
       "      <td>Силуети</td>\n",
       "      <td>SadSvit</td>\n",
       "      <td>2023-01-03 18:03:09.811000+02:00</td>\n",
       "      <td>YouTube Music</td>\n",
       "      <td>Music</td>\n",
       "      <td>Силуети SadSvit</td>\n",
       "      <td>sadsvit</td>\n",
       "    </tr>\n",
       "    <tr>\n",
       "      <th>4256</th>\n",
       "      <td>#КОЗАЦЬКОМУ_РОДУ</td>\n",
       "      <td>Jerry Heil</td>\n",
       "      <td>2023-01-03 17:34:33.059000+02:00</td>\n",
       "      <td>YouTube Music</td>\n",
       "      <td>Music</td>\n",
       "      <td>#КОЗАЦЬКОМУ_РОДУ Jerry Heil</td>\n",
       "      <td>jerry heil</td>\n",
       "    </tr>\n",
       "    <tr>\n",
       "      <th>4257</th>\n",
       "      <td>Тихо прийшов, тихо пішов або пісня спеціальног...</td>\n",
       "      <td>Riffmaster</td>\n",
       "      <td>2023-01-03 17:29:21.578000+02:00</td>\n",
       "      <td>YouTube Music</td>\n",
       "      <td>Music</td>\n",
       "      <td>Тихо прийшов, тихо пішов або пісня спеціальног...</td>\n",
       "      <td>riffmaster</td>\n",
       "    </tr>\n",
       "    <tr>\n",
       "      <th>4346</th>\n",
       "      <td>Як військові відреагували на звернення Зеленсь...</td>\n",
       "      <td>Ukrainian Witness</td>\n",
       "      <td>2023-01-02 08:53:54.148000+02:00</td>\n",
       "      <td>YouTube</td>\n",
       "      <td>Not Music</td>\n",
       "      <td>Як військові відреагували на звернення Зеленсь...</td>\n",
       "      <td>ukrainian witness</td>\n",
       "    </tr>\n",
       "    <tr>\n",
       "      <th>4395</th>\n",
       "      <td>Гімн України</td>\n",
       "      <td>Oleksandr Ponomariov</td>\n",
       "      <td>2023-01-01 00:06:19.680000+02:00</td>\n",
       "      <td>YouTube</td>\n",
       "      <td>Not Music</td>\n",
       "      <td>Гімн України Oleksandr Ponomariov</td>\n",
       "      <td>oleksandr ponomariov</td>\n",
       "    </tr>\n",
       "  </tbody>\n",
       "</table>\n",
       "<p>610 rows × 7 columns</p>\n",
       "</div>"
      ],
      "text/plain": [
       "                                            video_title          channel_name  \\\n",
       "2                                                Ліхтар          Rohata Zhaba   \n",
       "9                                                 Мавка             Authentix   \n",
       "23                                       Фортеця Бахмут              Antytila   \n",
       "29    ВЛАДЛЕН ТАТАРСЬКИЙ ЗАЖМУРИВСЯ - ОЛДСКУЛЬНИЙ РО...            Old School   \n",
       "50    \"Ось наші Леопарди!\": танкісти і піхота 92-ї О...            BIHUS Info   \n",
       "...                                                 ...                   ...   \n",
       "4250                                            Силуети               SadSvit   \n",
       "4256                                   #КОЗАЦЬКОМУ_РОДУ            Jerry Heil   \n",
       "4257  Тихо прийшов, тихо пішов або пісня спеціальног...            Riffmaster   \n",
       "4346  Як військові відреагували на звернення Зеленсь...     Ukrainian Witness   \n",
       "4395                                       Гімн України  Oleksandr Ponomariov   \n",
       "\n",
       "                                 time            app   category  \\\n",
       "2    2023-04-04 14:25:11.177000+03:00        YouTube  Not Music   \n",
       "9    2023-04-04 12:57:54.594000+03:00        YouTube  Not Music   \n",
       "23   2023-04-04 11:52:49.239000+03:00  YouTube Music      Music   \n",
       "29   2023-04-03 23:42:34.126000+03:00        YouTube  Not Music   \n",
       "50   2023-04-03 22:03:11.147000+03:00        YouTube  Not Music   \n",
       "...                               ...            ...        ...   \n",
       "4250 2023-01-03 18:03:09.811000+02:00  YouTube Music      Music   \n",
       "4256 2023-01-03 17:34:33.059000+02:00  YouTube Music      Music   \n",
       "4257 2023-01-03 17:29:21.578000+02:00  YouTube Music      Music   \n",
       "4346 2023-01-02 08:53:54.148000+02:00        YouTube  Not Music   \n",
       "4395 2023-01-01 00:06:19.680000+02:00        YouTube  Not Music   \n",
       "\n",
       "                                               combined      combined_preproc  \n",
       "2                                   Ліхтар Rohata Zhaba          rohata zhaba  \n",
       "9                                       Мавка Authentix             authentix  \n",
       "23                              Фортеця Бахмут Antytila              antytila  \n",
       "29    ВЛАДЛЕН ТАТАРСЬКИЙ ЗАЖМУРИВСЯ - ОЛДСКУЛЬНИЙ РО...            old school  \n",
       "50    \"Ось наші Леопарди!\": танкісти і піхота 92-ї О...         92 bihus info  \n",
       "...                                                 ...                   ...  \n",
       "4250                                    Силуети SadSvit               sadsvit  \n",
       "4256                        #КОЗАЦЬКОМУ_РОДУ Jerry Heil            jerry heil  \n",
       "4257  Тихо прийшов, тихо пішов або пісня спеціальног...            riffmaster  \n",
       "4346  Як військові відреагували на звернення Зеленсь...     ukrainian witness  \n",
       "4395                  Гімн України Oleksandr Ponomariov  oleksandr ponomariov  \n",
       "\n",
       "[610 rows x 7 columns]"
      ]
     },
     "execution_count": 13,
     "metadata": {},
     "output_type": "execute_result"
    }
   ],
   "source": [
    "new = empty_rows[empty_rows['combined_preproc'].str.len() >= 4].drop([\"preproc\"], axis=1)\n",
    "new"
   ]
  },
  {
   "cell_type": "code",
   "execution_count": 16,
   "metadata": {},
   "outputs": [
    {
     "data": {
      "text/plain": [
       "Music        477\n",
       "Not Music    133\n",
       "Name: category, dtype: int64"
      ]
     },
     "execution_count": 16,
     "metadata": {},
     "output_type": "execute_result"
    }
   ],
   "source": [
    "new[\"category\"].value_counts()"
   ]
  },
  {
   "cell_type": "code",
   "execution_count": 14,
   "metadata": {},
   "outputs": [],
   "source": [
    "new.to_csv(\"610_additional.csv\")"
   ]
  },
  {
   "cell_type": "code",
   "execution_count": 18,
   "metadata": {},
   "outputs": [
    {
     "data": {
      "text/html": [
       "<div>\n",
       "<style scoped>\n",
       "    .dataframe tbody tr th:only-of-type {\n",
       "        vertical-align: middle;\n",
       "    }\n",
       "\n",
       "    .dataframe tbody tr th {\n",
       "        vertical-align: top;\n",
       "    }\n",
       "\n",
       "    .dataframe thead th {\n",
       "        text-align: right;\n",
       "    }\n",
       "</style>\n",
       "<table border=\"1\" class=\"dataframe\">\n",
       "  <thead>\n",
       "    <tr style=\"text-align: right;\">\n",
       "      <th></th>\n",
       "      <th>video_title</th>\n",
       "      <th>channel_name</th>\n",
       "      <th>time</th>\n",
       "      <th>app</th>\n",
       "      <th>category</th>\n",
       "      <th>combined</th>\n",
       "      <th>combined_preproc</th>\n",
       "    </tr>\n",
       "  </thead>\n",
       "  <tbody>\n",
       "    <tr>\n",
       "      <th>2</th>\n",
       "      <td>Ліхтар</td>\n",
       "      <td>Rohata Zhaba</td>\n",
       "      <td>2023-04-04 14:25:11.177000+03:00</td>\n",
       "      <td>YouTube</td>\n",
       "      <td>Music</td>\n",
       "      <td>Ліхтар Rohata Zhaba</td>\n",
       "      <td>rohata zhaba</td>\n",
       "    </tr>\n",
       "    <tr>\n",
       "      <th>9</th>\n",
       "      <td>Мавка</td>\n",
       "      <td>Authentix</td>\n",
       "      <td>2023-04-04 12:57:54.594000+03:00</td>\n",
       "      <td>YouTube</td>\n",
       "      <td>Music</td>\n",
       "      <td>Мавка Authentix</td>\n",
       "      <td>authentix</td>\n",
       "    </tr>\n",
       "    <tr>\n",
       "      <th>23</th>\n",
       "      <td>Фортеця Бахмут</td>\n",
       "      <td>Antytila</td>\n",
       "      <td>2023-04-04 11:52:49.239000+03:00</td>\n",
       "      <td>YouTube Music</td>\n",
       "      <td>Music</td>\n",
       "      <td>Фортеця Бахмут Antytila</td>\n",
       "      <td>antytila</td>\n",
       "    </tr>\n",
       "    <tr>\n",
       "      <th>29</th>\n",
       "      <td>ВЛАДЛЕН ТАТАРСЬКИЙ ЗАЖМУРИВСЯ - ОЛДСКУЛЬНИЙ РО...</td>\n",
       "      <td>Old School</td>\n",
       "      <td>2023-04-03 23:42:34.126000+03:00</td>\n",
       "      <td>YouTube</td>\n",
       "      <td>Politics</td>\n",
       "      <td>ВЛАДЛЕН ТАТАРСЬКИЙ ЗАЖМУРИВСЯ - ОЛДСКУЛЬНИЙ РО...</td>\n",
       "      <td>old school</td>\n",
       "    </tr>\n",
       "    <tr>\n",
       "      <th>50</th>\n",
       "      <td>\"Ось наші Леопарди!\": танкісти і піхота 92-ї О...</td>\n",
       "      <td>BIHUS Info</td>\n",
       "      <td>2023-04-03 22:03:11.147000+03:00</td>\n",
       "      <td>YouTube</td>\n",
       "      <td>Politics</td>\n",
       "      <td>\"Ось наші Леопарди!\": танкісти і піхота 92-ї О...</td>\n",
       "      <td>92 bihus info</td>\n",
       "    </tr>\n",
       "    <tr>\n",
       "      <th>...</th>\n",
       "      <td>...</td>\n",
       "      <td>...</td>\n",
       "      <td>...</td>\n",
       "      <td>...</td>\n",
       "      <td>...</td>\n",
       "      <td>...</td>\n",
       "      <td>...</td>\n",
       "    </tr>\n",
       "    <tr>\n",
       "      <th>4250</th>\n",
       "      <td>Силуети</td>\n",
       "      <td>SadSvit</td>\n",
       "      <td>2023-01-03 18:03:09.811000+02:00</td>\n",
       "      <td>YouTube Music</td>\n",
       "      <td>Music</td>\n",
       "      <td>Силуети SadSvit</td>\n",
       "      <td>sadsvit</td>\n",
       "    </tr>\n",
       "    <tr>\n",
       "      <th>4256</th>\n",
       "      <td>#КОЗАЦЬКОМУ_РОДУ</td>\n",
       "      <td>Jerry Heil</td>\n",
       "      <td>2023-01-03 17:34:33.059000+02:00</td>\n",
       "      <td>YouTube Music</td>\n",
       "      <td>Music</td>\n",
       "      <td>#КОЗАЦЬКОМУ_РОДУ Jerry Heil</td>\n",
       "      <td>jerry heil</td>\n",
       "    </tr>\n",
       "    <tr>\n",
       "      <th>4257</th>\n",
       "      <td>Тихо прийшов, тихо пішов або пісня спеціальног...</td>\n",
       "      <td>Riffmaster</td>\n",
       "      <td>2023-01-03 17:29:21.578000+02:00</td>\n",
       "      <td>YouTube Music</td>\n",
       "      <td>Music</td>\n",
       "      <td>Тихо прийшов, тихо пішов або пісня спеціальног...</td>\n",
       "      <td>riffmaster</td>\n",
       "    </tr>\n",
       "    <tr>\n",
       "      <th>4346</th>\n",
       "      <td>Як військові відреагували на звернення Зеленсь...</td>\n",
       "      <td>Ukrainian Witness</td>\n",
       "      <td>2023-01-02 08:53:54.148000+02:00</td>\n",
       "      <td>YouTube</td>\n",
       "      <td>Politics</td>\n",
       "      <td>Як військові відреагували на звернення Зеленсь...</td>\n",
       "      <td>ukrainian witness</td>\n",
       "    </tr>\n",
       "    <tr>\n",
       "      <th>4395</th>\n",
       "      <td>Гімн України</td>\n",
       "      <td>Oleksandr Ponomariov</td>\n",
       "      <td>2023-01-01 00:06:19.680000+02:00</td>\n",
       "      <td>YouTube</td>\n",
       "      <td>Music</td>\n",
       "      <td>Гімн України Oleksandr Ponomariov</td>\n",
       "      <td>oleksandr ponomariov</td>\n",
       "    </tr>\n",
       "  </tbody>\n",
       "</table>\n",
       "<p>610 rows × 7 columns</p>\n",
       "</div>"
      ],
      "text/plain": [
       "                                            video_title          channel_name  \\\n",
       "2                                                Ліхтар          Rohata Zhaba   \n",
       "9                                                 Мавка             Authentix   \n",
       "23                                       Фортеця Бахмут              Antytila   \n",
       "29    ВЛАДЛЕН ТАТАРСЬКИЙ ЗАЖМУРИВСЯ - ОЛДСКУЛЬНИЙ РО...            Old School   \n",
       "50    \"Ось наші Леопарди!\": танкісти і піхота 92-ї О...            BIHUS Info   \n",
       "...                                                 ...                   ...   \n",
       "4250                                            Силуети               SadSvit   \n",
       "4256                                   #КОЗАЦЬКОМУ_РОДУ            Jerry Heil   \n",
       "4257  Тихо прийшов, тихо пішов або пісня спеціальног...            Riffmaster   \n",
       "4346  Як військові відреагували на звернення Зеленсь...     Ukrainian Witness   \n",
       "4395                                       Гімн України  Oleksandr Ponomariov   \n",
       "\n",
       "                                  time            app  category  \\\n",
       "2     2023-04-04 14:25:11.177000+03:00        YouTube     Music   \n",
       "9     2023-04-04 12:57:54.594000+03:00        YouTube     Music   \n",
       "23    2023-04-04 11:52:49.239000+03:00  YouTube Music     Music   \n",
       "29    2023-04-03 23:42:34.126000+03:00        YouTube  Politics   \n",
       "50    2023-04-03 22:03:11.147000+03:00        YouTube  Politics   \n",
       "...                                ...            ...       ...   \n",
       "4250  2023-01-03 18:03:09.811000+02:00  YouTube Music     Music   \n",
       "4256  2023-01-03 17:34:33.059000+02:00  YouTube Music     Music   \n",
       "4257  2023-01-03 17:29:21.578000+02:00  YouTube Music     Music   \n",
       "4346  2023-01-02 08:53:54.148000+02:00        YouTube  Politics   \n",
       "4395  2023-01-01 00:06:19.680000+02:00        YouTube     Music   \n",
       "\n",
       "                                               combined      combined_preproc  \n",
       "2                                   Ліхтар Rohata Zhaba          rohata zhaba  \n",
       "9                                       Мавка Authentix             authentix  \n",
       "23                              Фортеця Бахмут Antytila              antytila  \n",
       "29    ВЛАДЛЕН ТАТАРСЬКИЙ ЗАЖМУРИВСЯ - ОЛДСКУЛЬНИЙ РО...            old school  \n",
       "50    \"Ось наші Леопарди!\": танкісти і піхота 92-ї О...         92 bihus info  \n",
       "...                                                 ...                   ...  \n",
       "4250                                    Силуети SadSvit               sadsvit  \n",
       "4256                        #КОЗАЦЬКОМУ_РОДУ Jerry Heil            jerry heil  \n",
       "4257  Тихо прийшов, тихо пішов або пісня спеціальног...            riffmaster  \n",
       "4346  Як військові відреагували на звернення Зеленсь...     ukrainian witness  \n",
       "4395                  Гімн України Oleksandr Ponomariov  oleksandr ponomariov  \n",
       "\n",
       "[610 rows x 7 columns]"
      ]
     },
     "execution_count": 18,
     "metadata": {},
     "output_type": "execute_result"
    }
   ],
   "source": [
    "maj_ua_610 = pd.read_csv(\"610_additional.csv\", index_col=0)\n",
    "maj_ua_610"
   ]
  },
  {
   "cell_type": "code",
   "execution_count": 20,
   "metadata": {},
   "outputs": [
    {
     "data": {
      "text/plain": [
       "Music       497\n",
       "Politics     86\n",
       "Rec          23\n",
       "Studies       3\n",
       "Sport         1\n",
       "Name: category, dtype: int64"
      ]
     },
     "execution_count": 20,
     "metadata": {},
     "output_type": "execute_result"
    }
   ],
   "source": [
    "maj_ua_610[\"category\"].value_counts()"
   ]
  },
  {
   "cell_type": "code",
   "execution_count": 21,
   "metadata": {},
   "outputs": [
    {
     "data": {
      "text/plain": [
       "Music       0.814754\n",
       "Politics    0.140984\n",
       "Rec         0.037705\n",
       "Studies     0.004918\n",
       "Sport       0.001639\n",
       "Name: category, dtype: float64"
      ]
     },
     "execution_count": 21,
     "metadata": {},
     "output_type": "execute_result"
    }
   ],
   "source": [
    "maj_ua_610[\"category\"].value_counts(normalize=True)"
   ]
  },
  {
   "cell_type": "code",
   "execution_count": 25,
   "metadata": {},
   "outputs": [
    {
     "data": {
      "text/plain": [
       "Music       497\n",
       "Rec         195\n",
       "Politics    158\n",
       "Studies     120\n",
       "Sport        30\n",
       "Name: category, dtype: int64"
      ]
     },
     "execution_count": 25,
     "metadata": {},
     "output_type": "execute_result"
    }
   ],
   "source": [
    "df[\"category\"].value_counts()"
   ]
  },
  {
   "cell_type": "code",
   "execution_count": 24,
   "metadata": {},
   "outputs": [
    {
     "data": {
      "text/plain": [
       "Music       0.497\n",
       "Rec         0.195\n",
       "Politics    0.158\n",
       "Studies     0.120\n",
       "Sport       0.030\n",
       "Name: category, dtype: float64"
      ]
     },
     "execution_count": 24,
     "metadata": {},
     "output_type": "execute_result"
    }
   ],
   "source": [
    "df[\"category\"].value_counts(normalize=True)"
   ]
  },
  {
   "cell_type": "code",
   "execution_count": 11,
   "metadata": {},
   "outputs": [
    {
     "data": {
      "text/plain": [
       "381"
      ]
     },
     "execution_count": 11,
     "metadata": {},
     "output_type": "execute_result"
    }
   ],
   "source": [
    "len(empty_rows[empty_rows['combined_preproc'].str.len() < 4])"
   ]
  },
  {
   "attachments": {},
   "cell_type": "markdown",
   "metadata": {},
   "source": [
    "Without combining 'video_title' and 'channel_name' cols, we lose 991 rows. Let's see how many rows we're gonna lose when these cols are combined"
   ]
  },
  {
   "cell_type": "code",
   "execution_count": 62,
   "metadata": {},
   "outputs": [
    {
     "data": {
      "text/html": [
       "<div>\n",
       "<style scoped>\n",
       "    .dataframe tbody tr th:only-of-type {\n",
       "        vertical-align: middle;\n",
       "    }\n",
       "\n",
       "    .dataframe tbody tr th {\n",
       "        vertical-align: top;\n",
       "    }\n",
       "\n",
       "    .dataframe thead th {\n",
       "        text-align: right;\n",
       "    }\n",
       "</style>\n",
       "<table border=\"1\" class=\"dataframe\">\n",
       "  <thead>\n",
       "    <tr style=\"text-align: right;\">\n",
       "      <th></th>\n",
       "      <th>video_title</th>\n",
       "      <th>channel_name</th>\n",
       "      <th>time</th>\n",
       "      <th>app</th>\n",
       "      <th>category</th>\n",
       "      <th>combined</th>\n",
       "      <th>combined_preproc</th>\n",
       "    </tr>\n",
       "  </thead>\n",
       "  <tbody>\n",
       "    <tr>\n",
       "      <th>1</th>\n",
       "      <td>Жбурляю</td>\n",
       "      <td>Харцизи</td>\n",
       "      <td>2023-04-04 14:59:28.805000+03:00</td>\n",
       "      <td>YouTube Music</td>\n",
       "      <td>Music</td>\n",
       "      <td>Жбурляю Харцизи</td>\n",
       "      <td></td>\n",
       "    </tr>\n",
       "    <tr>\n",
       "      <th>2</th>\n",
       "      <td>Ліхтар</td>\n",
       "      <td>Rohata Zhaba</td>\n",
       "      <td>2023-04-04 14:25:11.177000+03:00</td>\n",
       "      <td>YouTube</td>\n",
       "      <td>Not Music</td>\n",
       "      <td>Ліхтар Rohata Zhaba</td>\n",
       "      <td>rohata zhaba</td>\n",
       "    </tr>\n",
       "    <tr>\n",
       "      <th>3</th>\n",
       "      <td>Drinker's Chasers - ANOTHER Rey Skywalker Movie?!</td>\n",
       "      <td>Critical Drinker After Hours</td>\n",
       "      <td>2023-04-04 14:12:17.193000+03:00</td>\n",
       "      <td>YouTube</td>\n",
       "      <td>Not Music</td>\n",
       "      <td>Drinker's Chasers - ANOTHER Rey Skywalker Movie?! Critical Drinker After Hours</td>\n",
       "      <td>drinkers chasers another rey skywalker movie critical drinker hours</td>\n",
       "    </tr>\n",
       "  </tbody>\n",
       "</table>\n",
       "</div>"
      ],
      "text/plain": [
       "                                         video_title  \\\n",
       "1                                            Жбурляю   \n",
       "2                                             Ліхтар   \n",
       "3  Drinker's Chasers - ANOTHER Rey Skywalker Movie?!   \n",
       "\n",
       "                   channel_name                             time  \\\n",
       "1                       Харцизи 2023-04-04 14:59:28.805000+03:00   \n",
       "2                  Rohata Zhaba 2023-04-04 14:25:11.177000+03:00   \n",
       "3  Critical Drinker After Hours 2023-04-04 14:12:17.193000+03:00   \n",
       "\n",
       "             app   category  \\\n",
       "1  YouTube Music      Music   \n",
       "2        YouTube  Not Music   \n",
       "3        YouTube  Not Music   \n",
       "\n",
       "                                                                         combined  \\\n",
       "1                                                                 Жбурляю Харцизи   \n",
       "2                                                             Ліхтар Rohata Zhaba   \n",
       "3  Drinker's Chasers - ANOTHER Rey Skywalker Movie?! Critical Drinker After Hours   \n",
       "\n",
       "                                                      combined_preproc  \n",
       "1                                                                       \n",
       "2                                                         rohata zhaba  \n",
       "3  drinkers chasers another rey skywalker movie critical drinker hours  "
      ]
     },
     "execution_count": 62,
     "metadata": {},
     "output_type": "execute_result"
    }
   ],
   "source": [
    "df[\"combined\"] = df[\"video_title\"] + \" \" + df[\"channel_name\"]\n",
    "df[\"combined_preproc\"] = df[\"combined\"].apply(preprocess)\n",
    "df.head(3)"
   ]
  },
  {
   "cell_type": "code",
   "execution_count": 63,
   "metadata": {},
   "outputs": [
    {
     "name": "stdout",
     "output_type": "stream",
     "text": [
      "Before dropping: 4395\n",
      "After: 4014\n"
     ]
    }
   ],
   "source": [
    "print(f\"Before dropping: {len(df)}\")\n",
    "df = df[df['combined_preproc'].str.len() >= 4]\n",
    "print(f\"After: {len(df)}\")"
   ]
  },
  {
   "cell_type": "code",
   "execution_count": 65,
   "metadata": {},
   "outputs": [],
   "source": [
    "df.to_csv(\"unlabeled_combined_len_4014.csv\")"
   ]
  },
  {
   "attachments": {},
   "cell_type": "markdown",
   "metadata": {},
   "source": [
    "As you can see, if we combine those two cols, we lose significantly fewer rows. Only 381 to be precise"
   ]
  },
  {
   "attachments": {},
   "cell_type": "markdown",
   "metadata": {},
   "source": [
    "# CLASSIFICATION WITH ALREADY PREPARED SAMPLE"
   ]
  },
  {
   "cell_type": "code",
   "execution_count": 22,
   "metadata": {},
   "outputs": [
    {
     "data": {
      "text/html": [
       "<div>\n",
       "<style scoped>\n",
       "    .dataframe tbody tr th:only-of-type {\n",
       "        vertical-align: middle;\n",
       "    }\n",
       "\n",
       "    .dataframe tbody tr th {\n",
       "        vertical-align: top;\n",
       "    }\n",
       "\n",
       "    .dataframe thead th {\n",
       "        text-align: right;\n",
       "    }\n",
       "</style>\n",
       "<table border=\"1\" class=\"dataframe\">\n",
       "  <thead>\n",
       "    <tr style=\"text-align: right;\">\n",
       "      <th></th>\n",
       "      <th>video_title</th>\n",
       "      <th>channel_name</th>\n",
       "      <th>app</th>\n",
       "      <th>category</th>\n",
       "      <th>preproc</th>\n",
       "      <th>time</th>\n",
       "    </tr>\n",
       "  </thead>\n",
       "  <tbody>\n",
       "    <tr>\n",
       "      <th>997</th>\n",
       "      <td>Would I Like to Visit Ukraine? - April Q&amp;A</td>\n",
       "      <td>Jake Broe</td>\n",
       "      <td>YouTube</td>\n",
       "      <td>Politics</td>\n",
       "      <td>would like visit ukraine april qa</td>\n",
       "      <td>2023-04-04 10:47:03.150000+03:00</td>\n",
       "    </tr>\n",
       "    <tr>\n",
       "      <th>998</th>\n",
       "      <td>Deep Rock Galactic - 5th Anniversary Space Rig...</td>\n",
       "      <td>Thai</td>\n",
       "      <td>YouTube</td>\n",
       "      <td>Music</td>\n",
       "      <td>deep rock galactic 5th anniversary space rig m...</td>\n",
       "      <td>2023-04-04 12:47:36.411000+03:00</td>\n",
       "    </tr>\n",
       "    <tr>\n",
       "      <th>999</th>\n",
       "      <td>Drinker's Chasers - ANOTHER Rey Skywalker Movie?!</td>\n",
       "      <td>Critical Drinker After Hours</td>\n",
       "      <td>YouTube</td>\n",
       "      <td>Rec</td>\n",
       "      <td>drinkers chasers another rey skywalker movie</td>\n",
       "      <td>2023-04-04 14:12:17.193000+03:00</td>\n",
       "    </tr>\n",
       "  </tbody>\n",
       "</table>\n",
       "</div>"
      ],
      "text/plain": [
       "                                           video_title  \\\n",
       "997         Would I Like to Visit Ukraine? - April Q&A   \n",
       "998  Deep Rock Galactic - 5th Anniversary Space Rig...   \n",
       "999  Drinker's Chasers - ANOTHER Rey Skywalker Movie?!   \n",
       "\n",
       "                     channel_name      app  category  \\\n",
       "997                     Jake Broe  YouTube  Politics   \n",
       "998                          Thai  YouTube     Music   \n",
       "999  Critical Drinker After Hours  YouTube       Rec   \n",
       "\n",
       "                                               preproc  \\\n",
       "997                  would like visit ukraine april qa   \n",
       "998  deep rock galactic 5th anniversary space rig m...   \n",
       "999       drinkers chasers another rey skywalker movie   \n",
       "\n",
       "                                 time  \n",
       "997  2023-04-04 10:47:03.150000+03:00  \n",
       "998  2023-04-04 12:47:36.411000+03:00  \n",
       "999  2023-04-04 14:12:17.193000+03:00  "
      ]
     },
     "execution_count": 22,
     "metadata": {},
     "output_type": "execute_result"
    }
   ],
   "source": [
    "df = pd.read_csv('labeled_sample_1000_elem.csv', index_col=0)\n",
    "df.tail(3)"
   ]
  },
  {
   "cell_type": "markdown",
   "metadata": {},
   "source": [
    "Let's think about possible categories:\n",
    "- music - it's the easiest one because I can do it without any classification algo by treating every video in YouTube Music as a song. However, you'll need to handle songs you listened in YouTube app. Maybe just check if video_title or channel_name happened already in YouTube Music. If so, then it's a song as well\n",
    "- entertainment - games, movies, books, and other not so productive stuff\n",
    "- enlightment/learning - english, math, cs, books, and other subjects\n",
    "- politics - war, inner policies, and so on\n",
    "\n",
    "However, what if some videos combine different categories? For example, a history video can be both entertaining and enlightning"
   ]
  },
  {
   "cell_type": "code",
   "execution_count": 23,
   "metadata": {},
   "outputs": [
    {
     "data": {
      "text/plain": [
       "Music       497\n",
       "Rec         195\n",
       "Politics    158\n",
       "Studies     120\n",
       "Sport        30\n",
       "Name: category, dtype: int64"
      ]
     },
     "execution_count": 23,
     "metadata": {},
     "output_type": "execute_result"
    }
   ],
   "source": [
    "df[\"category\"].value_counts()"
   ]
  },
  {
   "cell_type": "code",
   "execution_count": 52,
   "metadata": {},
   "outputs": [
    {
     "data": {
      "text/html": [
       "<div>\n",
       "<style scoped>\n",
       "    .dataframe tbody tr th:only-of-type {\n",
       "        vertical-align: middle;\n",
       "    }\n",
       "\n",
       "    .dataframe tbody tr th {\n",
       "        vertical-align: top;\n",
       "    }\n",
       "\n",
       "    .dataframe thead th {\n",
       "        text-align: right;\n",
       "    }\n",
       "</style>\n",
       "<table border=\"1\" class=\"dataframe\">\n",
       "  <thead>\n",
       "    <tr style=\"text-align: right;\">\n",
       "      <th></th>\n",
       "      <th>video_title</th>\n",
       "      <th>channel_name</th>\n",
       "      <th>app</th>\n",
       "      <th>category</th>\n",
       "      <th>preproc</th>\n",
       "      <th>time</th>\n",
       "      <th>target_label</th>\n",
       "    </tr>\n",
       "  </thead>\n",
       "  <tbody>\n",
       "    <tr>\n",
       "      <th>997</th>\n",
       "      <td>Would I Like to Visit Ukraine? - April Q&amp;A</td>\n",
       "      <td>Jake Broe</td>\n",
       "      <td>YouTube</td>\n",
       "      <td>Politics</td>\n",
       "      <td>would like visit ukraine april qa</td>\n",
       "      <td>2023-04-04 10:47:03.150000+03:00</td>\n",
       "      <td>2</td>\n",
       "    </tr>\n",
       "    <tr>\n",
       "      <th>998</th>\n",
       "      <td>Deep Rock Galactic - 5th Anniversary Space Rig Music</td>\n",
       "      <td>Thai</td>\n",
       "      <td>YouTube</td>\n",
       "      <td>Music</td>\n",
       "      <td>deep rock galactic 5th anniversary space rig music</td>\n",
       "      <td>2023-04-04 12:47:36.411000+03:00</td>\n",
       "      <td>0</td>\n",
       "    </tr>\n",
       "    <tr>\n",
       "      <th>999</th>\n",
       "      <td>Drinker's Chasers - ANOTHER Rey Skywalker Movie?!</td>\n",
       "      <td>Critical Drinker After Hours</td>\n",
       "      <td>YouTube</td>\n",
       "      <td>Rec</td>\n",
       "      <td>drinkers chasers another rey skywalker movie</td>\n",
       "      <td>2023-04-04 14:12:17.193000+03:00</td>\n",
       "      <td>1</td>\n",
       "    </tr>\n",
       "  </tbody>\n",
       "</table>\n",
       "</div>"
      ],
      "text/plain": [
       "                                              video_title  \\\n",
       "997            Would I Like to Visit Ukraine? - April Q&A   \n",
       "998  Deep Rock Galactic - 5th Anniversary Space Rig Music   \n",
       "999     Drinker's Chasers - ANOTHER Rey Skywalker Movie?!   \n",
       "\n",
       "                     channel_name      app  category  \\\n",
       "997                     Jake Broe  YouTube  Politics   \n",
       "998                          Thai  YouTube     Music   \n",
       "999  Critical Drinker After Hours  YouTube       Rec   \n",
       "\n",
       "                                                preproc  \\\n",
       "997                   would like visit ukraine april qa   \n",
       "998  deep rock galactic 5th anniversary space rig music   \n",
       "999        drinkers chasers another rey skywalker movie   \n",
       "\n",
       "                                 time  target_label  \n",
       "997  2023-04-04 10:47:03.150000+03:00             2  \n",
       "998  2023-04-04 12:47:36.411000+03:00             0  \n",
       "999  2023-04-04 14:12:17.193000+03:00             1  "
      ]
     },
     "execution_count": 52,
     "metadata": {},
     "output_type": "execute_result"
    }
   ],
   "source": [
    "# df['target_label'] = pd.factorize(df['category'])[0]\n",
    "df[\"target_label\"] = df[\"category\"].map({\n",
    "    \"Music\": 0,\n",
    "    \"Rec\": 1,\n",
    "    \"Politics\": 2,\n",
    "    \"Studies\": 3,\n",
    "    \"Sport\": 4\n",
    "})\n",
    "df.tail(3)"
   ]
  },
  {
   "cell_type": "code",
   "execution_count": 53,
   "metadata": {},
   "outputs": [
    {
     "data": {
      "text/plain": [
       "0    497\n",
       "1    195\n",
       "2    158\n",
       "3    120\n",
       "4     30\n",
       "Name: target_label, dtype: int64"
      ]
     },
     "execution_count": 53,
     "metadata": {},
     "output_type": "execute_result"
    }
   ],
   "source": [
    "df[\"target_label\"].value_counts()"
   ]
  },
  {
   "attachments": {},
   "cell_type": "markdown",
   "metadata": {},
   "source": [
    "At last, time to try classification"
   ]
  },
  {
   "cell_type": "code",
   "execution_count": 54,
   "metadata": {},
   "outputs": [
    {
     "data": {
      "text/plain": [
       "((800,), (200,))"
      ]
     },
     "execution_count": 54,
     "metadata": {},
     "output_type": "execute_result"
    }
   ],
   "source": [
    "from sklearn.model_selection import train_test_split\n",
    "\n",
    "train_corpus, test_corpus, train_label_nums, test_label_nums, train_label_names, test_label_names = train_test_split(\n",
    "    np.array(df['preproc']), np.array(df['target_label']), np.array(df['category']), test_size=0.2, random_state=0)\n",
    "train_corpus.shape, test_corpus.shape"
   ]
  },
  {
   "cell_type": "code",
   "execution_count": 55,
   "metadata": {},
   "outputs": [],
   "source": [
    "from sklearn.model_selection import cross_val_score\n",
    "\n",
    "from sklearn.feature_extraction.text import TfidfVectorizer\n",
    "tv = TfidfVectorizer(min_df=0., max_df=1., norm='l2', use_idf=True, smooth_idf=True)\n",
    "tv_train_features = tv.fit_transform(train_corpus)\n",
    "tv_test_features = tv.transform(test_corpus)"
   ]
  },
  {
   "cell_type": "code",
   "execution_count": 56,
   "metadata": {},
   "outputs": [
    {
     "name": "stdout",
     "output_type": "stream",
     "text": [
      "CV Accuracy (5-fold): [0.84375 0.81875 0.80625 0.7875  0.79375]\n",
      "Mean CV Accuracy: 0.8099999999999999\n",
      "Test Accuracy: 0.795\n"
     ]
    }
   ],
   "source": [
    "from sklearn.svm import LinearSVC\n",
    "svm = LinearSVC(penalty='l2', C=1, random_state=0)\n",
    "svm.fit(tv_train_features, train_label_names)\n",
    "svm_bow_tv_scores = cross_val_score(svm, tv_train_features, train_label_names, cv=5)\n",
    "svm_bow_tv_mean_score = np.mean(svm_bow_tv_scores)\n",
    "\n",
    "print('CV Accuracy (5-fold):', svm_bow_tv_scores)\n",
    "print('Mean CV Accuracy:', svm_bow_tv_mean_score)\n",
    "svm_bow_test_score = svm.score(tv_test_features, test_label_names)\n",
    "print('Test Accuracy:', svm_bow_test_score)"
   ]
  },
  {
   "cell_type": "code",
   "execution_count": 57,
   "metadata": {},
   "outputs": [
    {
     "name": "stdout",
     "output_type": "stream",
     "text": [
      "              precision    recall  f1-score   support\n",
      "\n",
      "    Politics       0.80      0.67      0.73        48\n",
      "       Sport       1.00      0.67      0.80         6\n",
      "     Studies       0.69      0.48      0.56        23\n",
      "       Music       0.80      0.93      0.86        81\n",
      "         Rec       0.80      0.88      0.84        42\n",
      "\n",
      "    accuracy                           0.80       200\n",
      "   macro avg       0.82      0.72      0.76       200\n",
      "weighted avg       0.79      0.80      0.79       200\n",
      "\n"
     ]
    }
   ],
   "source": [
    "from sklearn.metrics import classification_report\n",
    "# predict labels for the test set\n",
    "svm_predictions = svm.predict(tv_test_features)\n",
    "# get the unique classes\n",
    "unique_classes = list(set(test_label_names))\n",
    "# print the classification report\n",
    "print(classification_report(test_label_names, svm_predictions, labels=unique_classes))"
   ]
  },
  {
   "attachments": {},
   "cell_type": "markdown",
   "metadata": {},
   "source": [
    "Now let's see what labels were assigned in df format"
   ]
  },
  {
   "cell_type": "code",
   "execution_count": 58,
   "metadata": {},
   "outputs": [
    {
     "data": {
      "text/html": [
       "<div>\n",
       "<style scoped>\n",
       "    .dataframe tbody tr th:only-of-type {\n",
       "        vertical-align: middle;\n",
       "    }\n",
       "\n",
       "    .dataframe tbody tr th {\n",
       "        vertical-align: top;\n",
       "    }\n",
       "\n",
       "    .dataframe thead th {\n",
       "        text-align: right;\n",
       "    }\n",
       "</style>\n",
       "<table border=\"1\" class=\"dataframe\">\n",
       "  <thead>\n",
       "    <tr style=\"text-align: right;\">\n",
       "      <th></th>\n",
       "      <th>video_title</th>\n",
       "      <th>category</th>\n",
       "      <th>actual_label</th>\n",
       "      <th>predicted_label</th>\n",
       "    </tr>\n",
       "  </thead>\n",
       "  <tbody>\n",
       "    <tr>\n",
       "      <th>0</th>\n",
       "      <td>ost disposal unitimperium mix</td>\n",
       "      <td>Music</td>\n",
       "      <td>0</td>\n",
       "      <td>Music</td>\n",
       "    </tr>\n",
       "    <tr>\n",
       "      <th>1</th>\n",
       "      <td>endless space 2 riftborn prologue</td>\n",
       "      <td>Rec</td>\n",
       "      <td>1</td>\n",
       "      <td>Rec</td>\n",
       "    </tr>\n",
       "    <tr>\n",
       "      <th>2</th>\n",
       "      <td>russia cant beat us final episode</td>\n",
       "      <td>Politics</td>\n",
       "      <td>2</td>\n",
       "      <td>Politics</td>\n",
       "    </tr>\n",
       "    <tr>\n",
       "      <th>3</th>\n",
       "      <td>mavka forest song official trailer</td>\n",
       "      <td>Rec</td>\n",
       "      <td>1</td>\n",
       "      <td>Rec</td>\n",
       "    </tr>\n",
       "    <tr>\n",
       "      <th>4</th>\n",
       "      <td>capybara found human friend introduces whole family</td>\n",
       "      <td>Rec</td>\n",
       "      <td>1</td>\n",
       "      <td>Rec</td>\n",
       "    </tr>\n",
       "    <tr>\n",
       "      <th>5</th>\n",
       "      <td>cossack song</td>\n",
       "      <td>Music</td>\n",
       "      <td>0</td>\n",
       "      <td>Music</td>\n",
       "    </tr>\n",
       "    <tr>\n",
       "      <th>6</th>\n",
       "      <td>cruel world</td>\n",
       "      <td>Music</td>\n",
       "      <td>0</td>\n",
       "      <td>Music</td>\n",
       "    </tr>\n",
       "    <tr>\n",
       "      <th>7</th>\n",
       "      <td>hearts iron iv der machtigste konig im luftrevier german march</td>\n",
       "      <td>Music</td>\n",
       "      <td>0</td>\n",
       "      <td>Music</td>\n",
       "    </tr>\n",
       "    <tr>\n",
       "      <th>8</th>\n",
       "      <td>ukraine wins war</td>\n",
       "      <td>Politics</td>\n",
       "      <td>2</td>\n",
       "      <td>Politics</td>\n",
       "    </tr>\n",
       "    <tr>\n",
       "      <th>9</th>\n",
       "      <td>yakuza ost baka mitai kiryu full version</td>\n",
       "      <td>Music</td>\n",
       "      <td>0</td>\n",
       "      <td>Music</td>\n",
       "    </tr>\n",
       "  </tbody>\n",
       "</table>\n",
       "</div>"
      ],
      "text/plain": [
       "                                                      video_title  category  \\\n",
       "0                                   ost disposal unitimperium mix     Music   \n",
       "1                               endless space 2 riftborn prologue       Rec   \n",
       "2                               russia cant beat us final episode  Politics   \n",
       "3                              mavka forest song official trailer       Rec   \n",
       "4             capybara found human friend introduces whole family       Rec   \n",
       "5                                                    cossack song     Music   \n",
       "6                                                     cruel world     Music   \n",
       "7  hearts iron iv der machtigste konig im luftrevier german march     Music   \n",
       "8                                                ukraine wins war  Politics   \n",
       "9                        yakuza ost baka mitai kiryu full version     Music   \n",
       "\n",
       "   actual_label predicted_label  \n",
       "0             0           Music  \n",
       "1             1             Rec  \n",
       "2             2        Politics  \n",
       "3             1             Rec  \n",
       "4             1             Rec  \n",
       "5             0           Music  \n",
       "6             0           Music  \n",
       "7             0           Music  \n",
       "8             2        Politics  \n",
       "9             0           Music  "
      ]
     },
     "execution_count": 58,
     "metadata": {},
     "output_type": "execute_result"
    }
   ],
   "source": [
    "# Assuming you have already trained your model and obtained the predicted labels\n",
    "predicted_labels = svm.predict(tv_test_features)\n",
    "\n",
    "# Create a new dataframe that contains the test data and the predicted labels\n",
    "test_df = pd.DataFrame({'video_title': test_corpus, 'category': test_label_names, 'actual_label': test_label_nums, 'predicted_label': predicted_labels})\n",
    "\n",
    "# Print the first 10 rows of the new dataframe\n",
    "test_df.head(10)"
   ]
  },
  {
   "attachments": {},
   "cell_type": "markdown",
   "metadata": {},
   "source": [
    "Select 100 rows from the big df of like 3-4k rows to test how the model performs in production or whatever it's called"
   ]
  },
  {
   "cell_type": "code",
   "execution_count": 59,
   "metadata": {},
   "outputs": [
    {
     "ename": "NameError",
     "evalue": "name 'new_rows' is not defined",
     "output_type": "error",
     "traceback": [
      "\u001b[1;31m---------------------------------------------------------------------------\u001b[0m",
      "\u001b[1;31mNameError\u001b[0m                                 Traceback (most recent call last)",
      "\u001b[1;32mc:\\Users\\San\\Documents\\CS projects\\yt_activity_analysis\\classify.ipynb Cell 26\u001b[0m in \u001b[0;36m<module>\u001b[1;34m\u001b[0m\n\u001b[0;32m      <a href='vscode-notebook-cell:/c%3A/Users/San/Documents/CS%20projects/yt_activity_analysis/classify.ipynb#X33sZmlsZQ%3D%3D?line=0'>1</a>\u001b[0m \u001b[39m# new rows were gotten with df.sample(n=600, random_state=42)\u001b[39;00m\n\u001b[0;32m      <a href='vscode-notebook-cell:/c%3A/Users/San/Documents/CS%20projects/yt_activity_analysis/classify.ipynb#X33sZmlsZQ%3D%3D?line=1'>2</a>\u001b[0m \u001b[39m# random_state=42 because I want to get the same sample\u001b[39;00m\n\u001b[0;32m      <a href='vscode-notebook-cell:/c%3A/Users/San/Documents/CS%20projects/yt_activity_analysis/classify.ipynb#X33sZmlsZQ%3D%3D?line=2'>3</a>\u001b[0m \u001b[39m# get the features for the new videos using the trained vectorizer\u001b[39;00m\n\u001b[1;32m----> <a href='vscode-notebook-cell:/c%3A/Users/San/Documents/CS%20projects/yt_activity_analysis/classify.ipynb#X33sZmlsZQ%3D%3D?line=3'>4</a>\u001b[0m new_features \u001b[39m=\u001b[39m tv\u001b[39m.\u001b[39mtransform(new_rows[\u001b[39m\"\u001b[39m\u001b[39mpreproc\u001b[39m\u001b[39m\"\u001b[39m])\n\u001b[0;32m      <a href='vscode-notebook-cell:/c%3A/Users/San/Documents/CS%20projects/yt_activity_analysis/classify.ipynb#X33sZmlsZQ%3D%3D?line=4'>5</a>\u001b[0m \u001b[39m# predict the category of the new videos using the trained LinearSVC\u001b[39;00m\n\u001b[0;32m      <a href='vscode-notebook-cell:/c%3A/Users/San/Documents/CS%20projects/yt_activity_analysis/classify.ipynb#X33sZmlsZQ%3D%3D?line=5'>6</a>\u001b[0m predicted_labels \u001b[39m=\u001b[39m svm\u001b[39m.\u001b[39mpredict(new_features)\n",
      "\u001b[1;31mNameError\u001b[0m: name 'new_rows' is not defined"
     ]
    }
   ],
   "source": [
    "# new rows were gotten with df.sample(n=600, random_state=42)\n",
    "# random_state=42 because I want to get the same sample\n",
    "# get the features for the new videos using the trained vectorizer\n",
    "new_features = tv.transform(new_rows[\"preproc\"])\n",
    "# predict the category of the new videos using the trained LinearSVC\n",
    "predicted_labels = svm.predict(new_features)\n",
    "# add the predicted labels to the new_videos dataframe\n",
    "new_rows['category'] = predicted_labels\n",
    "new_rows"
   ]
  },
  {
   "cell_type": "code",
   "execution_count": null,
   "metadata": {},
   "outputs": [],
   "source": [
    "# new_rows.to_csv(\"tried_600-700.csv\")"
   ]
  },
  {
   "attachments": {},
   "cell_type": "markdown",
   "metadata": {},
   "source": [
    "Let's try to improve model accuracy by combining 'video_title' and 'channel_name'. This way, the model will have more information to work with. Also,  there'll be a higher chance that Ukrainian and other non-english videos won't be ignored. However, this'll be more useful with later because the current dataset has mostly English videos"
   ]
  },
  {
   "cell_type": "code",
   "execution_count": null,
   "metadata": {},
   "outputs": [
    {
     "data": {
      "text/html": [
       "<div>\n",
       "<style scoped>\n",
       "    .dataframe tbody tr th:only-of-type {\n",
       "        vertical-align: middle;\n",
       "    }\n",
       "\n",
       "    .dataframe tbody tr th {\n",
       "        vertical-align: top;\n",
       "    }\n",
       "\n",
       "    .dataframe thead th {\n",
       "        text-align: right;\n",
       "    }\n",
       "</style>\n",
       "<table border=\"1\" class=\"dataframe\">\n",
       "  <thead>\n",
       "    <tr style=\"text-align: right;\">\n",
       "      <th></th>\n",
       "      <th>video_title</th>\n",
       "      <th>channel_name</th>\n",
       "      <th>app</th>\n",
       "      <th>category</th>\n",
       "      <th>preproc</th>\n",
       "      <th>time</th>\n",
       "      <th>target_label</th>\n",
       "      <th>combined</th>\n",
       "    </tr>\n",
       "  </thead>\n",
       "  <tbody>\n",
       "    <tr>\n",
       "      <th>0</th>\n",
       "      <td>YARMAK FT. TOF - МОЯ КРАЇНА</td>\n",
       "      <td>Yarmak Music</td>\n",
       "      <td>YouTube</td>\n",
       "      <td>Music</td>\n",
       "      <td>yarmak ft tof</td>\n",
       "      <td>2023-01-01 00:07:14.838000+02:00</td>\n",
       "      <td>0</td>\n",
       "      <td>YARMAK FT. TOF - МОЯ КРАЇНА Yarmak Music</td>\n",
       "    </tr>\n",
       "    <tr>\n",
       "      <th>1</th>\n",
       "      <td>Russian missile zooms over Kyiv before being shot down just in time</td>\n",
       "      <td>The Sun</td>\n",
       "      <td>YouTube</td>\n",
       "      <td>Politics</td>\n",
       "      <td>russian missile zooms kyiv shot time</td>\n",
       "      <td>2023-01-01 09:43:07.927000+02:00</td>\n",
       "      <td>2</td>\n",
       "      <td>Russian missile zooms over Kyiv before being shot down just in time The Sun</td>\n",
       "    </tr>\n",
       "    <tr>\n",
       "      <th>2</th>\n",
       "      <td>Pathfinder: Kingmaker Review</td>\n",
       "      <td>MandaloreGaming</td>\n",
       "      <td>YouTube</td>\n",
       "      <td>Rec</td>\n",
       "      <td>pathfinder kingmaker review</td>\n",
       "      <td>2023-01-01 10:15:11.845000+02:00</td>\n",
       "      <td>1</td>\n",
       "      <td>Pathfinder: Kingmaker Review MandaloreGaming</td>\n",
       "    </tr>\n",
       "  </tbody>\n",
       "</table>\n",
       "</div>"
      ],
      "text/plain": [
       "                                                           video_title  \\\n",
       "0                                          YARMAK FT. TOF - МОЯ КРАЇНА   \n",
       "1  Russian missile zooms over Kyiv before being shot down just in time   \n",
       "2                                         Pathfinder: Kingmaker Review   \n",
       "\n",
       "      channel_name      app  category                               preproc  \\\n",
       "0     Yarmak Music  YouTube     Music                         yarmak ft tof   \n",
       "1          The Sun  YouTube  Politics  russian missile zooms kyiv shot time   \n",
       "2  MandaloreGaming  YouTube       Rec           pathfinder kingmaker review   \n",
       "\n",
       "                               time  target_label  \\\n",
       "0  2023-01-01 00:07:14.838000+02:00             0   \n",
       "1  2023-01-01 09:43:07.927000+02:00             2   \n",
       "2  2023-01-01 10:15:11.845000+02:00             1   \n",
       "\n",
       "                                                                      combined  \n",
       "0                                     YARMAK FT. TOF - МОЯ КРАЇНА Yarmak Music  \n",
       "1  Russian missile zooms over Kyiv before being shot down just in time The Sun  \n",
       "2                                 Pathfinder: Kingmaker Review MandaloreGaming  "
      ]
     },
     "execution_count": 28,
     "metadata": {},
     "output_type": "execute_result"
    }
   ],
   "source": [
    "# video_title_AND_channel_name is too long. Maybe try to use 'info' or 'combined' instead?\n",
    "df[\"combined\"] = df[\"video_title\"] + \" \" + df[\"channel_name\"]\n",
    "df[\"combined_preproc\"] = df[\"combined\"].apply(preprocess)\n",
    "df.head(3)"
   ]
  },
  {
   "cell_type": "code",
   "execution_count": null,
   "metadata": {},
   "outputs": [
    {
     "data": {
      "text/plain": [
       "((800,), (200,))"
      ]
     },
     "execution_count": 31,
     "metadata": {},
     "output_type": "execute_result"
    }
   ],
   "source": [
    "from sklearn.model_selection import train_test_split\n",
    "\n",
    "train_corpus, test_corpus, train_label_nums, test_label_nums, train_label_names, test_label_names = train_test_split(\n",
    "    np.array(df['combined_preproc']), np.array(df['target_label']), np.array(df['category']), test_size=0.2, random_state=0)\n",
    "train_corpus.shape, test_corpus.shape"
   ]
  },
  {
   "cell_type": "code",
   "execution_count": null,
   "metadata": {},
   "outputs": [],
   "source": [
    "from sklearn.model_selection import cross_val_score\n",
    "\n",
    "from sklearn.feature_extraction.text import TfidfVectorizer\n",
    "tv = TfidfVectorizer(min_df=0., max_df=1., norm='l2', use_idf=True, smooth_idf=True)\n",
    "tv_train_features = tv.fit_transform(train_corpus)\n",
    "tv_test_features = tv.transform(test_corpus)"
   ]
  },
  {
   "cell_type": "code",
   "execution_count": null,
   "metadata": {},
   "outputs": [
    {
     "name": "stdout",
     "output_type": "stream",
     "text": [
      "CV Accuracy (5-fold): [0.8875  0.85625 0.8375  0.85    0.83125]\n",
      "Mean CV Accuracy: 0.8525\n",
      "Test Accuracy: 0.845\n"
     ]
    }
   ],
   "source": [
    "from sklearn.svm import LinearSVC\n",
    "svm = LinearSVC(penalty='l2', C=1, random_state=0)\n",
    "svm.fit(tv_train_features, train_label_names)\n",
    "svm_bow_tv_scores = cross_val_score(svm, tv_train_features, train_label_names, cv=5)\n",
    "svm_bow_tv_mean_score = np.mean(svm_bow_tv_scores)\n",
    "\n",
    "print('CV Accuracy (5-fold):', svm_bow_tv_scores)\n",
    "print('Mean CV Accuracy:', svm_bow_tv_mean_score)\n",
    "svm_bow_test_score = svm.score(tv_test_features, test_label_names)\n",
    "print('Test Accuracy:', svm_bow_test_score)"
   ]
  },
  {
   "cell_type": "code",
   "execution_count": null,
   "metadata": {},
   "outputs": [
    {
     "name": "stdout",
     "output_type": "stream",
     "text": [
      "              precision    recall  f1-score   support\n",
      "\n",
      "    Politics       0.84      0.79      0.82        48\n",
      "       Sport       1.00      0.83      0.91         6\n",
      "     Studies       0.81      0.57      0.67        23\n",
      "       Music       0.83      0.93      0.88        81\n",
      "         Rec       0.86      0.90      0.88        42\n",
      "\n",
      "    accuracy                           0.84       200\n",
      "   macro avg       0.87      0.80      0.83       200\n",
      "weighted avg       0.84      0.84      0.84       200\n",
      "\n"
     ]
    }
   ],
   "source": [
    "from sklearn.metrics import classification_report\n",
    "# predict labels for the test set\n",
    "svm_predictions = svm.predict(tv_test_features)\n",
    "# get the unique classes\n",
    "unique_classes = list(set(test_label_names))\n",
    "# print the classification report\n",
    "print(classification_report(test_label_names, svm_predictions, labels=unique_classes))"
   ]
  }
 ],
 "metadata": {
  "kernelspec": {
   "display_name": "Python 3",
   "language": "python",
   "name": "python3"
  },
  "language_info": {
   "codemirror_mode": {
    "name": "ipython",
    "version": 3
   },
   "file_extension": ".py",
   "mimetype": "text/x-python",
   "name": "python",
   "nbconvert_exporter": "python",
   "pygments_lexer": "ipython3",
   "version": "3.10.2"
  },
  "orig_nbformat": 4
 },
 "nbformat": 4,
 "nbformat_minor": 2
}
