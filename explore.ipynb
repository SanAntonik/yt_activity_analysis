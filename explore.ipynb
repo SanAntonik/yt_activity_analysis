{
 "cells": [
  {
   "cell_type": "markdown",
   "metadata": {},
   "source": [
    "## 0. Import necessary libraries"
   ]
  },
  {
   "cell_type": "code",
   "execution_count": 1,
   "metadata": {},
   "outputs": [],
   "source": [
    "import numpy as np\n",
    "import pandas as pd\n",
    "import matplotlib as plt"
   ]
  },
  {
   "cell_type": "markdown",
   "metadata": {},
   "source": [
    "## 1. Get data from a previosly made function"
   ]
  },
  {
   "cell_type": "code",
   "execution_count": 2,
   "metadata": {},
   "outputs": [
    {
     "name": "stdout",
     "output_type": "stream",
     "text": [
      "<class 'pandas.core.frame.DataFrame'>\n",
      "RangeIndex: 4699 entries, 0 to 4698\n",
      "Data columns (total 9 columns):\n",
      " #   Column            Non-Null Count  Dtype              \n",
      "---  ------            --------------  -----              \n",
      " 0   header            4699 non-null   object             \n",
      " 1   title             4699 non-null   object             \n",
      " 2   titleUrl          4691 non-null   object             \n",
      " 3   subtitles         3992 non-null   object             \n",
      " 4   time              4699 non-null   datetime64[ns, UTC]\n",
      " 5   products          4699 non-null   object             \n",
      " 6   activityControls  4699 non-null   object             \n",
      " 7   description       654 non-null    object             \n",
      " 8   details           663 non-null    object             \n",
      "dtypes: datetime64[ns, UTC](1), object(8)\n",
      "memory usage: 330.5+ KB\n"
     ]
    },
    {
     "data": {
      "text/html": [
       "<div>\n",
       "<style scoped>\n",
       "    .dataframe tbody tr th:only-of-type {\n",
       "        vertical-align: middle;\n",
       "    }\n",
       "\n",
       "    .dataframe tbody tr th {\n",
       "        vertical-align: top;\n",
       "    }\n",
       "\n",
       "    .dataframe thead th {\n",
       "        text-align: right;\n",
       "    }\n",
       "</style>\n",
       "<table border=\"1\" class=\"dataframe\">\n",
       "  <thead>\n",
       "    <tr style=\"text-align: right;\">\n",
       "      <th></th>\n",
       "      <th>video_title</th>\n",
       "      <th>channel_name</th>\n",
       "      <th>time</th>\n",
       "    </tr>\n",
       "  </thead>\n",
       "  <tbody>\n",
       "    <tr>\n",
       "      <th>0</th>\n",
       "      <td>Alvan &amp; Ahez - Fulenn - LIVE - France 🇫🇷 - Gra...</td>\n",
       "      <td>Eurovision Song Contest</td>\n",
       "      <td>2022-07-11 19:32:31.801000+03:00</td>\n",
       "    </tr>\n",
       "    <tr>\n",
       "      <th>1</th>\n",
       "      <td>Monika Liu - Sentimentai - LIVE - Lithuania 🇱🇹...</td>\n",
       "      <td>Eurovision Song Contest</td>\n",
       "      <td>2022-07-11 19:28:54.894000+03:00</td>\n",
       "    </tr>\n",
       "    <tr>\n",
       "      <th>2</th>\n",
       "      <td>Ochman - River - LIVE - Poland 🇵🇱 - Grand Fina...</td>\n",
       "      <td>Eurovision Song Contest</td>\n",
       "      <td>2022-07-11 19:26:22.578000+03:00</td>\n",
       "    </tr>\n",
       "    <tr>\n",
       "      <th>3</th>\n",
       "      <td>Zdob şi Zdub &amp; Advahov Brothers - Trenulețul -...</td>\n",
       "      <td>Eurovision Song Contest</td>\n",
       "      <td>2022-07-11 19:22:41.498000+03:00</td>\n",
       "    </tr>\n",
       "    <tr>\n",
       "      <th>4</th>\n",
       "      <td>\"In Honolulu\" - German Sailor Song</td>\n",
       "      <td>Ingen</td>\n",
       "      <td>2022-07-11 19:06:04.511000+03:00</td>\n",
       "    </tr>\n",
       "  </tbody>\n",
       "</table>\n",
       "</div>"
      ],
      "text/plain": [
       "                                         video_title             channel_name  \\\n",
       "0  Alvan & Ahez - Fulenn - LIVE - France 🇫🇷 - Gra...  Eurovision Song Contest   \n",
       "1  Monika Liu - Sentimentai - LIVE - Lithuania 🇱🇹...  Eurovision Song Contest   \n",
       "2  Ochman - River - LIVE - Poland 🇵🇱 - Grand Fina...  Eurovision Song Contest   \n",
       "3  Zdob şi Zdub & Advahov Brothers - Trenulețul -...  Eurovision Song Contest   \n",
       "4                 \"In Honolulu\" - German Sailor Song                    Ingen   \n",
       "\n",
       "                              time  \n",
       "0 2022-07-11 19:32:31.801000+03:00  \n",
       "1 2022-07-11 19:28:54.894000+03:00  \n",
       "2 2022-07-11 19:26:22.578000+03:00  \n",
       "3 2022-07-11 19:22:41.498000+03:00  \n",
       "4 2022-07-11 19:06:04.511000+03:00  "
      ]
     },
     "execution_count": 2,
     "metadata": {},
     "output_type": "execute_result"
    }
   ],
   "source": [
    "from preparation import prepare_data\n",
    "\n",
    "PATH = \"C:/Users/San/Documents/CS projects/yt_activity_analysis/data/Takeout/YouTube and YouTube Music/history/watch-history.json\"\n",
    "df = prepare_data(PATH)\n",
    "df.head(5)"
   ]
  },
  {
   "cell_type": "markdown",
   "metadata": {},
   "source": [
    "## 2. Time to explore! "
   ]
  },
  {
   "cell_type": "code",
   "execution_count": 3,
   "metadata": {},
   "outputs": [
    {
     "data": {
      "text/plain": [
       "Eurovision Song Contest     181\n",
       "STERNENKO                   171\n",
       "Adam Something               75\n",
       "Beau of the Fifth Column     66\n",
       "Sky News                     64\n",
       "                           ... \n",
       "Om TV                         1\n",
       "ANNEKSIYA NET                 1\n",
       "ACG                           1\n",
       "The Mighty Jingles            1\n",
       "АрміяInform                   1\n",
       "Name: channel_name, Length: 1039, dtype: Int64"
      ]
     },
     "execution_count": 3,
     "metadata": {},
     "output_type": "execute_result"
    }
   ],
   "source": [
    "counts = df[\"channel_name\"].value_counts()\n",
    "counts"
   ]
  },
  {
   "cell_type": "code",
   "execution_count": 4,
   "metadata": {},
   "outputs": [
    {
     "data": {
      "image/png": "[encoded data removed]",
      "text/plain": [
       "<Figure size 432x288 with 1 Axes>"
      ]
     },
     "metadata": {
      "needs_background": "light"
     },
     "output_type": "display_data"
    }
   ],
   "source": [
    "# Plot first n-rows\n",
    "plt.rcParams['figure.dpi'] = 150 # make your graph bigger\n",
    "\n",
    "ax = counts.iloc[:25].plot(kind=\"barh\")\n",
    "ax.invert_yaxis()"
   ]
  },
  {
   "cell_type": "code",
   "execution_count": 5,
   "metadata": {},
   "outputs": [
    {
     "data": {
      "text/plain": [
       "Int64Index([19, 19, 19, 19, 19, 18, 18, 17, 15, 15,\n",
       "            ...\n",
       "            13, 13, 13, 13, 13, 13, 13, 13, 12, 12],\n",
       "           dtype='int64', name='time', length=3992)"
      ]
     },
     "execution_count": 5,
     "metadata": {},
     "output_type": "execute_result"
    }
   ],
   "source": [
    "df[\"time\"]\n",
    "pd.DatetimeIndex(df['time']).hour # get hour from datetime"
   ]
  },
  {
   "cell_type": "code",
   "execution_count": 6,
   "metadata": {},
   "outputs": [
    {
     "name": "stdout",
     "output_type": "stream",
     "text": [
      "<class 'pandas.core.frame.DataFrame'>\n",
      "RangeIndex: 3992 entries, 0 to 3991\n",
      "Data columns (total 3 columns):\n",
      " #   Column        Non-Null Count  Dtype                      \n",
      "---  ------        --------------  -----                      \n",
      " 0   video_title   3992 non-null   string                     \n",
      " 1   channel_name  3992 non-null   string                     \n",
      " 2   time          3992 non-null   datetime64[ns, Europe/Kiev]\n",
      "dtypes: datetime64[ns, Europe/Kiev](1), string(2)\n",
      "memory usage: 93.7 KB\n"
     ]
    },
    {
     "data": {
      "text/html": [
       "<div>\n",
       "<style scoped>\n",
       "    .dataframe tbody tr th:only-of-type {\n",
       "        vertical-align: middle;\n",
       "    }\n",
       "\n",
       "    .dataframe tbody tr th {\n",
       "        vertical-align: top;\n",
       "    }\n",
       "\n",
       "    .dataframe thead th {\n",
       "        text-align: right;\n",
       "    }\n",
       "</style>\n",
       "<table border=\"1\" class=\"dataframe\">\n",
       "  <thead>\n",
       "    <tr style=\"text-align: right;\">\n",
       "      <th></th>\n",
       "      <th>video_title</th>\n",
       "      <th>channel_name</th>\n",
       "      <th>time</th>\n",
       "    </tr>\n",
       "  </thead>\n",
       "  <tbody>\n",
       "    <tr>\n",
       "      <th>0</th>\n",
       "      <td>Alvan &amp; Ahez - Fulenn - LIVE - France 🇫🇷 - Gra...</td>\n",
       "      <td>Eurovision Song Contest</td>\n",
       "      <td>2022-07-11 19:32:31.801000+03:00</td>\n",
       "    </tr>\n",
       "    <tr>\n",
       "      <th>1</th>\n",
       "      <td>Monika Liu - Sentimentai - LIVE - Lithuania 🇱🇹...</td>\n",
       "      <td>Eurovision Song Contest</td>\n",
       "      <td>2022-07-11 19:28:54.894000+03:00</td>\n",
       "    </tr>\n",
       "    <tr>\n",
       "      <th>2</th>\n",
       "      <td>Ochman - River - LIVE - Poland 🇵🇱 - Grand Fina...</td>\n",
       "      <td>Eurovision Song Contest</td>\n",
       "      <td>2022-07-11 19:26:22.578000+03:00</td>\n",
       "    </tr>\n",
       "    <tr>\n",
       "      <th>3</th>\n",
       "      <td>Zdob şi Zdub &amp; Advahov Brothers - Trenulețul -...</td>\n",
       "      <td>Eurovision Song Contest</td>\n",
       "      <td>2022-07-11 19:22:41.498000+03:00</td>\n",
       "    </tr>\n",
       "    <tr>\n",
       "      <th>4</th>\n",
       "      <td>\"In Honolulu\" - German Sailor Song</td>\n",
       "      <td>Ingen</td>\n",
       "      <td>2022-07-11 19:06:04.511000+03:00</td>\n",
       "    </tr>\n",
       "    <tr>\n",
       "      <th>...</th>\n",
       "      <td>...</td>\n",
       "      <td>...</td>\n",
       "      <td>...</td>\n",
       "    </tr>\n",
       "    <tr>\n",
       "      <th>3987</th>\n",
       "      <td>We Are Number One - Lazy Town [Saxophone Cover]</td>\n",
       "      <td>Daniele Vitale Sax</td>\n",
       "      <td>2022-04-06 13:40:30.876000+03:00</td>\n",
       "    </tr>\n",
       "    <tr>\n",
       "      <th>3988</th>\n",
       "      <td>Учасники «Чорнобаївського серіалу» боронять Ми...</td>\n",
       "      <td>АрміяInform</td>\n",
       "      <td>2022-04-06 13:33:50.430000+03:00</td>\n",
       "    </tr>\n",
       "    <tr>\n",
       "      <th>3989</th>\n",
       "      <td>Звірства росіян у Бородянці. Катування мирних ...</td>\n",
       "      <td>STERNENKO</td>\n",
       "      <td>2022-04-06 13:03:25.129000+03:00</td>\n",
       "    </tr>\n",
       "    <tr>\n",
       "      <th>3990</th>\n",
       "      <td>ЧОМУ НЕ БУВАЄ \"ХАРОШИХ РУССКИХ\"?</td>\n",
       "      <td>Загін Кіноманів</td>\n",
       "      <td>2022-04-06 12:36:08.058000+03:00</td>\n",
       "    </tr>\n",
       "    <tr>\n",
       "      <th>3991</th>\n",
       "      <td>Як пропагандистка \"страни\" Крюкова за свою бре...</td>\n",
       "      <td>STERNENKO</td>\n",
       "      <td>2022-04-06 12:22:51.507000+03:00</td>\n",
       "    </tr>\n",
       "  </tbody>\n",
       "</table>\n",
       "<p>3992 rows × 3 columns</p>\n",
       "</div>"
      ],
      "text/plain": [
       "                                            video_title  \\\n",
       "0     Alvan & Ahez - Fulenn - LIVE - France 🇫🇷 - Gra...   \n",
       "1     Monika Liu - Sentimentai - LIVE - Lithuania 🇱🇹...   \n",
       "2     Ochman - River - LIVE - Poland 🇵🇱 - Grand Fina...   \n",
       "3     Zdob şi Zdub & Advahov Brothers - Trenulețul -...   \n",
       "4                    \"In Honolulu\" - German Sailor Song   \n",
       "...                                                 ...   \n",
       "3987    We Are Number One - Lazy Town [Saxophone Cover]   \n",
       "3988  Учасники «Чорнобаївського серіалу» боронять Ми...   \n",
       "3989  Звірства росіян у Бородянці. Катування мирних ...   \n",
       "3990                   ЧОМУ НЕ БУВАЄ \"ХАРОШИХ РУССКИХ\"?   \n",
       "3991  Як пропагандистка \"страни\" Крюкова за свою бре...   \n",
       "\n",
       "                 channel_name                             time  \n",
       "0     Eurovision Song Contest 2022-07-11 19:32:31.801000+03:00  \n",
       "1     Eurovision Song Contest 2022-07-11 19:28:54.894000+03:00  \n",
       "2     Eurovision Song Contest 2022-07-11 19:26:22.578000+03:00  \n",
       "3     Eurovision Song Contest 2022-07-11 19:22:41.498000+03:00  \n",
       "4                       Ingen 2022-07-11 19:06:04.511000+03:00  \n",
       "...                       ...                              ...  \n",
       "3987       Daniele Vitale Sax 2022-04-06 13:40:30.876000+03:00  \n",
       "3988              АрміяInform 2022-04-06 13:33:50.430000+03:00  \n",
       "3989                STERNENKO 2022-04-06 13:03:25.129000+03:00  \n",
       "3990          Загін Кіноманів 2022-04-06 12:36:08.058000+03:00  \n",
       "3991                STERNENKO 2022-04-06 12:22:51.507000+03:00  \n",
       "\n",
       "[3992 rows x 3 columns]"
      ]
     },
     "execution_count": 6,
     "metadata": {},
     "output_type": "execute_result"
    }
   ],
   "source": [
    "# Europe/Kiev\n",
    "df.info()\n",
    "df[\"time\"] = df[\"time\"].dt.tz_convert('Europe/Kiev')\n",
    "df[\"time\"]\n",
    "df"
   ]
  }
 ],
 "metadata": {
  "kernelspec": {
   "display_name": "Python 3.10.2 64-bit",
   "language": "python",
   "name": "python3"
  },
  "language_info": {
   "codemirror_mode": {
    "name": "ipython",
    "version": 3
   },
   "file_extension": ".py",
   "mimetype": "text/x-python",
   "name": "python",
   "nbconvert_exporter": "python",
   "pygments_lexer": "ipython3",
   "version": "3.10.2"
  },
  "orig_nbformat": 4,
  "vscode": {
   "interpreter": {
    "hash": "372546374ee67f23bce4863fdb45197b8301cd73a13a929f5ade301179cf3c81"
   }
  }
 },
 "nbformat": 4,
 "nbformat_minor": 2
}
