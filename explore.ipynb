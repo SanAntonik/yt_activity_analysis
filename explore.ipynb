{
 "cells": [
  {
   "cell_type": "markdown",
   "metadata": {},
   "source": [
    "## 0. Import necessary libraries"
   ]
  },
  {
   "cell_type": "code",
   "execution_count": 1,
   "metadata": {},
   "outputs": [],
   "source": [
    "import numpy as np\n",
    "import pandas as pd"
   ]
  },
  {
   "cell_type": "markdown",
   "metadata": {},
   "source": [
    "## 1. Load data"
   ]
  },
  {
   "cell_type": "code",
   "execution_count": 2,
   "metadata": {},
   "outputs": [],
   "source": [
    "PATH = \"C:/Users/San/Documents/CS projects/yt_activity_analysis/data/Takeout/YouTube and YouTube Music/history/watch-history.json\"\n",
    "df = pd.read_json(PATH)"
   ]
  },
  {
   "cell_type": "markdown",
   "metadata": {},
   "source": [
    "## 2. Remove unnecessary columns"
   ]
  },
  {
   "cell_type": "code",
   "execution_count": 3,
   "metadata": {},
   "outputs": [
    {
     "data": {
      "text/plain": [
       "(38457, pandas.core.frame.DataFrame, 4273)"
      ]
     },
     "execution_count": 3,
     "metadata": {},
     "output_type": "execute_result"
    }
   ],
   "source": [
    "# A little bit of info\n",
    "df.size, type(df), df.shape[0]"
   ]
  },
  {
   "cell_type": "code",
   "execution_count": 4,
   "metadata": {},
   "outputs": [
    {
     "data": {
      "text/html": [
       "<div>\n",
       "<style scoped>\n",
       "    .dataframe tbody tr th:only-of-type {\n",
       "        vertical-align: middle;\n",
       "    }\n",
       "\n",
       "    .dataframe tbody tr th {\n",
       "        vertical-align: top;\n",
       "    }\n",
       "\n",
       "    .dataframe thead th {\n",
       "        text-align: right;\n",
       "    }\n",
       "</style>\n",
       "<table border=\"1\" class=\"dataframe\">\n",
       "  <thead>\n",
       "    <tr style=\"text-align: right;\">\n",
       "      <th></th>\n",
       "      <th>title</th>\n",
       "      <th>subtitles</th>\n",
       "      <th>time</th>\n",
       "    </tr>\n",
       "  </thead>\n",
       "  <tbody>\n",
       "    <tr>\n",
       "      <th>0</th>\n",
       "      <td>Watched Building Search Word Database - Data A...</td>\n",
       "      <td>[{'name': 'sentdex', 'url': 'https://www.youtu...</td>\n",
       "      <td>2022-07-04T06:25:34.777Z</td>\n",
       "    </tr>\n",
       "    <tr>\n",
       "      <th>1</th>\n",
       "      <td>Watched How to Use Google Takeout in 2022</td>\n",
       "      <td>[{'name': 'Richard Byrne', 'url': 'https://www...</td>\n",
       "      <td>2022-07-04T06:22:34.867Z</td>\n",
       "    </tr>\n",
       "    <tr>\n",
       "      <th>2</th>\n",
       "      <td>Watched How to Download Your Google Data || Go...</td>\n",
       "      <td>[{'name': 'Data Guru (Data Science)', 'url': '...</td>\n",
       "      <td>2022-07-04T06:22:22.071Z</td>\n",
       "    </tr>\n",
       "    <tr>\n",
       "      <th>3</th>\n",
       "      <td>Watched Марш Українського війська \"Зродились м...</td>\n",
       "      <td>[{'name': 'Ser General', 'url': 'https://www.y...</td>\n",
       "      <td>2022-07-04T05:54:41.842Z</td>\n",
       "    </tr>\n",
       "    <tr>\n",
       "      <th>4</th>\n",
       "      <td>Watched Чорне і біле</td>\n",
       "      <td>[{'name': 'ZOZULYA - Topic', 'url': 'https://w...</td>\n",
       "      <td>2022-07-04T05:51:05.598Z</td>\n",
       "    </tr>\n",
       "    <tr>\n",
       "      <th>...</th>\n",
       "      <td>...</td>\n",
       "      <td>...</td>\n",
       "      <td>...</td>\n",
       "    </tr>\n",
       "    <tr>\n",
       "      <th>4268</th>\n",
       "      <td>Watched Учасники «Чорнобаївського серіалу» бор...</td>\n",
       "      <td>[{'name': 'АрміяInform', 'url': 'https://www.y...</td>\n",
       "      <td>2022-04-06T10:33:50.430Z</td>\n",
       "    </tr>\n",
       "    <tr>\n",
       "      <th>4269</th>\n",
       "      <td>Watched Rescued Chimps of the Congo with Jane ...</td>\n",
       "      <td>NaN</td>\n",
       "      <td>2022-04-06T10:04:59.579Z</td>\n",
       "    </tr>\n",
       "    <tr>\n",
       "      <th>4270</th>\n",
       "      <td>Watched Звірства росіян у Бородянці. Катування...</td>\n",
       "      <td>[{'name': 'STERNENKO', 'url': 'https://www.you...</td>\n",
       "      <td>2022-04-06T10:03:25.129Z</td>\n",
       "    </tr>\n",
       "    <tr>\n",
       "      <th>4271</th>\n",
       "      <td>Watched ЧОМУ НЕ БУВАЄ \"ХАРОШИХ РУССКИХ\"?</td>\n",
       "      <td>[{'name': 'Загін Кіноманів', 'url': 'https://w...</td>\n",
       "      <td>2022-04-06T09:36:08.058Z</td>\n",
       "    </tr>\n",
       "    <tr>\n",
       "      <th>4272</th>\n",
       "      <td>Watched Як пропагандистка \"страни\" Крюкова за ...</td>\n",
       "      <td>[{'name': 'STERNENKO', 'url': 'https://www.you...</td>\n",
       "      <td>2022-04-06T09:22:51.507Z</td>\n",
       "    </tr>\n",
       "  </tbody>\n",
       "</table>\n",
       "<p>4273 rows × 3 columns</p>\n",
       "</div>"
      ],
      "text/plain": [
       "                                                  title  \\\n",
       "0     Watched Building Search Word Database - Data A...   \n",
       "1             Watched How to Use Google Takeout in 2022   \n",
       "2     Watched How to Download Your Google Data || Go...   \n",
       "3     Watched Марш Українського війська \"Зродились м...   \n",
       "4                                  Watched Чорне і біле   \n",
       "...                                                 ...   \n",
       "4268  Watched Учасники «Чорнобаївського серіалу» бор...   \n",
       "4269  Watched Rescued Chimps of the Congo with Jane ...   \n",
       "4270  Watched Звірства росіян у Бородянці. Катування...   \n",
       "4271           Watched ЧОМУ НЕ БУВАЄ \"ХАРОШИХ РУССКИХ\"?   \n",
       "4272  Watched Як пропагандистка \"страни\" Крюкова за ...   \n",
       "\n",
       "                                              subtitles  \\\n",
       "0     [{'name': 'sentdex', 'url': 'https://www.youtu...   \n",
       "1     [{'name': 'Richard Byrne', 'url': 'https://www...   \n",
       "2     [{'name': 'Data Guru (Data Science)', 'url': '...   \n",
       "3     [{'name': 'Ser General', 'url': 'https://www.y...   \n",
       "4     [{'name': 'ZOZULYA - Topic', 'url': 'https://w...   \n",
       "...                                                 ...   \n",
       "4268  [{'name': 'АрміяInform', 'url': 'https://www.y...   \n",
       "4269                                                NaN   \n",
       "4270  [{'name': 'STERNENKO', 'url': 'https://www.you...   \n",
       "4271  [{'name': 'Загін Кіноманів', 'url': 'https://w...   \n",
       "4272  [{'name': 'STERNENKO', 'url': 'https://www.you...   \n",
       "\n",
       "                          time  \n",
       "0     2022-07-04T06:25:34.777Z  \n",
       "1     2022-07-04T06:22:34.867Z  \n",
       "2     2022-07-04T06:22:22.071Z  \n",
       "3     2022-07-04T05:54:41.842Z  \n",
       "4     2022-07-04T05:51:05.598Z  \n",
       "...                        ...  \n",
       "4268  2022-04-06T10:33:50.430Z  \n",
       "4269  2022-04-06T10:04:59.579Z  \n",
       "4270  2022-04-06T10:03:25.129Z  \n",
       "4271  2022-04-06T09:36:08.058Z  \n",
       "4272  2022-04-06T09:22:51.507Z  \n",
       "\n",
       "[4273 rows x 3 columns]"
      ]
     },
     "execution_count": 4,
     "metadata": {},
     "output_type": "execute_result"
    }
   ],
   "source": [
    "df[[\"title\", \"subtitles\", \"time\"]]"
   ]
  },
  {
   "cell_type": "code",
   "execution_count": 5,
   "metadata": {},
   "outputs": [
    {
     "data": {
      "text/html": [
       "<div>\n",
       "<style scoped>\n",
       "    .dataframe tbody tr th:only-of-type {\n",
       "        vertical-align: middle;\n",
       "    }\n",
       "\n",
       "    .dataframe tbody tr th {\n",
       "        vertical-align: top;\n",
       "    }\n",
       "\n",
       "    .dataframe thead th {\n",
       "        text-align: right;\n",
       "    }\n",
       "</style>\n",
       "<table border=\"1\" class=\"dataframe\">\n",
       "  <thead>\n",
       "    <tr style=\"text-align: right;\">\n",
       "      <th></th>\n",
       "      <th>header</th>\n",
       "      <th>title</th>\n",
       "      <th>titleUrl</th>\n",
       "      <th>subtitles</th>\n",
       "      <th>time</th>\n",
       "      <th>products</th>\n",
       "      <th>activityControls</th>\n",
       "      <th>description</th>\n",
       "      <th>details</th>\n",
       "    </tr>\n",
       "  </thead>\n",
       "  <tbody>\n",
       "    <tr>\n",
       "      <th>0</th>\n",
       "      <td>YouTube</td>\n",
       "      <td>Watched Building Search Word Database - Data A...</td>\n",
       "      <td>https://www.youtube.com/watch?v=Siyg1Wn5VDs</td>\n",
       "      <td>[{'name': 'sentdex', 'url': 'https://www.youtu...</td>\n",
       "      <td>2022-07-04T06:25:34.777Z</td>\n",
       "      <td>[YouTube]</td>\n",
       "      <td>[YouTube watch history]</td>\n",
       "      <td>NaN</td>\n",
       "      <td>NaN</td>\n",
       "    </tr>\n",
       "    <tr>\n",
       "      <th>1</th>\n",
       "      <td>YouTube</td>\n",
       "      <td>Watched How to Use Google Takeout in 2022</td>\n",
       "      <td>https://www.youtube.com/watch?v=rYWtk39JGbY</td>\n",
       "      <td>[{'name': 'Richard Byrne', 'url': 'https://www...</td>\n",
       "      <td>2022-07-04T06:22:34.867Z</td>\n",
       "      <td>[YouTube]</td>\n",
       "      <td>[YouTube watch history]</td>\n",
       "      <td>NaN</td>\n",
       "      <td>NaN</td>\n",
       "    </tr>\n",
       "  </tbody>\n",
       "</table>\n",
       "</div>"
      ],
      "text/plain": [
       "    header                                              title  \\\n",
       "0  YouTube  Watched Building Search Word Database - Data A...   \n",
       "1  YouTube          Watched How to Use Google Takeout in 2022   \n",
       "\n",
       "                                      titleUrl  \\\n",
       "0  https://www.youtube.com/watch?v=Siyg1Wn5VDs   \n",
       "1  https://www.youtube.com/watch?v=rYWtk39JGbY   \n",
       "\n",
       "                                           subtitles  \\\n",
       "0  [{'name': 'sentdex', 'url': 'https://www.youtu...   \n",
       "1  [{'name': 'Richard Byrne', 'url': 'https://www...   \n",
       "\n",
       "                       time   products         activityControls description  \\\n",
       "0  2022-07-04T06:25:34.777Z  [YouTube]  [YouTube watch history]         NaN   \n",
       "1  2022-07-04T06:22:34.867Z  [YouTube]  [YouTube watch history]         NaN   \n",
       "\n",
       "  details  \n",
       "0     NaN  \n",
       "1     NaN  "
      ]
     },
     "execution_count": 5,
     "metadata": {},
     "output_type": "execute_result"
    }
   ],
   "source": [
    "df.head(2)"
   ]
  },
  {
   "cell_type": "code",
   "execution_count": 6,
   "metadata": {},
   "outputs": [],
   "source": [
    "df.drop([\"header\", \"titleUrl\", \"products\", \"activityControls\", \"description\", \"details\"], axis=1, inplace=True)\n"
   ]
  },
  {
   "cell_type": "code",
   "execution_count": 18,
   "metadata": {},
   "outputs": [
    {
     "data": {
      "text/html": [
       "<div>\n",
       "<style scoped>\n",
       "    .dataframe tbody tr th:only-of-type {\n",
       "        vertical-align: middle;\n",
       "    }\n",
       "\n",
       "    .dataframe tbody tr th {\n",
       "        vertical-align: top;\n",
       "    }\n",
       "\n",
       "    .dataframe thead th {\n",
       "        text-align: right;\n",
       "    }\n",
       "</style>\n",
       "<table border=\"1\" class=\"dataframe\">\n",
       "  <thead>\n",
       "    <tr style=\"text-align: right;\">\n",
       "      <th></th>\n",
       "      <th>title</th>\n",
       "      <th>subtitles</th>\n",
       "      <th>time</th>\n",
       "    </tr>\n",
       "  </thead>\n",
       "  <tbody>\n",
       "    <tr>\n",
       "      <th>0</th>\n",
       "      <td>Watched Building Search Word Database - Data A...</td>\n",
       "      <td>[{'name': 'sentdex', 'url': 'https://www.youtu...</td>\n",
       "      <td>2022-07-04T06:25:34.777Z</td>\n",
       "    </tr>\n",
       "    <tr>\n",
       "      <th>1</th>\n",
       "      <td>Watched How to Use Google Takeout in 2022</td>\n",
       "      <td>[{'name': 'Richard Byrne', 'url': 'https://www...</td>\n",
       "      <td>2022-07-04T06:22:34.867Z</td>\n",
       "    </tr>\n",
       "  </tbody>\n",
       "</table>\n",
       "</div>"
      ],
      "text/plain": [
       "                                               title  \\\n",
       "0  Watched Building Search Word Database - Data A...   \n",
       "1          Watched How to Use Google Takeout in 2022   \n",
       "\n",
       "                                           subtitles                      time  \n",
       "0  [{'name': 'sentdex', 'url': 'https://www.youtu...  2022-07-04T06:25:34.777Z  \n",
       "1  [{'name': 'Richard Byrne', 'url': 'https://www...  2022-07-04T06:22:34.867Z  "
      ]
     },
     "execution_count": 18,
     "metadata": {},
     "output_type": "execute_result"
    }
   ],
   "source": [
    "df.head(2)"
   ]
  },
  {
   "cell_type": "markdown",
   "metadata": {},
   "source": [
    "## 3. Edit content of columns"
   ]
  },
  {
   "cell_type": "markdown",
   "metadata": {},
   "source": [
    "#### 3.1 Remove \"Watched \" from every row of column \"title\""
   ]
  },
  {
   "cell_type": "code",
   "execution_count": 19,
   "metadata": {},
   "outputs": [],
   "source": [
    "df[\"title\"] = [i[8:] for i in df['title']] "
   ]
  },
  {
   "cell_type": "code",
   "execution_count": 20,
   "metadata": {},
   "outputs": [
    {
     "data": {
      "text/html": [
       "<div>\n",
       "<style scoped>\n",
       "    .dataframe tbody tr th:only-of-type {\n",
       "        vertical-align: middle;\n",
       "    }\n",
       "\n",
       "    .dataframe tbody tr th {\n",
       "        vertical-align: top;\n",
       "    }\n",
       "\n",
       "    .dataframe thead th {\n",
       "        text-align: right;\n",
       "    }\n",
       "</style>\n",
       "<table border=\"1\" class=\"dataframe\">\n",
       "  <thead>\n",
       "    <tr style=\"text-align: right;\">\n",
       "      <th></th>\n",
       "      <th>title</th>\n",
       "      <th>subtitles</th>\n",
       "      <th>time</th>\n",
       "    </tr>\n",
       "  </thead>\n",
       "  <tbody>\n",
       "    <tr>\n",
       "      <th>0</th>\n",
       "      <td>Building Search Word Database - Data Analysis ...</td>\n",
       "      <td>[{'name': 'sentdex', 'url': 'https://www.youtu...</td>\n",
       "      <td>2022-07-04T06:25:34.777Z</td>\n",
       "    </tr>\n",
       "    <tr>\n",
       "      <th>1</th>\n",
       "      <td>How to Use Google Takeout in 2022</td>\n",
       "      <td>[{'name': 'Richard Byrne', 'url': 'https://www...</td>\n",
       "      <td>2022-07-04T06:22:34.867Z</td>\n",
       "    </tr>\n",
       "    <tr>\n",
       "      <th>2</th>\n",
       "      <td>How to Download Your Google Data || Google Tak...</td>\n",
       "      <td>[{'name': 'Data Guru (Data Science)', 'url': '...</td>\n",
       "      <td>2022-07-04T06:22:22.071Z</td>\n",
       "    </tr>\n",
       "    <tr>\n",
       "      <th>3</th>\n",
       "      <td>Марш Українського війська \"Зродились ми велико...</td>\n",
       "      <td>[{'name': 'Ser General', 'url': 'https://www.y...</td>\n",
       "      <td>2022-07-04T05:54:41.842Z</td>\n",
       "    </tr>\n",
       "    <tr>\n",
       "      <th>4</th>\n",
       "      <td>Чорне і біле</td>\n",
       "      <td>[{'name': 'ZOZULYA - Topic', 'url': 'https://w...</td>\n",
       "      <td>2022-07-04T05:51:05.598Z</td>\n",
       "    </tr>\n",
       "  </tbody>\n",
       "</table>\n",
       "</div>"
      ],
      "text/plain": [
       "                                               title  \\\n",
       "0  Building Search Word Database - Data Analysis ...   \n",
       "1                  How to Use Google Takeout in 2022   \n",
       "2  How to Download Your Google Data || Google Tak...   \n",
       "3  Марш Українського війська \"Зродились ми велико...   \n",
       "4                                       Чорне і біле   \n",
       "\n",
       "                                           subtitles                      time  \n",
       "0  [{'name': 'sentdex', 'url': 'https://www.youtu...  2022-07-04T06:25:34.777Z  \n",
       "1  [{'name': 'Richard Byrne', 'url': 'https://www...  2022-07-04T06:22:34.867Z  \n",
       "2  [{'name': 'Data Guru (Data Science)', 'url': '...  2022-07-04T06:22:22.071Z  \n",
       "3  [{'name': 'Ser General', 'url': 'https://www.y...  2022-07-04T05:54:41.842Z  \n",
       "4  [{'name': 'ZOZULYA - Topic', 'url': 'https://w...  2022-07-04T05:51:05.598Z  "
      ]
     },
     "execution_count": 20,
     "metadata": {},
     "output_type": "execute_result"
    }
   ],
   "source": [
    "df.head()"
   ]
  }
 ],
 "metadata": {
  "kernelspec": {
   "display_name": "Python 3.10.2 64-bit",
   "language": "python",
   "name": "python3"
  },
  "language_info": {
   "codemirror_mode": {
    "name": "ipython",
    "version": 3
   },
   "file_extension": ".py",
   "mimetype": "text/x-python",
   "name": "python",
   "nbconvert_exporter": "python",
   "pygments_lexer": "ipython3",
   "version": "3.10.2"
  },
  "orig_nbformat": 4,
  "vscode": {
   "interpreter": {
    "hash": "372546374ee67f23bce4863fdb45197b8301cd73a13a929f5ade301179cf3c81"
   }
  }
 },
 "nbformat": 4,
 "nbformat_minor": 2
}
