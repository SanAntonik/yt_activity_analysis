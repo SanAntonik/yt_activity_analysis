{
 "cells": [
  {
   "cell_type": "markdown",
   "metadata": {},
   "source": [
    "## 0. Import necessary libraries"
   ]
  },
  {
   "cell_type": "code",
   "execution_count": 1,
   "metadata": {},
   "outputs": [],
   "source": [
    "import numpy as np\n",
    "import pandas as pd"
   ]
  },
  {
   "cell_type": "markdown",
   "metadata": {},
   "source": [
    "## 1. Get data from a previosly made function"
   ]
  },
  {
   "cell_type": "code",
   "execution_count": 33,
   "metadata": {},
   "outputs": [
    {
     "data": {
      "text/html": [
       "<div>\n",
       "<style scoped>\n",
       "    .dataframe tbody tr th:only-of-type {\n",
       "        vertical-align: middle;\n",
       "    }\n",
       "\n",
       "    .dataframe tbody tr th {\n",
       "        vertical-align: top;\n",
       "    }\n",
       "\n",
       "    .dataframe thead th {\n",
       "        text-align: right;\n",
       "    }\n",
       "</style>\n",
       "<table border=\"1\" class=\"dataframe\">\n",
       "  <thead>\n",
       "    <tr style=\"text-align: right;\">\n",
       "      <th></th>\n",
       "      <th>video_title</th>\n",
       "      <th>channel_name</th>\n",
       "      <th>time</th>\n",
       "    </tr>\n",
       "  </thead>\n",
       "  <tbody>\n",
       "    <tr>\n",
       "      <th>0</th>\n",
       "      <td>Building Search Word Database - Data Analysis of Google Tracking Takeout p.1</td>\n",
       "      <td>sentdex</td>\n",
       "      <td>2022-07-04 06:25:34.777000+00:00</td>\n",
       "    </tr>\n",
       "    <tr>\n",
       "      <th>1</th>\n",
       "      <td>How to Use Google Takeout in 2022</td>\n",
       "      <td>Richard Byrne</td>\n",
       "      <td>2022-07-04 06:22:34.867000+00:00</td>\n",
       "    </tr>\n",
       "    <tr>\n",
       "      <th>2</th>\n",
       "      <td>How to Download Your Google Data || Google Takeout || Download your data in just one click</td>\n",
       "      <td>Data Guru (Data Science)</td>\n",
       "      <td>2022-07-04 06:22:22.071000+00:00</td>\n",
       "    </tr>\n",
       "    <tr>\n",
       "      <th>3</th>\n",
       "      <td>Марш Українського війська \"Зродились ми великої години\"</td>\n",
       "      <td>Ser General</td>\n",
       "      <td>2022-07-04 05:54:41.842000+00:00</td>\n",
       "    </tr>\n",
       "    <tr>\n",
       "      <th>4</th>\n",
       "      <td>Чорне і біле</td>\n",
       "      <td>ZOZULYA - Topic</td>\n",
       "      <td>2022-07-04 05:51:05.598000+00:00</td>\n",
       "    </tr>\n",
       "  </tbody>\n",
       "</table>\n",
       "</div>"
      ],
      "text/plain": [
       "                                                                                  video_title  \\\n",
       "0                Building Search Word Database - Data Analysis of Google Tracking Takeout p.1   \n",
       "1                                                           How to Use Google Takeout in 2022   \n",
       "2  How to Download Your Google Data || Google Takeout || Download your data in just one click   \n",
       "3                                     Марш Українського війська \"Зродились ми великої години\"   \n",
       "4                                                                                Чорне і біле   \n",
       "\n",
       "               channel_name                             time  \n",
       "0                   sentdex 2022-07-04 06:25:34.777000+00:00  \n",
       "1             Richard Byrne 2022-07-04 06:22:34.867000+00:00  \n",
       "2  Data Guru (Data Science) 2022-07-04 06:22:22.071000+00:00  \n",
       "3               Ser General 2022-07-04 05:54:41.842000+00:00  \n",
       "4           ZOZULYA - Topic 2022-07-04 05:51:05.598000+00:00  "
      ]
     },
     "execution_count": 33,
     "metadata": {},
     "output_type": "execute_result"
    }
   ],
   "source": [
    "from preparation import prepare_data\n",
    "\n",
    "PATH = \"C:/Users/San/Documents/CS projects/yt_activity_analysis/data/Takeout/YouTube and YouTube Music/history/watch-history.json\"\n",
    "df = prepare_data(PATH)\n",
    "df.head(5)"
   ]
  },
  {
   "cell_type": "markdown",
   "metadata": {},
   "source": [
    "## 2. Time to explore! "
   ]
  },
  {
   "cell_type": "code",
   "execution_count": null,
   "metadata": {},
   "outputs": [],
   "source": []
  }
 ],
 "metadata": {
  "kernelspec": {
   "display_name": "Python 3.10.2 64-bit",
   "language": "python",
   "name": "python3"
  },
  "language_info": {
   "codemirror_mode": {
    "name": "ipython",
    "version": 3
   },
   "file_extension": ".py",
   "mimetype": "text/x-python",
   "name": "python",
   "nbconvert_exporter": "python",
   "pygments_lexer": "ipython3",
   "version": "3.10.2"
  },
  "orig_nbformat": 4,
  "vscode": {
   "interpreter": {
    "hash": "372546374ee67f23bce4863fdb45197b8301cd73a13a929f5ade301179cf3c81"
   }
  }
 },
 "nbformat": 4,
 "nbformat_minor": 2
}
