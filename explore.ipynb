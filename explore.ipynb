{
 "cells": [
  {
   "cell_type": "markdown",
   "metadata": {},
   "source": [
    "## 0. Import necessary libraries"
   ]
  },
  {
   "cell_type": "code",
   "execution_count": 1,
   "metadata": {},
   "outputs": [],
   "source": [
    "import numpy as np\n",
    "import pandas as pd"
   ]
  },
  {
   "cell_type": "markdown",
   "metadata": {},
   "source": [
    "## 1. Load data"
   ]
  },
  {
   "cell_type": "code",
   "execution_count": 2,
   "metadata": {},
   "outputs": [],
   "source": [
    "PATH = \"C:/Users/San/Documents/CS projects/yt_activity_analysis/data/Takeout/YouTube and YouTube Music/history/watch-history.json\"\n",
    "df = pd.read_json(PATH, convert_dates=['time'])"
   ]
  },
  {
   "cell_type": "markdown",
   "metadata": {},
   "source": [
    "## 2. Remove unnecessary columns"
   ]
  },
  {
   "cell_type": "code",
   "execution_count": 3,
   "metadata": {},
   "outputs": [
    {
     "data": {
      "text/plain": [
       "(38457, pandas.core.frame.DataFrame, 4273)"
      ]
     },
     "execution_count": 3,
     "metadata": {},
     "output_type": "execute_result"
    }
   ],
   "source": [
    "# A little bit of info\n",
    "df.size, type(df), df.shape[0]"
   ]
  },
  {
   "cell_type": "code",
   "execution_count": 4,
   "metadata": {},
   "outputs": [
    {
     "data": {
      "text/html": [
       "<div>\n",
       "<style scoped>\n",
       "    .dataframe tbody tr th:only-of-type {\n",
       "        vertical-align: middle;\n",
       "    }\n",
       "\n",
       "    .dataframe tbody tr th {\n",
       "        vertical-align: top;\n",
       "    }\n",
       "\n",
       "    .dataframe thead th {\n",
       "        text-align: right;\n",
       "    }\n",
       "</style>\n",
       "<table border=\"1\" class=\"dataframe\">\n",
       "  <thead>\n",
       "    <tr style=\"text-align: right;\">\n",
       "      <th></th>\n",
       "      <th>title</th>\n",
       "      <th>subtitles</th>\n",
       "      <th>time</th>\n",
       "    </tr>\n",
       "  </thead>\n",
       "  <tbody>\n",
       "    <tr>\n",
       "      <th>0</th>\n",
       "      <td>Watched Building Search Word Database - Data A...</td>\n",
       "      <td>[{'name': 'sentdex', 'url': 'https://www.youtu...</td>\n",
       "      <td>2022-07-04 06:25:34.777000+00:00</td>\n",
       "    </tr>\n",
       "    <tr>\n",
       "      <th>1</th>\n",
       "      <td>Watched How to Use Google Takeout in 2022</td>\n",
       "      <td>[{'name': 'Richard Byrne', 'url': 'https://www...</td>\n",
       "      <td>2022-07-04 06:22:34.867000+00:00</td>\n",
       "    </tr>\n",
       "    <tr>\n",
       "      <th>2</th>\n",
       "      <td>Watched How to Download Your Google Data || Go...</td>\n",
       "      <td>[{'name': 'Data Guru (Data Science)', 'url': '...</td>\n",
       "      <td>2022-07-04 06:22:22.071000+00:00</td>\n",
       "    </tr>\n",
       "    <tr>\n",
       "      <th>3</th>\n",
       "      <td>Watched Марш Українського війська \"Зродились м...</td>\n",
       "      <td>[{'name': 'Ser General', 'url': 'https://www.y...</td>\n",
       "      <td>2022-07-04 05:54:41.842000+00:00</td>\n",
       "    </tr>\n",
       "    <tr>\n",
       "      <th>4</th>\n",
       "      <td>Watched Чорне і біле</td>\n",
       "      <td>[{'name': 'ZOZULYA - Topic', 'url': 'https://w...</td>\n",
       "      <td>2022-07-04 05:51:05.598000+00:00</td>\n",
       "    </tr>\n",
       "    <tr>\n",
       "      <th>...</th>\n",
       "      <td>...</td>\n",
       "      <td>...</td>\n",
       "      <td>...</td>\n",
       "    </tr>\n",
       "    <tr>\n",
       "      <th>4268</th>\n",
       "      <td>Watched Учасники «Чорнобаївського серіалу» бор...</td>\n",
       "      <td>[{'name': 'АрміяInform', 'url': 'https://www.y...</td>\n",
       "      <td>2022-04-06 10:33:50.430000+00:00</td>\n",
       "    </tr>\n",
       "    <tr>\n",
       "      <th>4269</th>\n",
       "      <td>Watched Rescued Chimps of the Congo with Jane ...</td>\n",
       "      <td>NaN</td>\n",
       "      <td>2022-04-06 10:04:59.579000+00:00</td>\n",
       "    </tr>\n",
       "    <tr>\n",
       "      <th>4270</th>\n",
       "      <td>Watched Звірства росіян у Бородянці. Катування...</td>\n",
       "      <td>[{'name': 'STERNENKO', 'url': 'https://www.you...</td>\n",
       "      <td>2022-04-06 10:03:25.129000+00:00</td>\n",
       "    </tr>\n",
       "    <tr>\n",
       "      <th>4271</th>\n",
       "      <td>Watched ЧОМУ НЕ БУВАЄ \"ХАРОШИХ РУССКИХ\"?</td>\n",
       "      <td>[{'name': 'Загін Кіноманів', 'url': 'https://w...</td>\n",
       "      <td>2022-04-06 09:36:08.058000+00:00</td>\n",
       "    </tr>\n",
       "    <tr>\n",
       "      <th>4272</th>\n",
       "      <td>Watched Як пропагандистка \"страни\" Крюкова за ...</td>\n",
       "      <td>[{'name': 'STERNENKO', 'url': 'https://www.you...</td>\n",
       "      <td>2022-04-06 09:22:51.507000+00:00</td>\n",
       "    </tr>\n",
       "  </tbody>\n",
       "</table>\n",
       "<p>4273 rows × 3 columns</p>\n",
       "</div>"
      ],
      "text/plain": [
       "                                                  title  \\\n",
       "0     Watched Building Search Word Database - Data A...   \n",
       "1             Watched How to Use Google Takeout in 2022   \n",
       "2     Watched How to Download Your Google Data || Go...   \n",
       "3     Watched Марш Українського війська \"Зродились м...   \n",
       "4                                  Watched Чорне і біле   \n",
       "...                                                 ...   \n",
       "4268  Watched Учасники «Чорнобаївського серіалу» бор...   \n",
       "4269  Watched Rescued Chimps of the Congo with Jane ...   \n",
       "4270  Watched Звірства росіян у Бородянці. Катування...   \n",
       "4271           Watched ЧОМУ НЕ БУВАЄ \"ХАРОШИХ РУССКИХ\"?   \n",
       "4272  Watched Як пропагандистка \"страни\" Крюкова за ...   \n",
       "\n",
       "                                              subtitles  \\\n",
       "0     [{'name': 'sentdex', 'url': 'https://www.youtu...   \n",
       "1     [{'name': 'Richard Byrne', 'url': 'https://www...   \n",
       "2     [{'name': 'Data Guru (Data Science)', 'url': '...   \n",
       "3     [{'name': 'Ser General', 'url': 'https://www.y...   \n",
       "4     [{'name': 'ZOZULYA - Topic', 'url': 'https://w...   \n",
       "...                                                 ...   \n",
       "4268  [{'name': 'АрміяInform', 'url': 'https://www.y...   \n",
       "4269                                                NaN   \n",
       "4270  [{'name': 'STERNENKO', 'url': 'https://www.you...   \n",
       "4271  [{'name': 'Загін Кіноманів', 'url': 'https://w...   \n",
       "4272  [{'name': 'STERNENKO', 'url': 'https://www.you...   \n",
       "\n",
       "                                 time  \n",
       "0    2022-07-04 06:25:34.777000+00:00  \n",
       "1    2022-07-04 06:22:34.867000+00:00  \n",
       "2    2022-07-04 06:22:22.071000+00:00  \n",
       "3    2022-07-04 05:54:41.842000+00:00  \n",
       "4    2022-07-04 05:51:05.598000+00:00  \n",
       "...                               ...  \n",
       "4268 2022-04-06 10:33:50.430000+00:00  \n",
       "4269 2022-04-06 10:04:59.579000+00:00  \n",
       "4270 2022-04-06 10:03:25.129000+00:00  \n",
       "4271 2022-04-06 09:36:08.058000+00:00  \n",
       "4272 2022-04-06 09:22:51.507000+00:00  \n",
       "\n",
       "[4273 rows x 3 columns]"
      ]
     },
     "execution_count": 4,
     "metadata": {},
     "output_type": "execute_result"
    }
   ],
   "source": [
    "df[[\"title\", \"subtitles\", \"time\"]]"
   ]
  },
  {
   "cell_type": "code",
   "execution_count": 5,
   "metadata": {},
   "outputs": [
    {
     "data": {
      "text/html": [
       "<div>\n",
       "<style scoped>\n",
       "    .dataframe tbody tr th:only-of-type {\n",
       "        vertical-align: middle;\n",
       "    }\n",
       "\n",
       "    .dataframe tbody tr th {\n",
       "        vertical-align: top;\n",
       "    }\n",
       "\n",
       "    .dataframe thead th {\n",
       "        text-align: right;\n",
       "    }\n",
       "</style>\n",
       "<table border=\"1\" class=\"dataframe\">\n",
       "  <thead>\n",
       "    <tr style=\"text-align: right;\">\n",
       "      <th></th>\n",
       "      <th>header</th>\n",
       "      <th>title</th>\n",
       "      <th>titleUrl</th>\n",
       "      <th>subtitles</th>\n",
       "      <th>time</th>\n",
       "      <th>products</th>\n",
       "      <th>activityControls</th>\n",
       "      <th>description</th>\n",
       "      <th>details</th>\n",
       "    </tr>\n",
       "  </thead>\n",
       "  <tbody>\n",
       "    <tr>\n",
       "      <th>0</th>\n",
       "      <td>YouTube</td>\n",
       "      <td>Watched Building Search Word Database - Data A...</td>\n",
       "      <td>https://www.youtube.com/watch?v=Siyg1Wn5VDs</td>\n",
       "      <td>[{'name': 'sentdex', 'url': 'https://www.youtu...</td>\n",
       "      <td>2022-07-04 06:25:34.777000+00:00</td>\n",
       "      <td>[YouTube]</td>\n",
       "      <td>[YouTube watch history]</td>\n",
       "      <td>NaN</td>\n",
       "      <td>NaN</td>\n",
       "    </tr>\n",
       "    <tr>\n",
       "      <th>1</th>\n",
       "      <td>YouTube</td>\n",
       "      <td>Watched How to Use Google Takeout in 2022</td>\n",
       "      <td>https://www.youtube.com/watch?v=rYWtk39JGbY</td>\n",
       "      <td>[{'name': 'Richard Byrne', 'url': 'https://www...</td>\n",
       "      <td>2022-07-04 06:22:34.867000+00:00</td>\n",
       "      <td>[YouTube]</td>\n",
       "      <td>[YouTube watch history]</td>\n",
       "      <td>NaN</td>\n",
       "      <td>NaN</td>\n",
       "    </tr>\n",
       "  </tbody>\n",
       "</table>\n",
       "</div>"
      ],
      "text/plain": [
       "    header                                              title  \\\n",
       "0  YouTube  Watched Building Search Word Database - Data A...   \n",
       "1  YouTube          Watched How to Use Google Takeout in 2022   \n",
       "\n",
       "                                      titleUrl  \\\n",
       "0  https://www.youtube.com/watch?v=Siyg1Wn5VDs   \n",
       "1  https://www.youtube.com/watch?v=rYWtk39JGbY   \n",
       "\n",
       "                                           subtitles  \\\n",
       "0  [{'name': 'sentdex', 'url': 'https://www.youtu...   \n",
       "1  [{'name': 'Richard Byrne', 'url': 'https://www...   \n",
       "\n",
       "                              time   products         activityControls  \\\n",
       "0 2022-07-04 06:25:34.777000+00:00  [YouTube]  [YouTube watch history]   \n",
       "1 2022-07-04 06:22:34.867000+00:00  [YouTube]  [YouTube watch history]   \n",
       "\n",
       "  description details  \n",
       "0         NaN     NaN  \n",
       "1         NaN     NaN  "
      ]
     },
     "execution_count": 5,
     "metadata": {},
     "output_type": "execute_result"
    }
   ],
   "source": [
    "df.head(2)"
   ]
  },
  {
   "cell_type": "code",
   "execution_count": 6,
   "metadata": {},
   "outputs": [],
   "source": [
    "df.drop([\"header\", \"titleUrl\", \"products\", \"activityControls\", \"description\", \"details\"], axis=1, inplace=True)\n"
   ]
  },
  {
   "cell_type": "code",
   "execution_count": 7,
   "metadata": {},
   "outputs": [
    {
     "data": {
      "text/html": [
       "<div>\n",
       "<style scoped>\n",
       "    .dataframe tbody tr th:only-of-type {\n",
       "        vertical-align: middle;\n",
       "    }\n",
       "\n",
       "    .dataframe tbody tr th {\n",
       "        vertical-align: top;\n",
       "    }\n",
       "\n",
       "    .dataframe thead th {\n",
       "        text-align: right;\n",
       "    }\n",
       "</style>\n",
       "<table border=\"1\" class=\"dataframe\">\n",
       "  <thead>\n",
       "    <tr style=\"text-align: right;\">\n",
       "      <th></th>\n",
       "      <th>title</th>\n",
       "      <th>subtitles</th>\n",
       "      <th>time</th>\n",
       "    </tr>\n",
       "  </thead>\n",
       "  <tbody>\n",
       "    <tr>\n",
       "      <th>0</th>\n",
       "      <td>Watched Building Search Word Database - Data Analysis of Google Tracking Takeout p.1</td>\n",
       "      <td>[{'name': 'sentdex', 'url': 'https://www.youtube.com/channel/UCfzlCWGWYyIQ0aLC5w48gBQ'}]</td>\n",
       "      <td>2022-07-04 06:25:34.777000+00:00</td>\n",
       "    </tr>\n",
       "    <tr>\n",
       "      <th>1</th>\n",
       "      <td>Watched How to Use Google Takeout in 2022</td>\n",
       "      <td>[{'name': 'Richard Byrne', 'url': 'https://www.youtube.com/channel/UCylhHbAUoqgdN-XQpJPobOg'}]</td>\n",
       "      <td>2022-07-04 06:22:34.867000+00:00</td>\n",
       "    </tr>\n",
       "  </tbody>\n",
       "</table>\n",
       "</div>"
      ],
      "text/plain": [
       "                                                                                  title  \\\n",
       "0  Watched Building Search Word Database - Data Analysis of Google Tracking Takeout p.1   \n",
       "1                                             Watched How to Use Google Takeout in 2022   \n",
       "\n",
       "                                                                                        subtitles  \\\n",
       "0        [{'name': 'sentdex', 'url': 'https://www.youtube.com/channel/UCfzlCWGWYyIQ0aLC5w48gBQ'}]   \n",
       "1  [{'name': 'Richard Byrne', 'url': 'https://www.youtube.com/channel/UCylhHbAUoqgdN-XQpJPobOg'}]   \n",
       "\n",
       "                              time  \n",
       "0 2022-07-04 06:25:34.777000+00:00  \n",
       "1 2022-07-04 06:22:34.867000+00:00  "
      ]
     },
     "execution_count": 7,
     "metadata": {},
     "output_type": "execute_result"
    }
   ],
   "source": [
    "pd.set_option('display.max_colwidth', None) # show full df info\n",
    "df.head(2)"
   ]
  },
  {
   "cell_type": "markdown",
   "metadata": {},
   "source": [
    "## 3. Edit content of columns"
   ]
  },
  {
   "cell_type": "markdown",
   "metadata": {},
   "source": [
    "#### 3.1 Remove \"Watched \" from every row of column \"title\""
   ]
  },
  {
   "cell_type": "code",
   "execution_count": 8,
   "metadata": {},
   "outputs": [],
   "source": [
    "df[\"title\"] = [i[8:] for i in df['title']] "
   ]
  },
  {
   "cell_type": "code",
   "execution_count": 9,
   "metadata": {},
   "outputs": [
    {
     "data": {
      "text/html": [
       "<div>\n",
       "<style scoped>\n",
       "    .dataframe tbody tr th:only-of-type {\n",
       "        vertical-align: middle;\n",
       "    }\n",
       "\n",
       "    .dataframe tbody tr th {\n",
       "        vertical-align: top;\n",
       "    }\n",
       "\n",
       "    .dataframe thead th {\n",
       "        text-align: right;\n",
       "    }\n",
       "</style>\n",
       "<table border=\"1\" class=\"dataframe\">\n",
       "  <thead>\n",
       "    <tr style=\"text-align: right;\">\n",
       "      <th></th>\n",
       "      <th>title</th>\n",
       "      <th>subtitles</th>\n",
       "      <th>time</th>\n",
       "    </tr>\n",
       "  </thead>\n",
       "  <tbody>\n",
       "    <tr>\n",
       "      <th>0</th>\n",
       "      <td>Building Search Word Database - Data Analysis of Google Tracking Takeout p.1</td>\n",
       "      <td>[{'name': 'sentdex', 'url': 'https://www.youtube.com/channel/UCfzlCWGWYyIQ0aLC5w48gBQ'}]</td>\n",
       "      <td>2022-07-04 06:25:34.777000+00:00</td>\n",
       "    </tr>\n",
       "    <tr>\n",
       "      <th>1</th>\n",
       "      <td>How to Use Google Takeout in 2022</td>\n",
       "      <td>[{'name': 'Richard Byrne', 'url': 'https://www.youtube.com/channel/UCylhHbAUoqgdN-XQpJPobOg'}]</td>\n",
       "      <td>2022-07-04 06:22:34.867000+00:00</td>\n",
       "    </tr>\n",
       "    <tr>\n",
       "      <th>2</th>\n",
       "      <td>How to Download Your Google Data || Google Takeout || Download your data in just one click</td>\n",
       "      <td>[{'name': 'Data Guru (Data Science)', 'url': 'https://www.youtube.com/channel/UCNeF1FuCGYsBEUnOxCk9Jnw'}]</td>\n",
       "      <td>2022-07-04 06:22:22.071000+00:00</td>\n",
       "    </tr>\n",
       "    <tr>\n",
       "      <th>3</th>\n",
       "      <td>Марш Українського війська \"Зродились ми великої години\"</td>\n",
       "      <td>[{'name': 'Ser General', 'url': 'https://www.youtube.com/channel/UCcqb9Dg54QJApLyVCrAT2hA'}]</td>\n",
       "      <td>2022-07-04 05:54:41.842000+00:00</td>\n",
       "    </tr>\n",
       "    <tr>\n",
       "      <th>4</th>\n",
       "      <td>Чорне і біле</td>\n",
       "      <td>[{'name': 'ZOZULYA - Topic', 'url': 'https://www.youtube.com/channel/UC75X5-UKZpSrCNNLfftJo2A'}]</td>\n",
       "      <td>2022-07-04 05:51:05.598000+00:00</td>\n",
       "    </tr>\n",
       "  </tbody>\n",
       "</table>\n",
       "</div>"
      ],
      "text/plain": [
       "                                                                                        title  \\\n",
       "0                Building Search Word Database - Data Analysis of Google Tracking Takeout p.1   \n",
       "1                                                           How to Use Google Takeout in 2022   \n",
       "2  How to Download Your Google Data || Google Takeout || Download your data in just one click   \n",
       "3                                     Марш Українського війська \"Зродились ми великої години\"   \n",
       "4                                                                                Чорне і біле   \n",
       "\n",
       "                                                                                                   subtitles  \\\n",
       "0                   [{'name': 'sentdex', 'url': 'https://www.youtube.com/channel/UCfzlCWGWYyIQ0aLC5w48gBQ'}]   \n",
       "1             [{'name': 'Richard Byrne', 'url': 'https://www.youtube.com/channel/UCylhHbAUoqgdN-XQpJPobOg'}]   \n",
       "2  [{'name': 'Data Guru (Data Science)', 'url': 'https://www.youtube.com/channel/UCNeF1FuCGYsBEUnOxCk9Jnw'}]   \n",
       "3               [{'name': 'Ser General', 'url': 'https://www.youtube.com/channel/UCcqb9Dg54QJApLyVCrAT2hA'}]   \n",
       "4           [{'name': 'ZOZULYA - Topic', 'url': 'https://www.youtube.com/channel/UC75X5-UKZpSrCNNLfftJo2A'}]   \n",
       "\n",
       "                              time  \n",
       "0 2022-07-04 06:25:34.777000+00:00  \n",
       "1 2022-07-04 06:22:34.867000+00:00  \n",
       "2 2022-07-04 06:22:22.071000+00:00  \n",
       "3 2022-07-04 05:54:41.842000+00:00  \n",
       "4 2022-07-04 05:51:05.598000+00:00  "
      ]
     },
     "execution_count": 9,
     "metadata": {},
     "output_type": "execute_result"
    }
   ],
   "source": [
    "df.head()"
   ]
  },
  {
   "cell_type": "markdown",
   "metadata": {},
   "source": [
    "#### 3.2 Get channel name from 'subtitles' column"
   ]
  },
  {
   "cell_type": "code",
   "execution_count": 10,
   "metadata": {},
   "outputs": [
    {
     "name": "stdout",
     "output_type": "stream",
     "text": [
      "<class 'pandas.core.frame.DataFrame'>\n",
      "RangeIndex: 4273 entries, 0 to 4272\n",
      "Data columns (total 3 columns):\n",
      " #   Column     Non-Null Count  Dtype              \n",
      "---  ------     --------------  -----              \n",
      " 0   title      4273 non-null   object             \n",
      " 1   subtitles  3579 non-null   object             \n",
      " 2   time       4273 non-null   datetime64[ns, UTC]\n",
      "dtypes: datetime64[ns, UTC](1), object(2)\n",
      "memory usage: 100.3+ KB\n"
     ]
    }
   ],
   "source": [
    "df.info()"
   ]
  },
  {
   "cell_type": "code",
   "execution_count": 11,
   "metadata": {},
   "outputs": [
    {
     "data": {
      "text/plain": [
       "0                        [{'name': 'sentdex', 'url': 'https://www.youtube.com/channel/UCfzlCWGWYyIQ0aLC5w48gBQ'}]\n",
       "1                  [{'name': 'Richard Byrne', 'url': 'https://www.youtube.com/channel/UCylhHbAUoqgdN-XQpJPobOg'}]\n",
       "2       [{'name': 'Data Guru (Data Science)', 'url': 'https://www.youtube.com/channel/UCNeF1FuCGYsBEUnOxCk9Jnw'}]\n",
       "3                    [{'name': 'Ser General', 'url': 'https://www.youtube.com/channel/UCcqb9Dg54QJApLyVCrAT2hA'}]\n",
       "4                [{'name': 'ZOZULYA - Topic', 'url': 'https://www.youtube.com/channel/UC75X5-UKZpSrCNNLfftJo2A'}]\n",
       "                                                          ...                                                    \n",
       "4268                 [{'name': 'АрміяInform', 'url': 'https://www.youtube.com/channel/UCh1JfbpcXFETuEMhOlllVhw'}]\n",
       "4269                                                                                                          NaN\n",
       "4270                   [{'name': 'STERNENKO', 'url': 'https://www.youtube.com/channel/UC5HBd4l_kpba5b0O1pK-Bfg'}]\n",
       "4271             [{'name': 'Загін Кіноманів', 'url': 'https://www.youtube.com/channel/UCig7t6LFOjS2fKkhjbVLpjw'}]\n",
       "4272                   [{'name': 'STERNENKO', 'url': 'https://www.youtube.com/channel/UC5HBd4l_kpba5b0O1pK-Bfg'}]\n",
       "Name: subtitles, Length: 4273, dtype: object"
      ]
     },
     "execution_count": 11,
     "metadata": {},
     "output_type": "execute_result"
    }
   ],
   "source": [
    "df[\"subtitles\"]"
   ]
  },
  {
   "cell_type": "code",
   "execution_count": 12,
   "metadata": {},
   "outputs": [
    {
     "data": {
      "text/plain": [
       "title        4273\n",
       "subtitles    3579\n",
       "time         4273\n",
       "dtype: int64"
      ]
     },
     "execution_count": 12,
     "metadata": {},
     "output_type": "execute_result"
    }
   ],
   "source": [
    "df[\"subtitles\"][0][0][\"name\"]\n",
    "# for row in range(df.shape[0]):\n",
    "#     print(row)\n",
    "#     print(df[\"subtitles\"][row][0][\"name\"])\n",
    "# [df[\"subtitles\"][row][0][\"name\"] for row in range(df.shape[0])]\n",
    "df.shape[0]\n",
    "# df[\"subtitles\"].apply(lambda x: )\n",
    "# df[\"subtitles\"]\n",
    "df.count()     "
   ]
  },
  {
   "cell_type": "code",
   "execution_count": 13,
   "metadata": {},
   "outputs": [],
   "source": [
    "# df.dropna(axis=0)"
   ]
  },
  {
   "cell_type": "code",
   "execution_count": 14,
   "metadata": {},
   "outputs": [
    {
     "data": {
      "text/plain": [
       "title        4273\n",
       "subtitles    3579\n",
       "time         4273\n",
       "dtype: int64"
      ]
     },
     "execution_count": 14,
     "metadata": {},
     "output_type": "execute_result"
    }
   ],
   "source": [
    "df.count()"
   ]
  },
  {
   "cell_type": "code",
   "execution_count": 15,
   "metadata": {},
   "outputs": [
    {
     "data": {
      "text/plain": [
       "694"
      ]
     },
     "execution_count": 15,
     "metadata": {},
     "output_type": "execute_result"
    }
   ],
   "source": [
    "# for row in range(df.shape[0]):\n",
    "#     # print(row)\n",
    "#     # print(df[\"subtitles\"][row][0][\"name\"])\n",
    "#     # df['your column name'].isnull().values.any()\n",
    "#     if df[\"subtitles\"].isnull().values.any():\n",
    "#         print(df)\n",
    "df['subtitles'].isna().sum()"
   ]
  },
  {
   "cell_type": "markdown",
   "metadata": {},
   "source": [
    "#### Remove rows with NaN in place of \"subtitles\" col"
   ]
  },
  {
   "cell_type": "code",
   "execution_count": 16,
   "metadata": {},
   "outputs": [
    {
     "data": {
      "text/html": [
       "<div>\n",
       "<style scoped>\n",
       "    .dataframe tbody tr th:only-of-type {\n",
       "        vertical-align: middle;\n",
       "    }\n",
       "\n",
       "    .dataframe tbody tr th {\n",
       "        vertical-align: top;\n",
       "    }\n",
       "\n",
       "    .dataframe thead th {\n",
       "        text-align: right;\n",
       "    }\n",
       "</style>\n",
       "<table border=\"1\" class=\"dataframe\">\n",
       "  <thead>\n",
       "    <tr style=\"text-align: right;\">\n",
       "      <th></th>\n",
       "      <th>title</th>\n",
       "      <th>subtitles</th>\n",
       "      <th>time</th>\n",
       "    </tr>\n",
       "  </thead>\n",
       "  <tbody>\n",
       "    <tr>\n",
       "      <th>0</th>\n",
       "      <td>Building Search Word Database - Data Analysis of Google Tracking Takeout p.1</td>\n",
       "      <td>[{'name': 'sentdex', 'url': 'https://www.youtube.com/channel/UCfzlCWGWYyIQ0aLC5w48gBQ'}]</td>\n",
       "      <td>2022-07-04 06:25:34.777000+00:00</td>\n",
       "    </tr>\n",
       "    <tr>\n",
       "      <th>1</th>\n",
       "      <td>How to Use Google Takeout in 2022</td>\n",
       "      <td>[{'name': 'Richard Byrne', 'url': 'https://www.youtube.com/channel/UCylhHbAUoqgdN-XQpJPobOg'}]</td>\n",
       "      <td>2022-07-04 06:22:34.867000+00:00</td>\n",
       "    </tr>\n",
       "    <tr>\n",
       "      <th>2</th>\n",
       "      <td>How to Download Your Google Data || Google Takeout || Download your data in just one click</td>\n",
       "      <td>[{'name': 'Data Guru (Data Science)', 'url': 'https://www.youtube.com/channel/UCNeF1FuCGYsBEUnOxCk9Jnw'}]</td>\n",
       "      <td>2022-07-04 06:22:22.071000+00:00</td>\n",
       "    </tr>\n",
       "    <tr>\n",
       "      <th>3</th>\n",
       "      <td>Марш Українського війська \"Зродились ми великої години\"</td>\n",
       "      <td>[{'name': 'Ser General', 'url': 'https://www.youtube.com/channel/UCcqb9Dg54QJApLyVCrAT2hA'}]</td>\n",
       "      <td>2022-07-04 05:54:41.842000+00:00</td>\n",
       "    </tr>\n",
       "    <tr>\n",
       "      <th>4</th>\n",
       "      <td>Чорне і біле</td>\n",
       "      <td>[{'name': 'ZOZULYA - Topic', 'url': 'https://www.youtube.com/channel/UC75X5-UKZpSrCNNLfftJo2A'}]</td>\n",
       "      <td>2022-07-04 05:51:05.598000+00:00</td>\n",
       "    </tr>\n",
       "    <tr>\n",
       "      <th>...</th>\n",
       "      <td>...</td>\n",
       "      <td>...</td>\n",
       "      <td>...</td>\n",
       "    </tr>\n",
       "    <tr>\n",
       "      <th>3574</th>\n",
       "      <td>TARDIGRADE INFERNO - WE ARE NUMBER ONE (2019)</td>\n",
       "      <td>[{'name': 'Tardigrade Inferno', 'url': 'https://www.youtube.com/channel/UCm246J_436dbUOIHpra7J8A'}]</td>\n",
       "      <td>2022-04-06 10:35:36.057000+00:00</td>\n",
       "    </tr>\n",
       "    <tr>\n",
       "      <th>3575</th>\n",
       "      <td>Учасники «Чорнобаївського серіалу» боронять Миколаївщину</td>\n",
       "      <td>[{'name': 'АрміяInform', 'url': 'https://www.youtube.com/channel/UCh1JfbpcXFETuEMhOlllVhw'}]</td>\n",
       "      <td>2022-04-06 10:33:50.430000+00:00</td>\n",
       "    </tr>\n",
       "    <tr>\n",
       "      <th>3576</th>\n",
       "      <td>Звірства росіян у Бородянці. Катування мирних людей, розстріляний Шевченко та авіаудари по будинках</td>\n",
       "      <td>[{'name': 'STERNENKO', 'url': 'https://www.youtube.com/channel/UC5HBd4l_kpba5b0O1pK-Bfg'}]</td>\n",
       "      <td>2022-04-06 10:03:25.129000+00:00</td>\n",
       "    </tr>\n",
       "    <tr>\n",
       "      <th>3577</th>\n",
       "      <td>ЧОМУ НЕ БУВАЄ \"ХАРОШИХ РУССКИХ\"?</td>\n",
       "      <td>[{'name': 'Загін Кіноманів', 'url': 'https://www.youtube.com/channel/UCig7t6LFOjS2fKkhjbVLpjw'}]</td>\n",
       "      <td>2022-04-06 09:36:08.058000+00:00</td>\n",
       "    </tr>\n",
       "    <tr>\n",
       "      <th>3578</th>\n",
       "      <td>Як пропагандистка \"страни\" Крюкова за свою брехню відповідала – СТЕРНЕНКО НА ЗВ'ЯЗКУ</td>\n",
       "      <td>[{'name': 'STERNENKO', 'url': 'https://www.youtube.com/channel/UC5HBd4l_kpba5b0O1pK-Bfg'}]</td>\n",
       "      <td>2022-04-06 09:22:51.507000+00:00</td>\n",
       "    </tr>\n",
       "  </tbody>\n",
       "</table>\n",
       "<p>3579 rows × 3 columns</p>\n",
       "</div>"
      ],
      "text/plain": [
       "                                                                                                    title  \\\n",
       "0                            Building Search Word Database - Data Analysis of Google Tracking Takeout p.1   \n",
       "1                                                                       How to Use Google Takeout in 2022   \n",
       "2              How to Download Your Google Data || Google Takeout || Download your data in just one click   \n",
       "3                                                 Марш Українського війська \"Зродились ми великої години\"   \n",
       "4                                                                                            Чорне і біле   \n",
       "...                                                                                                   ...   \n",
       "3574                                                        TARDIGRADE INFERNO - WE ARE NUMBER ONE (2019)   \n",
       "3575                                             Учасники «Чорнобаївського серіалу» боронять Миколаївщину   \n",
       "3576  Звірства росіян у Бородянці. Катування мирних людей, розстріляний Шевченко та авіаудари по будинках   \n",
       "3577                                                                     ЧОМУ НЕ БУВАЄ \"ХАРОШИХ РУССКИХ\"?   \n",
       "3578                 Як пропагандистка \"страни\" Крюкова за свою брехню відповідала – СТЕРНЕНКО НА ЗВ'ЯЗКУ   \n",
       "\n",
       "                                                                                                      subtitles  \\\n",
       "0                      [{'name': 'sentdex', 'url': 'https://www.youtube.com/channel/UCfzlCWGWYyIQ0aLC5w48gBQ'}]   \n",
       "1                [{'name': 'Richard Byrne', 'url': 'https://www.youtube.com/channel/UCylhHbAUoqgdN-XQpJPobOg'}]   \n",
       "2     [{'name': 'Data Guru (Data Science)', 'url': 'https://www.youtube.com/channel/UCNeF1FuCGYsBEUnOxCk9Jnw'}]   \n",
       "3                  [{'name': 'Ser General', 'url': 'https://www.youtube.com/channel/UCcqb9Dg54QJApLyVCrAT2hA'}]   \n",
       "4              [{'name': 'ZOZULYA - Topic', 'url': 'https://www.youtube.com/channel/UC75X5-UKZpSrCNNLfftJo2A'}]   \n",
       "...                                                                                                         ...   \n",
       "3574        [{'name': 'Tardigrade Inferno', 'url': 'https://www.youtube.com/channel/UCm246J_436dbUOIHpra7J8A'}]   \n",
       "3575               [{'name': 'АрміяInform', 'url': 'https://www.youtube.com/channel/UCh1JfbpcXFETuEMhOlllVhw'}]   \n",
       "3576                 [{'name': 'STERNENKO', 'url': 'https://www.youtube.com/channel/UC5HBd4l_kpba5b0O1pK-Bfg'}]   \n",
       "3577           [{'name': 'Загін Кіноманів', 'url': 'https://www.youtube.com/channel/UCig7t6LFOjS2fKkhjbVLpjw'}]   \n",
       "3578                 [{'name': 'STERNENKO', 'url': 'https://www.youtube.com/channel/UC5HBd4l_kpba5b0O1pK-Bfg'}]   \n",
       "\n",
       "                                 time  \n",
       "0    2022-07-04 06:25:34.777000+00:00  \n",
       "1    2022-07-04 06:22:34.867000+00:00  \n",
       "2    2022-07-04 06:22:22.071000+00:00  \n",
       "3    2022-07-04 05:54:41.842000+00:00  \n",
       "4    2022-07-04 05:51:05.598000+00:00  \n",
       "...                               ...  \n",
       "3574 2022-04-06 10:35:36.057000+00:00  \n",
       "3575 2022-04-06 10:33:50.430000+00:00  \n",
       "3576 2022-04-06 10:03:25.129000+00:00  \n",
       "3577 2022-04-06 09:36:08.058000+00:00  \n",
       "3578 2022-04-06 09:22:51.507000+00:00  \n",
       "\n",
       "[3579 rows x 3 columns]"
      ]
     },
     "execution_count": 16,
     "metadata": {},
     "output_type": "execute_result"
    }
   ],
   "source": [
    "df = df[df[\"subtitles\"].notna()]\n",
    "df = df.reset_index(drop=True)\n",
    "df"
   ]
  },
  {
   "cell_type": "code",
   "execution_count": 17,
   "metadata": {},
   "outputs": [
    {
     "data": {
      "text/html": [
       "<div>\n",
       "<style scoped>\n",
       "    .dataframe tbody tr th:only-of-type {\n",
       "        vertical-align: middle;\n",
       "    }\n",
       "\n",
       "    .dataframe tbody tr th {\n",
       "        vertical-align: top;\n",
       "    }\n",
       "\n",
       "    .dataframe thead th {\n",
       "        text-align: right;\n",
       "    }\n",
       "</style>\n",
       "<table border=\"1\" class=\"dataframe\">\n",
       "  <thead>\n",
       "    <tr style=\"text-align: right;\">\n",
       "      <th></th>\n",
       "      <th>title</th>\n",
       "      <th>time</th>\n",
       "      <th>channel_name</th>\n",
       "    </tr>\n",
       "  </thead>\n",
       "  <tbody>\n",
       "    <tr>\n",
       "      <th>0</th>\n",
       "      <td>Building Search Word Database - Data Analysis of Google Tracking Takeout p.1</td>\n",
       "      <td>2022-07-04 06:25:34.777000+00:00</td>\n",
       "      <td>sentdex</td>\n",
       "    </tr>\n",
       "    <tr>\n",
       "      <th>1</th>\n",
       "      <td>How to Use Google Takeout in 2022</td>\n",
       "      <td>2022-07-04 06:22:34.867000+00:00</td>\n",
       "      <td>Richard Byrne</td>\n",
       "    </tr>\n",
       "    <tr>\n",
       "      <th>2</th>\n",
       "      <td>How to Download Your Google Data || Google Takeout || Download your data in just one click</td>\n",
       "      <td>2022-07-04 06:22:22.071000+00:00</td>\n",
       "      <td>Data Guru (Data Science)</td>\n",
       "    </tr>\n",
       "    <tr>\n",
       "      <th>3</th>\n",
       "      <td>Марш Українського війська \"Зродились ми великої години\"</td>\n",
       "      <td>2022-07-04 05:54:41.842000+00:00</td>\n",
       "      <td>Ser General</td>\n",
       "    </tr>\n",
       "    <tr>\n",
       "      <th>4</th>\n",
       "      <td>Чорне і біле</td>\n",
       "      <td>2022-07-04 05:51:05.598000+00:00</td>\n",
       "      <td>ZOZULYA - Topic</td>\n",
       "    </tr>\n",
       "    <tr>\n",
       "      <th>...</th>\n",
       "      <td>...</td>\n",
       "      <td>...</td>\n",
       "      <td>...</td>\n",
       "    </tr>\n",
       "    <tr>\n",
       "      <th>3574</th>\n",
       "      <td>TARDIGRADE INFERNO - WE ARE NUMBER ONE (2019)</td>\n",
       "      <td>2022-04-06 10:35:36.057000+00:00</td>\n",
       "      <td>Tardigrade Inferno</td>\n",
       "    </tr>\n",
       "    <tr>\n",
       "      <th>3575</th>\n",
       "      <td>Учасники «Чорнобаївського серіалу» боронять Миколаївщину</td>\n",
       "      <td>2022-04-06 10:33:50.430000+00:00</td>\n",
       "      <td>АрміяInform</td>\n",
       "    </tr>\n",
       "    <tr>\n",
       "      <th>3576</th>\n",
       "      <td>Звірства росіян у Бородянці. Катування мирних людей, розстріляний Шевченко та авіаудари по будинках</td>\n",
       "      <td>2022-04-06 10:03:25.129000+00:00</td>\n",
       "      <td>STERNENKO</td>\n",
       "    </tr>\n",
       "    <tr>\n",
       "      <th>3577</th>\n",
       "      <td>ЧОМУ НЕ БУВАЄ \"ХАРОШИХ РУССКИХ\"?</td>\n",
       "      <td>2022-04-06 09:36:08.058000+00:00</td>\n",
       "      <td>Загін Кіноманів</td>\n",
       "    </tr>\n",
       "    <tr>\n",
       "      <th>3578</th>\n",
       "      <td>Як пропагандистка \"страни\" Крюкова за свою брехню відповідала – СТЕРНЕНКО НА ЗВ'ЯЗКУ</td>\n",
       "      <td>2022-04-06 09:22:51.507000+00:00</td>\n",
       "      <td>STERNENKO</td>\n",
       "    </tr>\n",
       "  </tbody>\n",
       "</table>\n",
       "<p>3579 rows × 3 columns</p>\n",
       "</div>"
      ],
      "text/plain": [
       "                                                                                                    title  \\\n",
       "0                            Building Search Word Database - Data Analysis of Google Tracking Takeout p.1   \n",
       "1                                                                       How to Use Google Takeout in 2022   \n",
       "2              How to Download Your Google Data || Google Takeout || Download your data in just one click   \n",
       "3                                                 Марш Українського війська \"Зродились ми великої години\"   \n",
       "4                                                                                            Чорне і біле   \n",
       "...                                                                                                   ...   \n",
       "3574                                                        TARDIGRADE INFERNO - WE ARE NUMBER ONE (2019)   \n",
       "3575                                             Учасники «Чорнобаївського серіалу» боронять Миколаївщину   \n",
       "3576  Звірства росіян у Бородянці. Катування мирних людей, розстріляний Шевченко та авіаудари по будинках   \n",
       "3577                                                                     ЧОМУ НЕ БУВАЄ \"ХАРОШИХ РУССКИХ\"?   \n",
       "3578                 Як пропагандистка \"страни\" Крюкова за свою брехню відповідала – СТЕРНЕНКО НА ЗВ'ЯЗКУ   \n",
       "\n",
       "                                 time              channel_name  \n",
       "0    2022-07-04 06:25:34.777000+00:00                   sentdex  \n",
       "1    2022-07-04 06:22:34.867000+00:00             Richard Byrne  \n",
       "2    2022-07-04 06:22:22.071000+00:00  Data Guru (Data Science)  \n",
       "3    2022-07-04 05:54:41.842000+00:00               Ser General  \n",
       "4    2022-07-04 05:51:05.598000+00:00           ZOZULYA - Topic  \n",
       "...                               ...                       ...  \n",
       "3574 2022-04-06 10:35:36.057000+00:00        Tardigrade Inferno  \n",
       "3575 2022-04-06 10:33:50.430000+00:00               АрміяInform  \n",
       "3576 2022-04-06 10:03:25.129000+00:00                 STERNENKO  \n",
       "3577 2022-04-06 09:36:08.058000+00:00           Загін Кіноманів  \n",
       "3578 2022-04-06 09:22:51.507000+00:00                 STERNENKO  \n",
       "\n",
       "[3579 rows x 3 columns]"
      ]
     },
     "execution_count": 17,
     "metadata": {},
     "output_type": "execute_result"
    }
   ],
   "source": [
    "# for row in range(df.shape[0]):\n",
    "#     print(row)\n",
    "#     print(df[\"subtitles\"][row][0][\"name\"])\n",
    "df.shape[0]\n",
    "df[\"channel_name\"] = [df[\"subtitles\"][row][0][\"name\"] for row in range(df.shape[0])]\n",
    "df.drop([\"subtitles\"], axis=1, inplace=True)\n",
    "df"
   ]
  },
  {
   "cell_type": "code",
   "execution_count": 18,
   "metadata": {},
   "outputs": [
    {
     "name": "stdout",
     "output_type": "stream",
     "text": [
      "<class 'pandas.core.frame.DataFrame'>\n",
      "RangeIndex: 3579 entries, 0 to 3578\n",
      "Data columns (total 3 columns):\n",
      " #   Column        Non-Null Count  Dtype              \n",
      "---  ------        --------------  -----              \n",
      " 0   title         3579 non-null   object             \n",
      " 1   time          3579 non-null   datetime64[ns, UTC]\n",
      " 2   channel_name  3579 non-null   object             \n",
      "dtypes: datetime64[ns, UTC](1), object(2)\n",
      "memory usage: 84.0+ KB\n"
     ]
    }
   ],
   "source": [
    "df.info()"
   ]
  },
  {
   "cell_type": "markdown",
   "metadata": {},
   "source": [
    "#### Change dtypes to more suitable ones"
   ]
  },
  {
   "cell_type": "code",
   "execution_count": 19,
   "metadata": {},
   "outputs": [
    {
     "name": "stdout",
     "output_type": "stream",
     "text": [
      "<class 'pandas.core.frame.DataFrame'>\n",
      "RangeIndex: 3579 entries, 0 to 3578\n",
      "Data columns (total 3 columns):\n",
      " #   Column        Non-Null Count  Dtype              \n",
      "---  ------        --------------  -----              \n",
      " 0   title         3579 non-null   string             \n",
      " 1   time          3579 non-null   datetime64[ns, UTC]\n",
      " 2   channel_name  3579 non-null   string             \n",
      "dtypes: datetime64[ns, UTC](1), string(2)\n",
      "memory usage: 84.0 KB\n"
     ]
    }
   ],
   "source": [
    "colnames = [\"title\", \"channel_name\"]\n",
    "df[colnames] = df[colnames].astype(\"string\")\n",
    "df.info()"
   ]
  },
  {
   "cell_type": "code",
   "execution_count": 20,
   "metadata": {},
   "outputs": [
    {
     "data": {
      "text/html": [
       "<div>\n",
       "<style scoped>\n",
       "    .dataframe tbody tr th:only-of-type {\n",
       "        vertical-align: middle;\n",
       "    }\n",
       "\n",
       "    .dataframe tbody tr th {\n",
       "        vertical-align: top;\n",
       "    }\n",
       "\n",
       "    .dataframe thead th {\n",
       "        text-align: right;\n",
       "    }\n",
       "</style>\n",
       "<table border=\"1\" class=\"dataframe\">\n",
       "  <thead>\n",
       "    <tr style=\"text-align: right;\">\n",
       "      <th></th>\n",
       "      <th>title</th>\n",
       "      <th>time</th>\n",
       "      <th>channel_name</th>\n",
       "    </tr>\n",
       "  </thead>\n",
       "  <tbody>\n",
       "    <tr>\n",
       "      <th>0</th>\n",
       "      <td>Building Search Word Database - Data Analysis of Google Tracking Takeout p.1</td>\n",
       "      <td>2022-07-04 06:25:34.777000+00:00</td>\n",
       "      <td>sentdex</td>\n",
       "    </tr>\n",
       "    <tr>\n",
       "      <th>1</th>\n",
       "      <td>How to Use Google Takeout in 2022</td>\n",
       "      <td>2022-07-04 06:22:34.867000+00:00</td>\n",
       "      <td>Richard Byrne</td>\n",
       "    </tr>\n",
       "    <tr>\n",
       "      <th>2</th>\n",
       "      <td>How to Download Your Google Data || Google Takeout || Download your data in just one click</td>\n",
       "      <td>2022-07-04 06:22:22.071000+00:00</td>\n",
       "      <td>Data Guru (Data Science)</td>\n",
       "    </tr>\n",
       "    <tr>\n",
       "      <th>3</th>\n",
       "      <td>Марш Українського війська \"Зродились ми великої години\"</td>\n",
       "      <td>2022-07-04 05:54:41.842000+00:00</td>\n",
       "      <td>Ser General</td>\n",
       "    </tr>\n",
       "    <tr>\n",
       "      <th>4</th>\n",
       "      <td>Чорне і біле</td>\n",
       "      <td>2022-07-04 05:51:05.598000+00:00</td>\n",
       "      <td>ZOZULYA - Topic</td>\n",
       "    </tr>\n",
       "    <tr>\n",
       "      <th>...</th>\n",
       "      <td>...</td>\n",
       "      <td>...</td>\n",
       "      <td>...</td>\n",
       "    </tr>\n",
       "    <tr>\n",
       "      <th>3574</th>\n",
       "      <td>TARDIGRADE INFERNO - WE ARE NUMBER ONE (2019)</td>\n",
       "      <td>2022-04-06 10:35:36.057000+00:00</td>\n",
       "      <td>Tardigrade Inferno</td>\n",
       "    </tr>\n",
       "    <tr>\n",
       "      <th>3575</th>\n",
       "      <td>Учасники «Чорнобаївського серіалу» боронять Миколаївщину</td>\n",
       "      <td>2022-04-06 10:33:50.430000+00:00</td>\n",
       "      <td>АрміяInform</td>\n",
       "    </tr>\n",
       "    <tr>\n",
       "      <th>3576</th>\n",
       "      <td>Звірства росіян у Бородянці. Катування мирних людей, розстріляний Шевченко та авіаудари по будинках</td>\n",
       "      <td>2022-04-06 10:03:25.129000+00:00</td>\n",
       "      <td>STERNENKO</td>\n",
       "    </tr>\n",
       "    <tr>\n",
       "      <th>3577</th>\n",
       "      <td>ЧОМУ НЕ БУВАЄ \"ХАРОШИХ РУССКИХ\"?</td>\n",
       "      <td>2022-04-06 09:36:08.058000+00:00</td>\n",
       "      <td>Загін Кіноманів</td>\n",
       "    </tr>\n",
       "    <tr>\n",
       "      <th>3578</th>\n",
       "      <td>Як пропагандистка \"страни\" Крюкова за свою брехню відповідала – СТЕРНЕНКО НА ЗВ'ЯЗКУ</td>\n",
       "      <td>2022-04-06 09:22:51.507000+00:00</td>\n",
       "      <td>STERNENKO</td>\n",
       "    </tr>\n",
       "  </tbody>\n",
       "</table>\n",
       "<p>3579 rows × 3 columns</p>\n",
       "</div>"
      ],
      "text/plain": [
       "                                                                                                    title  \\\n",
       "0                            Building Search Word Database - Data Analysis of Google Tracking Takeout p.1   \n",
       "1                                                                       How to Use Google Takeout in 2022   \n",
       "2              How to Download Your Google Data || Google Takeout || Download your data in just one click   \n",
       "3                                                 Марш Українського війська \"Зродились ми великої години\"   \n",
       "4                                                                                            Чорне і біле   \n",
       "...                                                                                                   ...   \n",
       "3574                                                        TARDIGRADE INFERNO - WE ARE NUMBER ONE (2019)   \n",
       "3575                                             Учасники «Чорнобаївського серіалу» боронять Миколаївщину   \n",
       "3576  Звірства росіян у Бородянці. Катування мирних людей, розстріляний Шевченко та авіаудари по будинках   \n",
       "3577                                                                     ЧОМУ НЕ БУВАЄ \"ХАРОШИХ РУССКИХ\"?   \n",
       "3578                 Як пропагандистка \"страни\" Крюкова за свою брехню відповідала – СТЕРНЕНКО НА ЗВ'ЯЗКУ   \n",
       "\n",
       "                                 time              channel_name  \n",
       "0    2022-07-04 06:25:34.777000+00:00                   sentdex  \n",
       "1    2022-07-04 06:22:34.867000+00:00             Richard Byrne  \n",
       "2    2022-07-04 06:22:22.071000+00:00  Data Guru (Data Science)  \n",
       "3    2022-07-04 05:54:41.842000+00:00               Ser General  \n",
       "4    2022-07-04 05:51:05.598000+00:00           ZOZULYA - Topic  \n",
       "...                               ...                       ...  \n",
       "3574 2022-04-06 10:35:36.057000+00:00        Tardigrade Inferno  \n",
       "3575 2022-04-06 10:33:50.430000+00:00               АрміяInform  \n",
       "3576 2022-04-06 10:03:25.129000+00:00                 STERNENKO  \n",
       "3577 2022-04-06 09:36:08.058000+00:00           Загін Кіноманів  \n",
       "3578 2022-04-06 09:22:51.507000+00:00                 STERNENKO  \n",
       "\n",
       "[3579 rows x 3 columns]"
      ]
     },
     "execution_count": 20,
     "metadata": {},
     "output_type": "execute_result"
    }
   ],
   "source": [
    "df"
   ]
  },
  {
   "cell_type": "markdown",
   "metadata": {},
   "source": [
    "#### Rename col 'title' to 'video_title', so it's more descriptive"
   ]
  },
  {
   "cell_type": "code",
   "execution_count": 21,
   "metadata": {},
   "outputs": [
    {
     "data": {
      "text/html": [
       "<div>\n",
       "<style scoped>\n",
       "    .dataframe tbody tr th:only-of-type {\n",
       "        vertical-align: middle;\n",
       "    }\n",
       "\n",
       "    .dataframe tbody tr th {\n",
       "        vertical-align: top;\n",
       "    }\n",
       "\n",
       "    .dataframe thead th {\n",
       "        text-align: right;\n",
       "    }\n",
       "</style>\n",
       "<table border=\"1\" class=\"dataframe\">\n",
       "  <thead>\n",
       "    <tr style=\"text-align: right;\">\n",
       "      <th></th>\n",
       "      <th>video_title</th>\n",
       "      <th>time</th>\n",
       "      <th>channel_name</th>\n",
       "    </tr>\n",
       "  </thead>\n",
       "  <tbody>\n",
       "    <tr>\n",
       "      <th>0</th>\n",
       "      <td>Building Search Word Database - Data Analysis of Google Tracking Takeout p.1</td>\n",
       "      <td>2022-07-04 06:25:34.777000+00:00</td>\n",
       "      <td>sentdex</td>\n",
       "    </tr>\n",
       "    <tr>\n",
       "      <th>1</th>\n",
       "      <td>How to Use Google Takeout in 2022</td>\n",
       "      <td>2022-07-04 06:22:34.867000+00:00</td>\n",
       "      <td>Richard Byrne</td>\n",
       "    </tr>\n",
       "    <tr>\n",
       "      <th>2</th>\n",
       "      <td>How to Download Your Google Data || Google Takeout || Download your data in just one click</td>\n",
       "      <td>2022-07-04 06:22:22.071000+00:00</td>\n",
       "      <td>Data Guru (Data Science)</td>\n",
       "    </tr>\n",
       "    <tr>\n",
       "      <th>3</th>\n",
       "      <td>Марш Українського війська \"Зродились ми великої години\"</td>\n",
       "      <td>2022-07-04 05:54:41.842000+00:00</td>\n",
       "      <td>Ser General</td>\n",
       "    </tr>\n",
       "    <tr>\n",
       "      <th>4</th>\n",
       "      <td>Чорне і біле</td>\n",
       "      <td>2022-07-04 05:51:05.598000+00:00</td>\n",
       "      <td>ZOZULYA - Topic</td>\n",
       "    </tr>\n",
       "    <tr>\n",
       "      <th>...</th>\n",
       "      <td>...</td>\n",
       "      <td>...</td>\n",
       "      <td>...</td>\n",
       "    </tr>\n",
       "    <tr>\n",
       "      <th>3574</th>\n",
       "      <td>TARDIGRADE INFERNO - WE ARE NUMBER ONE (2019)</td>\n",
       "      <td>2022-04-06 10:35:36.057000+00:00</td>\n",
       "      <td>Tardigrade Inferno</td>\n",
       "    </tr>\n",
       "    <tr>\n",
       "      <th>3575</th>\n",
       "      <td>Учасники «Чорнобаївського серіалу» боронять Миколаївщину</td>\n",
       "      <td>2022-04-06 10:33:50.430000+00:00</td>\n",
       "      <td>АрміяInform</td>\n",
       "    </tr>\n",
       "    <tr>\n",
       "      <th>3576</th>\n",
       "      <td>Звірства росіян у Бородянці. Катування мирних людей, розстріляний Шевченко та авіаудари по будинках</td>\n",
       "      <td>2022-04-06 10:03:25.129000+00:00</td>\n",
       "      <td>STERNENKO</td>\n",
       "    </tr>\n",
       "    <tr>\n",
       "      <th>3577</th>\n",
       "      <td>ЧОМУ НЕ БУВАЄ \"ХАРОШИХ РУССКИХ\"?</td>\n",
       "      <td>2022-04-06 09:36:08.058000+00:00</td>\n",
       "      <td>Загін Кіноманів</td>\n",
       "    </tr>\n",
       "    <tr>\n",
       "      <th>3578</th>\n",
       "      <td>Як пропагандистка \"страни\" Крюкова за свою брехню відповідала – СТЕРНЕНКО НА ЗВ'ЯЗКУ</td>\n",
       "      <td>2022-04-06 09:22:51.507000+00:00</td>\n",
       "      <td>STERNENKO</td>\n",
       "    </tr>\n",
       "  </tbody>\n",
       "</table>\n",
       "<p>3579 rows × 3 columns</p>\n",
       "</div>"
      ],
      "text/plain": [
       "                                                                                              video_title  \\\n",
       "0                            Building Search Word Database - Data Analysis of Google Tracking Takeout p.1   \n",
       "1                                                                       How to Use Google Takeout in 2022   \n",
       "2              How to Download Your Google Data || Google Takeout || Download your data in just one click   \n",
       "3                                                 Марш Українського війська \"Зродились ми великої години\"   \n",
       "4                                                                                            Чорне і біле   \n",
       "...                                                                                                   ...   \n",
       "3574                                                        TARDIGRADE INFERNO - WE ARE NUMBER ONE (2019)   \n",
       "3575                                             Учасники «Чорнобаївського серіалу» боронять Миколаївщину   \n",
       "3576  Звірства росіян у Бородянці. Катування мирних людей, розстріляний Шевченко та авіаудари по будинках   \n",
       "3577                                                                     ЧОМУ НЕ БУВАЄ \"ХАРОШИХ РУССКИХ\"?   \n",
       "3578                 Як пропагандистка \"страни\" Крюкова за свою брехню відповідала – СТЕРНЕНКО НА ЗВ'ЯЗКУ   \n",
       "\n",
       "                                 time              channel_name  \n",
       "0    2022-07-04 06:25:34.777000+00:00                   sentdex  \n",
       "1    2022-07-04 06:22:34.867000+00:00             Richard Byrne  \n",
       "2    2022-07-04 06:22:22.071000+00:00  Data Guru (Data Science)  \n",
       "3    2022-07-04 05:54:41.842000+00:00               Ser General  \n",
       "4    2022-07-04 05:51:05.598000+00:00           ZOZULYA - Topic  \n",
       "...                               ...                       ...  \n",
       "3574 2022-04-06 10:35:36.057000+00:00        Tardigrade Inferno  \n",
       "3575 2022-04-06 10:33:50.430000+00:00               АрміяInform  \n",
       "3576 2022-04-06 10:03:25.129000+00:00                 STERNENKO  \n",
       "3577 2022-04-06 09:36:08.058000+00:00           Загін Кіноманів  \n",
       "3578 2022-04-06 09:22:51.507000+00:00                 STERNENKO  \n",
       "\n",
       "[3579 rows x 3 columns]"
      ]
     },
     "execution_count": 21,
     "metadata": {},
     "output_type": "execute_result"
    }
   ],
   "source": [
    "df.rename(columns={'title': 'video_title'}, inplace=True)\n",
    "df"
   ]
  }
 ],
 "metadata": {
  "kernelspec": {
   "display_name": "Python 3.10.2 64-bit",
   "language": "python",
   "name": "python3"
  },
  "language_info": {
   "codemirror_mode": {
    "name": "ipython",
    "version": 3
   },
   "file_extension": ".py",
   "mimetype": "text/x-python",
   "name": "python",
   "nbconvert_exporter": "python",
   "pygments_lexer": "ipython3",
   "version": "3.10.2"
  },
  "orig_nbformat": 4,
  "vscode": {
   "interpreter": {
    "hash": "372546374ee67f23bce4863fdb45197b8301cd73a13a929f5ade301179cf3c81"
   }
  }
 },
 "nbformat": 4,
 "nbformat_minor": 2
}
